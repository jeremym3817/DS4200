{
 "cells": [
  {
   "cell_type": "code",
   "execution_count": 3,
   "id": "09951c99-32e9-4c2e-a9d4-2f841e01c130",
   "metadata": {},
   "outputs": [],
   "source": [
    "import pandas as pd\n",
    "import plotly.express as px\n",
    "import numpy as np"
   ]
  },
  {
   "cell_type": "code",
   "execution_count": null,
   "id": "56647281-6697-4567-8045-7e25073b9f01",
   "metadata": {},
   "outputs": [],
   "source": []
  },
  {
   "cell_type": "code",
   "execution_count": 73,
   "id": "19641f88-e3ac-4d85-bd7f-6211b5b2b2d9",
   "metadata": {},
   "outputs": [
    {
     "data": {
      "text/html": [
       "<div>\n",
       "<style scoped>\n",
       "    .dataframe tbody tr th:only-of-type {\n",
       "        vertical-align: middle;\n",
       "    }\n",
       "\n",
       "    .dataframe tbody tr th {\n",
       "        vertical-align: top;\n",
       "    }\n",
       "\n",
       "    .dataframe thead th {\n",
       "        text-align: right;\n",
       "    }\n",
       "</style>\n",
       "<table border=\"1\" class=\"dataframe\">\n",
       "  <thead>\n",
       "    <tr style=\"text-align: right;\">\n",
       "      <th></th>\n",
       "      <th>Row ID</th>\n",
       "      <th>Order ID</th>\n",
       "      <th>Order Date</th>\n",
       "      <th>Ship Date</th>\n",
       "      <th>Ship Mode</th>\n",
       "      <th>Customer ID</th>\n",
       "      <th>Customer Name</th>\n",
       "      <th>Segment</th>\n",
       "      <th>Country</th>\n",
       "      <th>City</th>\n",
       "      <th>...</th>\n",
       "      <th>Product Name</th>\n",
       "      <th>Total_Sales</th>\n",
       "      <th>Quantity</th>\n",
       "      <th>Discount</th>\n",
       "      <th>Total_Profit</th>\n",
       "      <th>Code</th>\n",
       "      <th>Profit</th>\n",
       "      <th>Sales</th>\n",
       "      <th>Best_Selling_Category</th>\n",
       "      <th>Best_Selling_Sales</th>\n",
       "    </tr>\n",
       "  </thead>\n",
       "  <tbody>\n",
       "    <tr>\n",
       "      <th>0</th>\n",
       "      <td>80</td>\n",
       "      <td>CA-2016-127208</td>\n",
       "      <td>6/12/2016</td>\n",
       "      <td>6/15/2016</td>\n",
       "      <td>First Class</td>\n",
       "      <td>SC-20770</td>\n",
       "      <td>Stewart Carmichael</td>\n",
       "      <td>Corporate</td>\n",
       "      <td>United States</td>\n",
       "      <td>Decatur</td>\n",
       "      <td>...</td>\n",
       "      <td>1.7 Cubic Foot Compact \"Cube\" Office Refrigera...</td>\n",
       "      <td>208.16</td>\n",
       "      <td>1</td>\n",
       "      <td>0.0</td>\n",
       "      <td>56.2032</td>\n",
       "      <td>AL</td>\n",
       "      <td>5786.8253</td>\n",
       "      <td>19510.64</td>\n",
       "      <td>Technology</td>\n",
       "      <td>8969.08</td>\n",
       "    </tr>\n",
       "    <tr>\n",
       "      <th>1</th>\n",
       "      <td>81</td>\n",
       "      <td>CA-2016-127208</td>\n",
       "      <td>6/12/2016</td>\n",
       "      <td>6/15/2016</td>\n",
       "      <td>First Class</td>\n",
       "      <td>SC-20770</td>\n",
       "      <td>Stewart Carmichael</td>\n",
       "      <td>Corporate</td>\n",
       "      <td>United States</td>\n",
       "      <td>Decatur</td>\n",
       "      <td>...</td>\n",
       "      <td>Avery Heavy-Duty EZD  Binder With Locking Rings</td>\n",
       "      <td>16.74</td>\n",
       "      <td>3</td>\n",
       "      <td>0.0</td>\n",
       "      <td>8.0352</td>\n",
       "      <td>AL</td>\n",
       "      <td>5786.8253</td>\n",
       "      <td>19510.64</td>\n",
       "      <td>Technology</td>\n",
       "      <td>8969.08</td>\n",
       "    </tr>\n",
       "    <tr>\n",
       "      <th>2</th>\n",
       "      <td>534</td>\n",
       "      <td>CA-2016-168753</td>\n",
       "      <td>5/29/2016</td>\n",
       "      <td>6/1/2016</td>\n",
       "      <td>Second Class</td>\n",
       "      <td>RL-19615</td>\n",
       "      <td>Rob Lucas</td>\n",
       "      <td>Consumer</td>\n",
       "      <td>United States</td>\n",
       "      <td>Montgomery</td>\n",
       "      <td>...</td>\n",
       "      <td>Panasonic KX-TG9471B</td>\n",
       "      <td>979.95</td>\n",
       "      <td>5</td>\n",
       "      <td>0.0</td>\n",
       "      <td>274.3860</td>\n",
       "      <td>AL</td>\n",
       "      <td>5786.8253</td>\n",
       "      <td>19510.64</td>\n",
       "      <td>Technology</td>\n",
       "      <td>8969.08</td>\n",
       "    </tr>\n",
       "    <tr>\n",
       "      <th>3</th>\n",
       "      <td>535</td>\n",
       "      <td>CA-2016-168753</td>\n",
       "      <td>5/29/2016</td>\n",
       "      <td>6/1/2016</td>\n",
       "      <td>Second Class</td>\n",
       "      <td>RL-19615</td>\n",
       "      <td>Rob Lucas</td>\n",
       "      <td>Consumer</td>\n",
       "      <td>United States</td>\n",
       "      <td>Montgomery</td>\n",
       "      <td>...</td>\n",
       "      <td>Presstex Flexible Ring Binders</td>\n",
       "      <td>22.75</td>\n",
       "      <td>5</td>\n",
       "      <td>0.0</td>\n",
       "      <td>11.3750</td>\n",
       "      <td>AL</td>\n",
       "      <td>5786.8253</td>\n",
       "      <td>19510.64</td>\n",
       "      <td>Technology</td>\n",
       "      <td>8969.08</td>\n",
       "    </tr>\n",
       "    <tr>\n",
       "      <th>4</th>\n",
       "      <td>1270</td>\n",
       "      <td>CA-2017-100426</td>\n",
       "      <td>6/4/2017</td>\n",
       "      <td>6/8/2017</td>\n",
       "      <td>Standard Class</td>\n",
       "      <td>DC-12850</td>\n",
       "      <td>Dan Campbell</td>\n",
       "      <td>Consumer</td>\n",
       "      <td>United States</td>\n",
       "      <td>Florence</td>\n",
       "      <td>...</td>\n",
       "      <td>Ampad Phone Message Book, Recycled, 400 Messag...</td>\n",
       "      <td>12.48</td>\n",
       "      <td>2</td>\n",
       "      <td>0.0</td>\n",
       "      <td>5.6160</td>\n",
       "      <td>AL</td>\n",
       "      <td>5786.8253</td>\n",
       "      <td>19510.64</td>\n",
       "      <td>Technology</td>\n",
       "      <td>8969.08</td>\n",
       "    </tr>\n",
       "  </tbody>\n",
       "</table>\n",
       "<p>5 rows × 26 columns</p>\n",
       "</div>"
      ],
      "text/plain": [
       "   Row ID        Order ID Order Date  Ship Date       Ship Mode Customer ID  \\\n",
       "0      80  CA-2016-127208  6/12/2016  6/15/2016     First Class    SC-20770   \n",
       "1      81  CA-2016-127208  6/12/2016  6/15/2016     First Class    SC-20770   \n",
       "2     534  CA-2016-168753  5/29/2016   6/1/2016    Second Class    RL-19615   \n",
       "3     535  CA-2016-168753  5/29/2016   6/1/2016    Second Class    RL-19615   \n",
       "4    1270  CA-2017-100426   6/4/2017   6/8/2017  Standard Class    DC-12850   \n",
       "\n",
       "        Customer Name    Segment        Country        City  ...  \\\n",
       "0  Stewart Carmichael  Corporate  United States     Decatur  ...   \n",
       "1  Stewart Carmichael  Corporate  United States     Decatur  ...   \n",
       "2           Rob Lucas   Consumer  United States  Montgomery  ...   \n",
       "3           Rob Lucas   Consumer  United States  Montgomery  ...   \n",
       "4        Dan Campbell   Consumer  United States    Florence  ...   \n",
       "\n",
       "                                        Product Name  Total_Sales Quantity  \\\n",
       "0  1.7 Cubic Foot Compact \"Cube\" Office Refrigera...       208.16        1   \n",
       "1    Avery Heavy-Duty EZD  Binder With Locking Rings        16.74        3   \n",
       "2                               Panasonic KX-TG9471B       979.95        5   \n",
       "3                     Presstex Flexible Ring Binders        22.75        5   \n",
       "4  Ampad Phone Message Book, Recycled, 400 Messag...        12.48        2   \n",
       "\n",
       "  Discount Total_Profit Code     Profit     Sales  Best_Selling_Category  \\\n",
       "0      0.0      56.2032   AL  5786.8253  19510.64             Technology   \n",
       "1      0.0       8.0352   AL  5786.8253  19510.64             Technology   \n",
       "2      0.0     274.3860   AL  5786.8253  19510.64             Technology   \n",
       "3      0.0      11.3750   AL  5786.8253  19510.64             Technology   \n",
       "4      0.0       5.6160   AL  5786.8253  19510.64             Technology   \n",
       "\n",
       "   Best_Selling_Sales  \n",
       "0             8969.08  \n",
       "1             8969.08  \n",
       "2             8969.08  \n",
       "3             8969.08  \n",
       "4             8969.08  \n",
       "\n",
       "[5 rows x 26 columns]"
      ]
     },
     "execution_count": 73,
     "metadata": {},
     "output_type": "execute_result"
    }
   ],
   "source": [
    "ss = pd.read_csv(\"C:/Users/Jerem/Documents/NU SPRING 2025/DS4200 INFO PRES/PROJECT/DS4200/CSV_FILE/Superstore.csv\",\n",
    "                encoding=\"ISO-8859-1\")\n",
    "\n",
    "state_abbreviations = {\n",
    "    'Alabama': 'AL', 'Alaska': 'AK', 'Arizona': 'AZ', 'Arkansas': 'AR', 'California': 'CA',\n",
    "    'Colorado': 'CO', 'Connecticut': 'CT', 'Delaware': 'DE', 'Florida': 'FL', 'Georgia': 'GA',\n",
    "    'Hawaii': 'HI', 'Idaho': 'ID', 'Illinois': 'IL', 'Indiana': 'IN', 'Iowa': 'IA',\n",
    "    'Kansas': 'KS', 'Kentucky': 'KY', 'Louisiana': 'LA', 'Maine': 'ME', 'Maryland': 'MD',\n",
    "    'Massachusetts': 'MA', 'Michigan': 'MI', 'Minnesota': 'MN', 'Mississippi': 'MS',\n",
    "    'Missouri': 'MO', 'Montana': 'MT', 'Nebraska': 'NE', 'Nevada': 'NV', 'New Hampshire': 'NH',\n",
    "    'New Jersey': 'NJ', 'New Mexico': 'NM', 'New York': 'NY', 'North Carolina': 'NC',\n",
    "    'North Dakota': 'ND', 'Ohio': 'OH', 'Oklahoma': 'OK', 'Oregon': 'OR', 'Pennsylvania': 'PA',\n",
    "    'Rhode Island': 'RI', 'South Carolina': 'SC', 'South Dakota': 'SD', 'Tennessee': 'TN',\n",
    "    'Texas': 'TX', 'Utah': 'UT', 'Vermont': 'VT', 'Virginia': 'VA', 'Washington': 'WA',\n",
    "    'West Virginia': 'WV', 'Wisconsin': 'WI', 'Wyoming': 'WY', 'District of Columbia': 'DC'\n",
    "}\n",
    "\n",
    "ss['Code'] = ss['State'].map(state_abbreviations)\n",
    "\n",
    "profit_per_state = ss.groupby('Code')['Profit'].sum().reset_index()\n",
    "sales_per_state = ss.groupby('Code')['Sales'].sum().reset_index()\n",
    "\n",
    "category_sales = ss.groupby(['Code', 'Category'])['Sales'].sum().reset_index()\n",
    "best_category_per_state = category_sales.loc[category_sales.groupby('Code')['Sales'].idxmax()]\n",
    "best_category_per_state.rename(columns={'Category': 'Best_Selling_Category', 'Sales': 'Best_Selling_Sales'}, inplace=True)\n",
    "\n",
    "ss.rename(columns={'Profit': 'Total_Profit', 'Sales': 'Total_Sales'}, inplace=True)\n",
    "\n",
    "\n",
    "ss = pd.merge(ss, profit_per_state, left_on='Code', right_on='Code', how='outer')\n",
    "ss = pd.merge(ss, sales_per_state, left_on='Code', right_on='Code', how='outer')\n",
    "ss = pd.merge(ss, best_category_per_state, left_on='Code', right_on='Code', how='outer')\n",
    "\n",
    "ss.head()"
   ]
  },
  {
   "cell_type": "code",
   "execution_count": 147,
   "id": "f81b7eba-9924-4f13-bf66-3c4a528de004",
   "metadata": {},
   "outputs": [
    {
     "data": {
      "application/vnd.plotly.v1+json": {
       "config": {
        "plotlyServerURL": "https://plot.ly"
       },
       "data": [
        {
         "coloraxis": "coloraxis",
         "customdata": [
          [
           1190149.04,
           "Office Supplies"
          ],
          [
           7903168.223999999,
           "Office Supplies"
          ],
          [
           700687.7999999999,
           "Office Supplies"
          ],
          [
           915832950.6315,
           "Office Supplies"
          ],
          [
           5843677.476,
           "Office Supplies"
          ],
          [
           1097517.274,
           "Office Supplies"
          ],
          [
           2635302.624,
           "Office Supplies"
          ],
          [
           28650.2,
           "Office Supplies"
          ],
          [
           34268430.164,
           "Office Supplies"
          ],
          [
           9033634.559999999,
           "Office Supplies"
          ],
          [
           92032.20599999999,
           "Office Supplies"
          ],
          [
           39441721.691999994,
           "Office Supplies"
          ],
          [
           7979748.64,
           "Office Supplies"
          ],
          [
           137392.80000000002,
           "Office Supplies"
          ],
          [
           69943.44,
           "Office Supplies"
          ],
          [
           5086253.25,
           "Office Supplies"
          ],
          [
           387115.26,
           "Office Supplies"
          ],
          [
           10164.24,
           "Office Supplies"
          ],
          [
           2489079.915,
           "Office Supplies"
          ],
          [
           3865648.5900000003,
           "Office Supplies"
          ],
          [
           19448751.57,
           "Office Supplies"
          ],
          [
           2657820.35,
           "Office Supplies"
          ],
          [
           570881.02,
           "Office Supplies"
          ],
          [
           1465539.9000000001,
           "Office Supplies"
          ],
          [
           83840.28,
           "Office Supplies"
          ],
          [
           283667.34,
           "Office Supplies"
          ],
          [
           652434.978,
           "Office Supplies"
          ],
          [
           196898.14800000002,
           "Office Supplies"
          ],
          [
           4649360.56,
           "Office Supplies"
          ],
          [
           176990.31399999998,
           "Office Supplies"
          ],
          [
           350668433.688,
           "Office Supplies"
          ],
          [
           13845187.836,
           "Office Supplies"
          ],
          [
           6439.37,
           "Office Supplies"
          ],
          [
           36703065.784,
           "Office Supplies"
          ],
          [
           1299103.74,
           "Office Supplies"
          ],
          [
           2161462.6,
           "Office Supplies"
          ],
          [
           68392493.518,
           "Office Supplies"
          ],
          [
           1267165.5359999998,
           "Office Supplies"
          ],
          [
           356231.81999999995,
           "Office Supplies"
          ],
          [
           15786.72,
           "Office Supplies"
          ],
          [
           5611122.759,
           "Office Supplies"
          ],
          [
           167635225.113,
           "Office Supplies"
          ],
          [
           594662.968,
           "Office Supplies"
          ],
          [
           98223.06999999999,
           "Office Supplies"
          ],
          [
           15822625.280000001,
           "Office Supplies"
          ],
          [
           70152482.61999999,
           "Office Supplies"
          ],
          [
           4839.296,
           "Office Supplies"
          ],
          [
           3532607.1,
           "Office Supplies"
          ],
          [
           1603.136,
           "Furniture"
          ]
         ],
         "geo": "geo",
         "hovertemplate": "<b>%{hovertext}</b><br><br>Code=%{location}<br>Sales=%{customdata[0]}<br>Best_Selling_Category=%{customdata[1]}<br>Profit=%{z}<extra></extra>",
         "hovertext": [
          "Alabama",
          "Arizona",
          "Arkansas",
          "California",
          "Colorado",
          "Connecticut",
          "Delaware",
          "District of Columbia",
          "Florida",
          "Georgia",
          "Idaho",
          "Illinois",
          "Indiana",
          "Iowa",
          "Kansas",
          "Kentucky",
          "Louisiana",
          "Maine",
          "Maryland",
          "Massachusetts",
          "Michigan",
          "Minnesota",
          "Mississippi",
          "Missouri",
          "Montana",
          "Nebraska",
          "Nevada",
          "New Hampshire",
          "New Jersey",
          "New Mexico",
          "New York",
          "North Carolina",
          "North Dakota",
          "Ohio",
          "Oklahoma",
          "Oregon",
          "Pennsylvania",
          "Rhode Island",
          "South Carolina",
          "South Dakota",
          "Tennessee",
          "Texas",
          "Utah",
          "Vermont",
          "Virginia",
          "Washington",
          "West Virginia",
          "Wisconsin",
          "Wyoming"
         ],
         "locationmode": "USA-states",
         "locations": [
          "AL",
          "AZ",
          "AR",
          "CA",
          "CO",
          "CT",
          "DE",
          "DC",
          "FL",
          "GA",
          "ID",
          "IL",
          "IN",
          "IA",
          "KS",
          "KY",
          "LA",
          "ME",
          "MD",
          "MA",
          "MI",
          "MN",
          "MS",
          "MO",
          "MT",
          "NE",
          "NV",
          "NH",
          "NJ",
          "NM",
          "NY",
          "NC",
          "ND",
          "OH",
          "OK",
          "OR",
          "PA",
          "RI",
          "SC",
          "SD",
          "TN",
          "TX",
          "UT",
          "VT",
          "VA",
          "WA",
          "WV",
          "WI",
          "WY"
         ],
         "name": "",
         "type": "choropleth",
         "z": [
          352996.3433,
          -767855.1104,
          240521.226,
          152839155.5871,
          -1188070.1378,
          287942.32759999996,
          957827.9808,
          10595.892999999998,
          -1301932.5511000003,
          2990007.9672,
          17361.185100000002,
          -6203080.404,
          2739057.5087,
          35514.356999999996,
          20074.644,
          1556757.8273999998,
          92236.2966,
          3635.8896,
          738273.774,
          916042.716,
          6238112.838,
          963263.6786000001,
          168167.7386,
          424789.893,
          27499.9275,
          77409.57960000001,
          129353.8701,
          46075.5756,
          1270478.794,
          42813.295699999995,
          83515482.82079999,
          -1865237.1378,
          1611.0479,
          -7959575.6254,
          320361.096,
          -147618.34199999998,
          -9133696.6961,
          407995.2408,
          74300.37719999999,
          4737.9396,
          -977529.9287999999,
          -25343415.9555,
          134966.2755,
          24694.7613,
          4165940.8896000003,
          16901741.7602,
          743.6864,
          924198.044,
          100.196
         ]
        }
       ],
       "layout": {
        "autosize": true,
        "coloraxis": {
         "cmax": 152839155.5871,
         "cmin": -25343415.9555,
         "colorbar": {
          "title": {
           "text": "Profit"
          }
         },
         "colorscale": [
          [
           0,
           "rgb(165,0,38)"
          ],
          [
           0.1,
           "rgb(215,48,39)"
          ],
          [
           0.2,
           "rgb(244,109,67)"
          ],
          [
           0.3,
           "rgb(253,174,97)"
          ],
          [
           0.4,
           "rgb(254,224,139)"
          ],
          [
           0.5,
           "rgb(255,255,191)"
          ],
          [
           0.6,
           "rgb(217,239,139)"
          ],
          [
           0.7,
           "rgb(166,217,106)"
          ],
          [
           0.8,
           "rgb(102,189,99)"
          ],
          [
           0.9,
           "rgb(26,152,80)"
          ],
          [
           1,
           "rgb(0,104,55)"
          ]
         ]
        },
        "geo": {
         "center": {
          "lat": 37.619950029293335,
          "lon": -80.5482585167322
         },
         "domain": {
          "x": [
           0,
           1
          ],
          "y": [
           0,
           1
          ]
         },
         "projection": {
          "scale": 0.6631501394842922
         },
         "scope": "usa"
        },
        "legend": {
         "tracegroupgap": 0
        },
        "margin": {
         "t": 60
        },
        "template": {
         "data": {
          "bar": [
           {
            "error_x": {
             "color": "#2a3f5f"
            },
            "error_y": {
             "color": "#2a3f5f"
            },
            "marker": {
             "line": {
              "color": "#E5ECF6",
              "width": 0.5
             },
             "pattern": {
              "fillmode": "overlay",
              "size": 10,
              "solidity": 0.2
             }
            },
            "type": "bar"
           }
          ],
          "barpolar": [
           {
            "marker": {
             "line": {
              "color": "#E5ECF6",
              "width": 0.5
             },
             "pattern": {
              "fillmode": "overlay",
              "size": 10,
              "solidity": 0.2
             }
            },
            "type": "barpolar"
           }
          ],
          "carpet": [
           {
            "aaxis": {
             "endlinecolor": "#2a3f5f",
             "gridcolor": "white",
             "linecolor": "white",
             "minorgridcolor": "white",
             "startlinecolor": "#2a3f5f"
            },
            "baxis": {
             "endlinecolor": "#2a3f5f",
             "gridcolor": "white",
             "linecolor": "white",
             "minorgridcolor": "white",
             "startlinecolor": "#2a3f5f"
            },
            "type": "carpet"
           }
          ],
          "choropleth": [
           {
            "colorbar": {
             "outlinewidth": 0,
             "ticks": ""
            },
            "type": "choropleth"
           }
          ],
          "contour": [
           {
            "colorbar": {
             "outlinewidth": 0,
             "ticks": ""
            },
            "colorscale": [
             [
              0,
              "#0d0887"
             ],
             [
              0.1111111111111111,
              "#46039f"
             ],
             [
              0.2222222222222222,
              "#7201a8"
             ],
             [
              0.3333333333333333,
              "#9c179e"
             ],
             [
              0.4444444444444444,
              "#bd3786"
             ],
             [
              0.5555555555555556,
              "#d8576b"
             ],
             [
              0.6666666666666666,
              "#ed7953"
             ],
             [
              0.7777777777777778,
              "#fb9f3a"
             ],
             [
              0.8888888888888888,
              "#fdca26"
             ],
             [
              1,
              "#f0f921"
             ]
            ],
            "type": "contour"
           }
          ],
          "contourcarpet": [
           {
            "colorbar": {
             "outlinewidth": 0,
             "ticks": ""
            },
            "type": "contourcarpet"
           }
          ],
          "heatmap": [
           {
            "colorbar": {
             "outlinewidth": 0,
             "ticks": ""
            },
            "colorscale": [
             [
              0,
              "#0d0887"
             ],
             [
              0.1111111111111111,
              "#46039f"
             ],
             [
              0.2222222222222222,
              "#7201a8"
             ],
             [
              0.3333333333333333,
              "#9c179e"
             ],
             [
              0.4444444444444444,
              "#bd3786"
             ],
             [
              0.5555555555555556,
              "#d8576b"
             ],
             [
              0.6666666666666666,
              "#ed7953"
             ],
             [
              0.7777777777777778,
              "#fb9f3a"
             ],
             [
              0.8888888888888888,
              "#fdca26"
             ],
             [
              1,
              "#f0f921"
             ]
            ],
            "type": "heatmap"
           }
          ],
          "heatmapgl": [
           {
            "colorbar": {
             "outlinewidth": 0,
             "ticks": ""
            },
            "colorscale": [
             [
              0,
              "#0d0887"
             ],
             [
              0.1111111111111111,
              "#46039f"
             ],
             [
              0.2222222222222222,
              "#7201a8"
             ],
             [
              0.3333333333333333,
              "#9c179e"
             ],
             [
              0.4444444444444444,
              "#bd3786"
             ],
             [
              0.5555555555555556,
              "#d8576b"
             ],
             [
              0.6666666666666666,
              "#ed7953"
             ],
             [
              0.7777777777777778,
              "#fb9f3a"
             ],
             [
              0.8888888888888888,
              "#fdca26"
             ],
             [
              1,
              "#f0f921"
             ]
            ],
            "type": "heatmapgl"
           }
          ],
          "histogram": [
           {
            "marker": {
             "pattern": {
              "fillmode": "overlay",
              "size": 10,
              "solidity": 0.2
             }
            },
            "type": "histogram"
           }
          ],
          "histogram2d": [
           {
            "colorbar": {
             "outlinewidth": 0,
             "ticks": ""
            },
            "colorscale": [
             [
              0,
              "#0d0887"
             ],
             [
              0.1111111111111111,
              "#46039f"
             ],
             [
              0.2222222222222222,
              "#7201a8"
             ],
             [
              0.3333333333333333,
              "#9c179e"
             ],
             [
              0.4444444444444444,
              "#bd3786"
             ],
             [
              0.5555555555555556,
              "#d8576b"
             ],
             [
              0.6666666666666666,
              "#ed7953"
             ],
             [
              0.7777777777777778,
              "#fb9f3a"
             ],
             [
              0.8888888888888888,
              "#fdca26"
             ],
             [
              1,
              "#f0f921"
             ]
            ],
            "type": "histogram2d"
           }
          ],
          "histogram2dcontour": [
           {
            "colorbar": {
             "outlinewidth": 0,
             "ticks": ""
            },
            "colorscale": [
             [
              0,
              "#0d0887"
             ],
             [
              0.1111111111111111,
              "#46039f"
             ],
             [
              0.2222222222222222,
              "#7201a8"
             ],
             [
              0.3333333333333333,
              "#9c179e"
             ],
             [
              0.4444444444444444,
              "#bd3786"
             ],
             [
              0.5555555555555556,
              "#d8576b"
             ],
             [
              0.6666666666666666,
              "#ed7953"
             ],
             [
              0.7777777777777778,
              "#fb9f3a"
             ],
             [
              0.8888888888888888,
              "#fdca26"
             ],
             [
              1,
              "#f0f921"
             ]
            ],
            "type": "histogram2dcontour"
           }
          ],
          "mesh3d": [
           {
            "colorbar": {
             "outlinewidth": 0,
             "ticks": ""
            },
            "type": "mesh3d"
           }
          ],
          "parcoords": [
           {
            "line": {
             "colorbar": {
              "outlinewidth": 0,
              "ticks": ""
             }
            },
            "type": "parcoords"
           }
          ],
          "pie": [
           {
            "automargin": true,
            "type": "pie"
           }
          ],
          "scatter": [
           {
            "fillpattern": {
             "fillmode": "overlay",
             "size": 10,
             "solidity": 0.2
            },
            "type": "scatter"
           }
          ],
          "scatter3d": [
           {
            "line": {
             "colorbar": {
              "outlinewidth": 0,
              "ticks": ""
             }
            },
            "marker": {
             "colorbar": {
              "outlinewidth": 0,
              "ticks": ""
             }
            },
            "type": "scatter3d"
           }
          ],
          "scattercarpet": [
           {
            "marker": {
             "colorbar": {
              "outlinewidth": 0,
              "ticks": ""
             }
            },
            "type": "scattercarpet"
           }
          ],
          "scattergeo": [
           {
            "marker": {
             "colorbar": {
              "outlinewidth": 0,
              "ticks": ""
             }
            },
            "type": "scattergeo"
           }
          ],
          "scattergl": [
           {
            "marker": {
             "colorbar": {
              "outlinewidth": 0,
              "ticks": ""
             }
            },
            "type": "scattergl"
           }
          ],
          "scattermapbox": [
           {
            "marker": {
             "colorbar": {
              "outlinewidth": 0,
              "ticks": ""
             }
            },
            "type": "scattermapbox"
           }
          ],
          "scatterpolar": [
           {
            "marker": {
             "colorbar": {
              "outlinewidth": 0,
              "ticks": ""
             }
            },
            "type": "scatterpolar"
           }
          ],
          "scatterpolargl": [
           {
            "marker": {
             "colorbar": {
              "outlinewidth": 0,
              "ticks": ""
             }
            },
            "type": "scatterpolargl"
           }
          ],
          "scatterternary": [
           {
            "marker": {
             "colorbar": {
              "outlinewidth": 0,
              "ticks": ""
             }
            },
            "type": "scatterternary"
           }
          ],
          "surface": [
           {
            "colorbar": {
             "outlinewidth": 0,
             "ticks": ""
            },
            "colorscale": [
             [
              0,
              "#0d0887"
             ],
             [
              0.1111111111111111,
              "#46039f"
             ],
             [
              0.2222222222222222,
              "#7201a8"
             ],
             [
              0.3333333333333333,
              "#9c179e"
             ],
             [
              0.4444444444444444,
              "#bd3786"
             ],
             [
              0.5555555555555556,
              "#d8576b"
             ],
             [
              0.6666666666666666,
              "#ed7953"
             ],
             [
              0.7777777777777778,
              "#fb9f3a"
             ],
             [
              0.8888888888888888,
              "#fdca26"
             ],
             [
              1,
              "#f0f921"
             ]
            ],
            "type": "surface"
           }
          ],
          "table": [
           {
            "cells": {
             "fill": {
              "color": "#EBF0F8"
             },
             "line": {
              "color": "white"
             }
            },
            "header": {
             "fill": {
              "color": "#C8D4E3"
             },
             "line": {
              "color": "white"
             }
            },
            "type": "table"
           }
          ]
         },
         "layout": {
          "annotationdefaults": {
           "arrowcolor": "#2a3f5f",
           "arrowhead": 0,
           "arrowwidth": 1
          },
          "autotypenumbers": "strict",
          "coloraxis": {
           "colorbar": {
            "outlinewidth": 0,
            "ticks": ""
           }
          },
          "colorscale": {
           "diverging": [
            [
             0,
             "#8e0152"
            ],
            [
             0.1,
             "#c51b7d"
            ],
            [
             0.2,
             "#de77ae"
            ],
            [
             0.3,
             "#f1b6da"
            ],
            [
             0.4,
             "#fde0ef"
            ],
            [
             0.5,
             "#f7f7f7"
            ],
            [
             0.6,
             "#e6f5d0"
            ],
            [
             0.7,
             "#b8e186"
            ],
            [
             0.8,
             "#7fbc41"
            ],
            [
             0.9,
             "#4d9221"
            ],
            [
             1,
             "#276419"
            ]
           ],
           "sequential": [
            [
             0,
             "#0d0887"
            ],
            [
             0.1111111111111111,
             "#46039f"
            ],
            [
             0.2222222222222222,
             "#7201a8"
            ],
            [
             0.3333333333333333,
             "#9c179e"
            ],
            [
             0.4444444444444444,
             "#bd3786"
            ],
            [
             0.5555555555555556,
             "#d8576b"
            ],
            [
             0.6666666666666666,
             "#ed7953"
            ],
            [
             0.7777777777777778,
             "#fb9f3a"
            ],
            [
             0.8888888888888888,
             "#fdca26"
            ],
            [
             1,
             "#f0f921"
            ]
           ],
           "sequentialminus": [
            [
             0,
             "#0d0887"
            ],
            [
             0.1111111111111111,
             "#46039f"
            ],
            [
             0.2222222222222222,
             "#7201a8"
            ],
            [
             0.3333333333333333,
             "#9c179e"
            ],
            [
             0.4444444444444444,
             "#bd3786"
            ],
            [
             0.5555555555555556,
             "#d8576b"
            ],
            [
             0.6666666666666666,
             "#ed7953"
            ],
            [
             0.7777777777777778,
             "#fb9f3a"
            ],
            [
             0.8888888888888888,
             "#fdca26"
            ],
            [
             1,
             "#f0f921"
            ]
           ]
          },
          "colorway": [
           "#636efa",
           "#EF553B",
           "#00cc96",
           "#ab63fa",
           "#FFA15A",
           "#19d3f3",
           "#FF6692",
           "#B6E880",
           "#FF97FF",
           "#FECB52"
          ],
          "font": {
           "color": "#2a3f5f"
          },
          "geo": {
           "bgcolor": "white",
           "lakecolor": "white",
           "landcolor": "#E5ECF6",
           "showlakes": true,
           "showland": true,
           "subunitcolor": "white"
          },
          "hoverlabel": {
           "align": "left"
          },
          "hovermode": "closest",
          "mapbox": {
           "style": "light"
          },
          "paper_bgcolor": "white",
          "plot_bgcolor": "#E5ECF6",
          "polar": {
           "angularaxis": {
            "gridcolor": "white",
            "linecolor": "white",
            "ticks": ""
           },
           "bgcolor": "#E5ECF6",
           "radialaxis": {
            "gridcolor": "white",
            "linecolor": "white",
            "ticks": ""
           }
          },
          "scene": {
           "xaxis": {
            "backgroundcolor": "#E5ECF6",
            "gridcolor": "white",
            "gridwidth": 2,
            "linecolor": "white",
            "showbackground": true,
            "ticks": "",
            "zerolinecolor": "white"
           },
           "yaxis": {
            "backgroundcolor": "#E5ECF6",
            "gridcolor": "white",
            "gridwidth": 2,
            "linecolor": "white",
            "showbackground": true,
            "ticks": "",
            "zerolinecolor": "white"
           },
           "zaxis": {
            "backgroundcolor": "#E5ECF6",
            "gridcolor": "white",
            "gridwidth": 2,
            "linecolor": "white",
            "showbackground": true,
            "ticks": "",
            "zerolinecolor": "white"
           }
          },
          "shapedefaults": {
           "line": {
            "color": "#2a3f5f"
           }
          },
          "ternary": {
           "aaxis": {
            "gridcolor": "white",
            "linecolor": "white",
            "ticks": ""
           },
           "baxis": {
            "gridcolor": "white",
            "linecolor": "white",
            "ticks": ""
           },
           "bgcolor": "#E5ECF6",
           "caxis": {
            "gridcolor": "white",
            "linecolor": "white",
            "ticks": ""
           }
          },
          "title": {
           "x": 0.05
          },
          "xaxis": {
           "automargin": true,
           "gridcolor": "white",
           "linecolor": "white",
           "ticks": "",
           "title": {
            "standoff": 15
           },
           "zerolinecolor": "white",
           "zerolinewidth": 2
          },
          "yaxis": {
           "automargin": true,
           "gridcolor": "white",
           "linecolor": "white",
           "ticks": "",
           "title": {
            "standoff": 15
           },
           "zerolinecolor": "white",
           "zerolinewidth": 2
          }
         }
        },
        "title": {
         "text": "Superstore Profit by State (with Best-Selling Category)",
         "x": 0.5
        }
       }
      },
      "image/png": "[encoded data removed]",
      "text/html": [
       "<div>                            <div id=\"a0d5aa5a-a4a2-4000-b14c-97b17c8d08c9\" class=\"plotly-graph-div\" style=\"height:525px; width:100%;\"></div>            <script type=\"text/javascript\">                require([\"plotly\"], function(Plotly) {                    window.PLOTLYENV=window.PLOTLYENV || {};                                    if (document.getElementById(\"a0d5aa5a-a4a2-4000-b14c-97b17c8d08c9\")) {                    Plotly.newPlot(                        \"a0d5aa5a-a4a2-4000-b14c-97b17c8d08c9\",                        [{\"coloraxis\":\"coloraxis\",\"customdata\":[[1190149.04,\"Office Supplies\"],[7903168.223999999,\"Office Supplies\"],[700687.7999999999,\"Office Supplies\"],[915832950.6315,\"Office Supplies\"],[5843677.476,\"Office Supplies\"],[1097517.274,\"Office Supplies\"],[2635302.624,\"Office Supplies\"],[28650.2,\"Office Supplies\"],[34268430.164,\"Office Supplies\"],[9033634.559999999,\"Office Supplies\"],[92032.20599999999,\"Office Supplies\"],[39441721.691999994,\"Office Supplies\"],[7979748.64,\"Office Supplies\"],[137392.80000000002,\"Office Supplies\"],[69943.44,\"Office Supplies\"],[5086253.25,\"Office Supplies\"],[387115.26,\"Office Supplies\"],[10164.24,\"Office Supplies\"],[2489079.915,\"Office Supplies\"],[3865648.5900000003,\"Office Supplies\"],[19448751.57,\"Office Supplies\"],[2657820.35,\"Office Supplies\"],[570881.02,\"Office Supplies\"],[1465539.9000000001,\"Office Supplies\"],[83840.28,\"Office Supplies\"],[283667.34,\"Office Supplies\"],[652434.978,\"Office Supplies\"],[196898.14800000002,\"Office Supplies\"],[4649360.56,\"Office Supplies\"],[176990.31399999998,\"Office Supplies\"],[350668433.688,\"Office Supplies\"],[13845187.836,\"Office Supplies\"],[6439.37,\"Office Supplies\"],[36703065.784,\"Office Supplies\"],[1299103.74,\"Office Supplies\"],[2161462.6,\"Office Supplies\"],[68392493.518,\"Office Supplies\"],[1267165.5359999998,\"Office Supplies\"],[356231.81999999995,\"Office Supplies\"],[15786.72,\"Office Supplies\"],[5611122.759,\"Office Supplies\"],[167635225.113,\"Office Supplies\"],[594662.968,\"Office Supplies\"],[98223.06999999999,\"Office Supplies\"],[15822625.280000001,\"Office Supplies\"],[70152482.61999999,\"Office Supplies\"],[4839.296,\"Office Supplies\"],[3532607.1,\"Office Supplies\"],[1603.136,\"Furniture\"]],\"geo\":\"geo\",\"hovertemplate\":\"\\u003cb\\u003e%{hovertext}\\u003c\\u002fb\\u003e\\u003cbr\\u003e\\u003cbr\\u003eCode=%{location}\\u003cbr\\u003eSales=%{customdata[0]}\\u003cbr\\u003eBest_Selling_Category=%{customdata[1]}\\u003cbr\\u003eProfit=%{z}\\u003cextra\\u003e\\u003c\\u002fextra\\u003e\",\"hovertext\":[\"Alabama\",\"Arizona\",\"Arkansas\",\"California\",\"Colorado\",\"Connecticut\",\"Delaware\",\"District of Columbia\",\"Florida\",\"Georgia\",\"Idaho\",\"Illinois\",\"Indiana\",\"Iowa\",\"Kansas\",\"Kentucky\",\"Louisiana\",\"Maine\",\"Maryland\",\"Massachusetts\",\"Michigan\",\"Minnesota\",\"Mississippi\",\"Missouri\",\"Montana\",\"Nebraska\",\"Nevada\",\"New Hampshire\",\"New Jersey\",\"New Mexico\",\"New York\",\"North Carolina\",\"North Dakota\",\"Ohio\",\"Oklahoma\",\"Oregon\",\"Pennsylvania\",\"Rhode Island\",\"South Carolina\",\"South Dakota\",\"Tennessee\",\"Texas\",\"Utah\",\"Vermont\",\"Virginia\",\"Washington\",\"West Virginia\",\"Wisconsin\",\"Wyoming\"],\"locationmode\":\"USA-states\",\"locations\":[\"AL\",\"AZ\",\"AR\",\"CA\",\"CO\",\"CT\",\"DE\",\"DC\",\"FL\",\"GA\",\"ID\",\"IL\",\"IN\",\"IA\",\"KS\",\"KY\",\"LA\",\"ME\",\"MD\",\"MA\",\"MI\",\"MN\",\"MS\",\"MO\",\"MT\",\"NE\",\"NV\",\"NH\",\"NJ\",\"NM\",\"NY\",\"NC\",\"ND\",\"OH\",\"OK\",\"OR\",\"PA\",\"RI\",\"SC\",\"SD\",\"TN\",\"TX\",\"UT\",\"VT\",\"VA\",\"WA\",\"WV\",\"WI\",\"WY\"],\"name\":\"\",\"z\":[352996.3433,-767855.1104,240521.226,152839155.5871,-1188070.1378,287942.32759999996,957827.9808,10595.892999999998,-1301932.5511000003,2990007.9672,17361.185100000002,-6203080.404,2739057.5087,35514.356999999996,20074.644,1556757.8273999998,92236.2966,3635.8896,738273.774,916042.716,6238112.838,963263.6786000001,168167.7386,424789.893,27499.9275,77409.57960000001,129353.8701,46075.5756,1270478.794,42813.295699999995,83515482.82079999,-1865237.1378,1611.0479,-7959575.6254,320361.096,-147618.34199999998,-9133696.6961,407995.2408,74300.37719999999,4737.9396,-977529.9287999999,-25343415.9555,134966.2755,24694.7613,4165940.8896000003,16901741.7602,743.6864,924198.044,100.196],\"type\":\"choropleth\"}],                        {\"template\":{\"data\":{\"histogram2dcontour\":[{\"type\":\"histogram2dcontour\",\"colorbar\":{\"outlinewidth\":0,\"ticks\":\"\"},\"colorscale\":[[0.0,\"#0d0887\"],[0.1111111111111111,\"#46039f\"],[0.2222222222222222,\"#7201a8\"],[0.3333333333333333,\"#9c179e\"],[0.4444444444444444,\"#bd3786\"],[0.5555555555555556,\"#d8576b\"],[0.6666666666666666,\"#ed7953\"],[0.7777777777777778,\"#fb9f3a\"],[0.8888888888888888,\"#fdca26\"],[1.0,\"#f0f921\"]]}],\"choropleth\":[{\"type\":\"choropleth\",\"colorbar\":{\"outlinewidth\":0,\"ticks\":\"\"}}],\"histogram2d\":[{\"type\":\"histogram2d\",\"colorbar\":{\"outlinewidth\":0,\"ticks\":\"\"},\"colorscale\":[[0.0,\"#0d0887\"],[0.1111111111111111,\"#46039f\"],[0.2222222222222222,\"#7201a8\"],[0.3333333333333333,\"#9c179e\"],[0.4444444444444444,\"#bd3786\"],[0.5555555555555556,\"#d8576b\"],[0.6666666666666666,\"#ed7953\"],[0.7777777777777778,\"#fb9f3a\"],[0.8888888888888888,\"#fdca26\"],[1.0,\"#f0f921\"]]}],\"heatmap\":[{\"type\":\"heatmap\",\"colorbar\":{\"outlinewidth\":0,\"ticks\":\"\"},\"colorscale\":[[0.0,\"#0d0887\"],[0.1111111111111111,\"#46039f\"],[0.2222222222222222,\"#7201a8\"],[0.3333333333333333,\"#9c179e\"],[0.4444444444444444,\"#bd3786\"],[0.5555555555555556,\"#d8576b\"],[0.6666666666666666,\"#ed7953\"],[0.7777777777777778,\"#fb9f3a\"],[0.8888888888888888,\"#fdca26\"],[1.0,\"#f0f921\"]]}],\"heatmapgl\":[{\"type\":\"heatmapgl\",\"colorbar\":{\"outlinewidth\":0,\"ticks\":\"\"},\"colorscale\":[[0.0,\"#0d0887\"],[0.1111111111111111,\"#46039f\"],[0.2222222222222222,\"#7201a8\"],[0.3333333333333333,\"#9c179e\"],[0.4444444444444444,\"#bd3786\"],[0.5555555555555556,\"#d8576b\"],[0.6666666666666666,\"#ed7953\"],[0.7777777777777778,\"#fb9f3a\"],[0.8888888888888888,\"#fdca26\"],[1.0,\"#f0f921\"]]}],\"contourcarpet\":[{\"type\":\"contourcarpet\",\"colorbar\":{\"outlinewidth\":0,\"ticks\":\"\"}}],\"contour\":[{\"type\":\"contour\",\"colorbar\":{\"outlinewidth\":0,\"ticks\":\"\"},\"colorscale\":[[0.0,\"#0d0887\"],[0.1111111111111111,\"#46039f\"],[0.2222222222222222,\"#7201a8\"],[0.3333333333333333,\"#9c179e\"],[0.4444444444444444,\"#bd3786\"],[0.5555555555555556,\"#d8576b\"],[0.6666666666666666,\"#ed7953\"],[0.7777777777777778,\"#fb9f3a\"],[0.8888888888888888,\"#fdca26\"],[1.0,\"#f0f921\"]]}],\"surface\":[{\"type\":\"surface\",\"colorbar\":{\"outlinewidth\":0,\"ticks\":\"\"},\"colorscale\":[[0.0,\"#0d0887\"],[0.1111111111111111,\"#46039f\"],[0.2222222222222222,\"#7201a8\"],[0.3333333333333333,\"#9c179e\"],[0.4444444444444444,\"#bd3786\"],[0.5555555555555556,\"#d8576b\"],[0.6666666666666666,\"#ed7953\"],[0.7777777777777778,\"#fb9f3a\"],[0.8888888888888888,\"#fdca26\"],[1.0,\"#f0f921\"]]}],\"mesh3d\":[{\"type\":\"mesh3d\",\"colorbar\":{\"outlinewidth\":0,\"ticks\":\"\"}}],\"scatter\":[{\"fillpattern\":{\"fillmode\":\"overlay\",\"size\":10,\"solidity\":0.2},\"type\":\"scatter\"}],\"parcoords\":[{\"type\":\"parcoords\",\"line\":{\"colorbar\":{\"outlinewidth\":0,\"ticks\":\"\"}}}],\"scatterpolargl\":[{\"type\":\"scatterpolargl\",\"marker\":{\"colorbar\":{\"outlinewidth\":0,\"ticks\":\"\"}}}],\"bar\":[{\"error_x\":{\"color\":\"#2a3f5f\"},\"error_y\":{\"color\":\"#2a3f5f\"},\"marker\":{\"line\":{\"color\":\"#E5ECF6\",\"width\":0.5},\"pattern\":{\"fillmode\":\"overlay\",\"size\":10,\"solidity\":0.2}},\"type\":\"bar\"}],\"scattergeo\":[{\"type\":\"scattergeo\",\"marker\":{\"colorbar\":{\"outlinewidth\":0,\"ticks\":\"\"}}}],\"scatterpolar\":[{\"type\":\"scatterpolar\",\"marker\":{\"colorbar\":{\"outlinewidth\":0,\"ticks\":\"\"}}}],\"histogram\":[{\"marker\":{\"pattern\":{\"fillmode\":\"overlay\",\"size\":10,\"solidity\":0.2}},\"type\":\"histogram\"}],\"scattergl\":[{\"type\":\"scattergl\",\"marker\":{\"colorbar\":{\"outlinewidth\":0,\"ticks\":\"\"}}}],\"scatter3d\":[{\"type\":\"scatter3d\",\"line\":{\"colorbar\":{\"outlinewidth\":0,\"ticks\":\"\"}},\"marker\":{\"colorbar\":{\"outlinewidth\":0,\"ticks\":\"\"}}}],\"scattermapbox\":[{\"type\":\"scattermapbox\",\"marker\":{\"colorbar\":{\"outlinewidth\":0,\"ticks\":\"\"}}}],\"scatterternary\":[{\"type\":\"scatterternary\",\"marker\":{\"colorbar\":{\"outlinewidth\":0,\"ticks\":\"\"}}}],\"scattercarpet\":[{\"type\":\"scattercarpet\",\"marker\":{\"colorbar\":{\"outlinewidth\":0,\"ticks\":\"\"}}}],\"carpet\":[{\"aaxis\":{\"endlinecolor\":\"#2a3f5f\",\"gridcolor\":\"white\",\"linecolor\":\"white\",\"minorgridcolor\":\"white\",\"startlinecolor\":\"#2a3f5f\"},\"baxis\":{\"endlinecolor\":\"#2a3f5f\",\"gridcolor\":\"white\",\"linecolor\":\"white\",\"minorgridcolor\":\"white\",\"startlinecolor\":\"#2a3f5f\"},\"type\":\"carpet\"}],\"table\":[{\"cells\":{\"fill\":{\"color\":\"#EBF0F8\"},\"line\":{\"color\":\"white\"}},\"header\":{\"fill\":{\"color\":\"#C8D4E3\"},\"line\":{\"color\":\"white\"}},\"type\":\"table\"}],\"barpolar\":[{\"marker\":{\"line\":{\"color\":\"#E5ECF6\",\"width\":0.5},\"pattern\":{\"fillmode\":\"overlay\",\"size\":10,\"solidity\":0.2}},\"type\":\"barpolar\"}],\"pie\":[{\"automargin\":true,\"type\":\"pie\"}]},\"layout\":{\"autotypenumbers\":\"strict\",\"colorway\":[\"#636efa\",\"#EF553B\",\"#00cc96\",\"#ab63fa\",\"#FFA15A\",\"#19d3f3\",\"#FF6692\",\"#B6E880\",\"#FF97FF\",\"#FECB52\"],\"font\":{\"color\":\"#2a3f5f\"},\"hovermode\":\"closest\",\"hoverlabel\":{\"align\":\"left\"},\"paper_bgcolor\":\"white\",\"plot_bgcolor\":\"#E5ECF6\",\"polar\":{\"bgcolor\":\"#E5ECF6\",\"angularaxis\":{\"gridcolor\":\"white\",\"linecolor\":\"white\",\"ticks\":\"\"},\"radialaxis\":{\"gridcolor\":\"white\",\"linecolor\":\"white\",\"ticks\":\"\"}},\"ternary\":{\"bgcolor\":\"#E5ECF6\",\"aaxis\":{\"gridcolor\":\"white\",\"linecolor\":\"white\",\"ticks\":\"\"},\"baxis\":{\"gridcolor\":\"white\",\"linecolor\":\"white\",\"ticks\":\"\"},\"caxis\":{\"gridcolor\":\"white\",\"linecolor\":\"white\",\"ticks\":\"\"}},\"coloraxis\":{\"colorbar\":{\"outlinewidth\":0,\"ticks\":\"\"}},\"colorscale\":{\"sequential\":[[0.0,\"#0d0887\"],[0.1111111111111111,\"#46039f\"],[0.2222222222222222,\"#7201a8\"],[0.3333333333333333,\"#9c179e\"],[0.4444444444444444,\"#bd3786\"],[0.5555555555555556,\"#d8576b\"],[0.6666666666666666,\"#ed7953\"],[0.7777777777777778,\"#fb9f3a\"],[0.8888888888888888,\"#fdca26\"],[1.0,\"#f0f921\"]],\"sequentialminus\":[[0.0,\"#0d0887\"],[0.1111111111111111,\"#46039f\"],[0.2222222222222222,\"#7201a8\"],[0.3333333333333333,\"#9c179e\"],[0.4444444444444444,\"#bd3786\"],[0.5555555555555556,\"#d8576b\"],[0.6666666666666666,\"#ed7953\"],[0.7777777777777778,\"#fb9f3a\"],[0.8888888888888888,\"#fdca26\"],[1.0,\"#f0f921\"]],\"diverging\":[[0,\"#8e0152\"],[0.1,\"#c51b7d\"],[0.2,\"#de77ae\"],[0.3,\"#f1b6da\"],[0.4,\"#fde0ef\"],[0.5,\"#f7f7f7\"],[0.6,\"#e6f5d0\"],[0.7,\"#b8e186\"],[0.8,\"#7fbc41\"],[0.9,\"#4d9221\"],[1,\"#276419\"]]},\"xaxis\":{\"gridcolor\":\"white\",\"linecolor\":\"white\",\"ticks\":\"\",\"title\":{\"standoff\":15},\"zerolinecolor\":\"white\",\"automargin\":true,\"zerolinewidth\":2},\"yaxis\":{\"gridcolor\":\"white\",\"linecolor\":\"white\",\"ticks\":\"\",\"title\":{\"standoff\":15},\"zerolinecolor\":\"white\",\"automargin\":true,\"zerolinewidth\":2},\"scene\":{\"xaxis\":{\"backgroundcolor\":\"#E5ECF6\",\"gridcolor\":\"white\",\"linecolor\":\"white\",\"showbackground\":true,\"ticks\":\"\",\"zerolinecolor\":\"white\",\"gridwidth\":2},\"yaxis\":{\"backgroundcolor\":\"#E5ECF6\",\"gridcolor\":\"white\",\"linecolor\":\"white\",\"showbackground\":true,\"ticks\":\"\",\"zerolinecolor\":\"white\",\"gridwidth\":2},\"zaxis\":{\"backgroundcolor\":\"#E5ECF6\",\"gridcolor\":\"white\",\"linecolor\":\"white\",\"showbackground\":true,\"ticks\":\"\",\"zerolinecolor\":\"white\",\"gridwidth\":2}},\"shapedefaults\":{\"line\":{\"color\":\"#2a3f5f\"}},\"annotationdefaults\":{\"arrowcolor\":\"#2a3f5f\",\"arrowhead\":0,\"arrowwidth\":1},\"geo\":{\"bgcolor\":\"white\",\"landcolor\":\"#E5ECF6\",\"subunitcolor\":\"white\",\"showland\":true,\"showlakes\":true,\"lakecolor\":\"white\"},\"title\":{\"x\":0.05},\"mapbox\":{\"style\":\"light\"}}},\"geo\":{\"domain\":{\"x\":[0.0,1.0],\"y\":[0.0,1.0]},\"center\":{},\"scope\":\"usa\"},\"coloraxis\":{\"colorbar\":{\"title\":{\"text\":\"Profit\"}},\"colorscale\":[[0.0,\"rgb(165,0,38)\"],[0.1,\"rgb(215,48,39)\"],[0.2,\"rgb(244,109,67)\"],[0.3,\"rgb(253,174,97)\"],[0.4,\"rgb(254,224,139)\"],[0.5,\"rgb(255,255,191)\"],[0.6,\"rgb(217,239,139)\"],[0.7,\"rgb(166,217,106)\"],[0.8,\"rgb(102,189,99)\"],[0.9,\"rgb(26,152,80)\"],[1.0,\"rgb(0,104,55)\"]],\"cmin\":-25343415.9555,\"cmax\":152839155.5871},\"legend\":{\"tracegroupgap\":0},\"margin\":{\"t\":60},\"title\":{\"text\":\"Superstore Profit by State (with Best-Selling Category)\",\"x\":0.5}},                        {\"responsive\": true}                    ).then(function(){\n",
       "                            \n",
       "var gd = document.getElementById('a0d5aa5a-a4a2-4000-b14c-97b17c8d08c9');\n",
       "var x = new MutationObserver(function (mutations, observer) {{\n",
       "        var display = window.getComputedStyle(gd).display;\n",
       "        if (!display || display === 'none') {{\n",
       "            console.log([gd, 'removed!']);\n",
       "            Plotly.purge(gd);\n",
       "            observer.disconnect();\n",
       "        }}\n",
       "}});\n",
       "\n",
       "// Listen for the removal of the full notebook cells\n",
       "var notebookContainer = gd.closest('#notebook-container');\n",
       "if (notebookContainer) {{\n",
       "    x.observe(notebookContainer, {childList: true});\n",
       "}}\n",
       "\n",
       "// Listen for the clearing of the current output cell\n",
       "var outputEl = gd.closest('.output');\n",
       "if (outputEl) {{\n",
       "    x.observe(outputEl, {childList: true});\n",
       "}}\n",
       "\n",
       "                        })                };                });            </script>        </div>"
      ]
     },
     "metadata": {},
     "output_type": "display_data"
    }
   ],
   "source": [
    "import pandas as pd\n",
    "import numpy as np\n",
    "import plotly.express as px\n",
    "\n",
    "# Aggregate total profit and sales by state\n",
    "ss_agg = ss.groupby([\"State\", \"Code\"]).agg(\n",
    "    {\"Profit\": \"sum\", \"Sales\": \"sum\"}\n",
    ").reset_index()\n",
    "\n",
    "# Find the most popular category for each state\n",
    "best_category = ss.groupby([\"State\", \"Category\"])[\"Sales\"].sum().reset_index()\n",
    "best_category = best_category.loc[best_category.groupby(\"State\")[\"Sales\"].idxmax()]\n",
    "best_category = best_category[[\"State\", \"Category\"]].rename(columns={\"Category\": \"Best_Selling_Category\"})\n",
    "\n",
    "# Merge with aggregated state-level data\n",
    "ss_agg = ss_agg.merge(best_category, on=\"State\", how=\"left\")\n",
    "\n",
    "# Create choropleth with best-selling category in hover\n",
    "m_profit = px.choropleth(\n",
    "    ss_agg,\n",
    "    locations=\"Code\",\n",
    "    locationmode=\"USA-states\",\n",
    "    color=\"Profit\",\n",
    "    scope=\"usa\",\n",
    "    hover_name=\"State\",\n",
    "    hover_data=[\"Sales\", \"Best_Selling_Category\"],  # Added best-selling category\n",
    "    color_continuous_scale=\"rdylgn\",\n",
    "    range_color=[ss_agg[\"Profit\"].min(), ss_agg[\"Profit\"].max()]\n",
    ")\n",
    "\n",
    "m_profit.update_layout(\n",
    "    title_text=\"Superstore Profit by State (with Best-Selling Category)\",\n",
    "    title_x=0.5\n",
    ")\n",
    "\n",
    "m_profit.show()\n"
   ]
  },
  {
   "cell_type": "code",
   "execution_count": 149,
   "id": "4bf9b482-5672-4a4b-b246-0cdfd291bad0",
   "metadata": {},
   "outputs": [],
   "source": [
    "m_profit.write_html('m_profit.html')"
   ]
  },
  {
   "cell_type": "code",
   "execution_count": 159,
   "id": "ae9ee07b-eac7-4db7-a8e7-5a8f65185eb0",
   "metadata": {},
   "outputs": [
    {
     "data": {
      "application/vnd.plotly.v1+json": {
       "config": {
        "plotlyServerURL": "https://plot.ly"
       },
       "data": [
        {
         "link": {
          "color": [
           "rgba(102,194,165,0.5)",
           "rgba(102,194,165,0.5)",
           "rgba(102,194,165,0.5)",
           "rgba(102,194,165,0.5)",
           "rgba(102,194,165,0.5)",
           "rgba(102,194,165,0.5)",
           "rgba(102,194,165,0.5)",
           "rgba(102,194,165,0.5)",
           "rgba(102,194,165,0.5)",
           "rgba(102,194,165,0.5)",
           "rgba(102,194,165,0.5)",
           "rgba(102,194,165,0.5)",
           "rgba(102,194,165,0.5)",
           "rgba(102,194,165,0.5)",
           "rgba(102,194,165,0.5)",
           "rgba(102,194,165,0.5)",
           "rgba(102,194,165,0.5)",
           "rgba(102,194,165,0.5)",
           "rgba(102,194,165,0.5)",
           "rgba(102,194,165,0.5)",
           "rgba(102,194,165,0.5)",
           "rgba(102,194,165,0.5)",
           "rgba(102,194,165,0.5)",
           "rgba(102,194,165,0.5)",
           "rgba(102,194,165,0.5)",
           "rgba(102,194,165,0.5)",
           "rgba(102,194,165,0.5)",
           "rgba(102,194,165,0.5)",
           "rgba(102,194,165,0.5)",
           "rgba(102,194,165,0.5)",
           "rgba(102,194,165,0.5)",
           "rgba(102,194,165,0.5)",
           "rgba(102,194,165,0.5)",
           "rgba(102,194,165,0.5)",
           "rgba(102,194,165,0.5)",
           "rgba(102,194,165,0.5)",
           "rgba(102,194,165,0.5)",
           "rgba(252,141,98,0.5)",
           "rgba(252,141,98,0.5)",
           "rgba(252,141,98,0.5)",
           "rgba(252,141,98,0.5)",
           "rgba(252,141,98,0.5)",
           "rgba(252,141,98,0.5)",
           "rgba(252,141,98,0.5)",
           "rgba(252,141,98,0.5)",
           "rgba(252,141,98,0.5)",
           "rgba(252,141,98,0.5)",
           "rgba(252,141,98,0.5)",
           "rgba(252,141,98,0.5)",
           "rgba(252,141,98,0.5)",
           "rgba(252,141,98,0.5)",
           "rgba(252,141,98,0.5)",
           "rgba(252,141,98,0.5)",
           "rgba(252,141,98,0.5)",
           "rgba(252,141,98,0.5)",
           "rgba(252,141,98,0.5)",
           "rgba(252,141,98,0.5)",
           "rgba(252,141,98,0.5)",
           "rgba(252,141,98,0.5)",
           "rgba(252,141,98,0.5)",
           "rgba(252,141,98,0.5)",
           "rgba(252,141,98,0.5)",
           "rgba(252,141,98,0.5)",
           "rgba(252,141,98,0.5)",
           "rgba(252,141,98,0.5)",
           "rgba(252,141,98,0.5)",
           "rgba(252,141,98,0.5)",
           "rgba(252,141,98,0.5)",
           "rgba(252,141,98,0.5)",
           "rgba(252,141,98,0.5)",
           "rgba(252,141,98,0.5)",
           "rgba(252,141,98,0.5)",
           "rgba(252,141,98,0.5)",
           "rgba(252,141,98,0.5)",
           "rgba(252,141,98,0.5)",
           "rgba(252,141,98,0.5)",
           "rgba(141,160,203,0.5)",
           "rgba(141,160,203,0.5)",
           "rgba(141,160,203,0.5)",
           "rgba(141,160,203,0.5)",
           "rgba(141,160,203,0.5)",
           "rgba(141,160,203,0.5)",
           "rgba(141,160,203,0.5)",
           "rgba(141,160,203,0.5)",
           "rgba(141,160,203,0.5)",
           "rgba(141,160,203,0.5)",
           "rgba(141,160,203,0.5)",
           "rgba(141,160,203,0.5)",
           "rgba(141,160,203,0.5)",
           "rgba(141,160,203,0.5)",
           "rgba(141,160,203,0.5)",
           "rgba(141,160,203,0.5)",
           "rgba(141,160,203,0.5)",
           "rgba(141,160,203,0.5)",
           "rgba(141,160,203,0.5)",
           "rgba(141,160,203,0.5)",
           "rgba(141,160,203,0.5)",
           "rgba(141,160,203,0.5)",
           "rgba(141,160,203,0.5)",
           "rgba(141,160,203,0.5)",
           "rgba(141,160,203,0.5)",
           "rgba(141,160,203,0.5)",
           "rgba(141,160,203,0.5)",
           "rgba(141,160,203,0.5)",
           "rgba(141,160,203,0.5)",
           "rgba(141,160,203,0.5)",
           "rgba(141,160,203,0.5)",
           "rgba(141,160,203,0.5)",
           "rgba(141,160,203,0.5)",
           "rgba(231,138,195,0.5)",
           "rgba(231,138,195,0.5)",
           "rgba(231,138,195,0.5)",
           "rgba(231,138,195,0.5)",
           "rgba(231,138,195,0.5)",
           "rgba(231,138,195,0.5)",
           "rgba(231,138,195,0.5)",
           "rgba(231,138,195,0.5)",
           "rgba(231,138,195,0.5)",
           "rgba(231,138,195,0.5)",
           "rgba(231,138,195,0.5)",
           "rgba(231,138,195,0.5)",
           "rgba(231,138,195,0.5)",
           "rgba(231,138,195,0.5)",
           "rgba(231,138,195,0.5)",
           "rgba(231,138,195,0.5)",
           "rgba(231,138,195,0.5)",
           "rgba(231,138,195,0.5)",
           "rgba(231,138,195,0.5)",
           "rgba(231,138,195,0.5)",
           "rgba(231,138,195,0.5)",
           "rgba(231,138,195,0.5)",
           "rgba(231,138,195,0.5)",
           "rgba(231,138,195,0.5)",
           "rgba(231,138,195,0.5)",
           "rgba(231,138,195,0.5)",
           "rgba(231,138,195,0.5)",
           "rgba(231,138,195,0.5)",
           "rgba(231,138,195,0.5)",
           "rgba(231,138,195,0.5)",
           "rgba(231,138,195,0.5)",
           "rgba(102,194,165,0.5)",
           "rgba(102,194,165,0.5)",
           "rgba(102,194,165,0.5)",
           "rgba(102,194,165,0.5)",
           "rgba(102,194,165,0.5)",
           "rgba(102,194,165,0.5)",
           "rgba(102,194,165,0.5)",
           "rgba(102,194,165,0.5)",
           "rgba(102,194,165,0.5)",
           "rgba(102,194,165,0.5)",
           "rgba(102,194,165,0.5)",
           "rgba(102,194,165,0.5)",
           "rgba(102,194,165,0.5)",
           "rgba(102,194,165,0.5)",
           "rgba(102,194,165,0.5)",
           "rgba(102,194,165,0.5)",
           "rgba(102,194,165,0.5)",
           "rgba(102,194,165,0.5)",
           "rgba(102,194,165,0.5)",
           "rgba(102,194,165,0.5)",
           "rgba(102,194,165,0.5)",
           "rgba(102,194,165,0.5)",
           "rgba(102,194,165,0.5)",
           "rgba(102,194,165,0.5)",
           "rgba(102,194,165,0.5)",
           "rgba(102,194,165,0.5)",
           "rgba(102,194,165,0.5)",
           "rgba(102,194,165,0.5)",
           "rgba(102,194,165,0.5)",
           "rgba(102,194,165,0.5)",
           "rgba(102,194,165,0.5)",
           "rgba(102,194,165,0.5)",
           "rgba(102,194,165,0.5)",
           "rgba(102,194,165,0.5)",
           "rgba(102,194,165,0.5)",
           "rgba(102,194,165,0.5)",
           "rgba(102,194,165,0.5)",
           "rgba(252,141,98,0.5)",
           "rgba(252,141,98,0.5)",
           "rgba(252,141,98,0.5)",
           "rgba(252,141,98,0.5)",
           "rgba(252,141,98,0.5)",
           "rgba(252,141,98,0.5)",
           "rgba(252,141,98,0.5)",
           "rgba(252,141,98,0.5)",
           "rgba(252,141,98,0.5)",
           "rgba(252,141,98,0.5)",
           "rgba(252,141,98,0.5)",
           "rgba(252,141,98,0.5)",
           "rgba(252,141,98,0.5)",
           "rgba(252,141,98,0.5)",
           "rgba(252,141,98,0.5)",
           "rgba(252,141,98,0.5)",
           "rgba(252,141,98,0.5)",
           "rgba(252,141,98,0.5)",
           "rgba(252,141,98,0.5)",
           "rgba(252,141,98,0.5)",
           "rgba(252,141,98,0.5)",
           "rgba(252,141,98,0.5)",
           "rgba(252,141,98,0.5)",
           "rgba(252,141,98,0.5)",
           "rgba(252,141,98,0.5)",
           "rgba(252,141,98,0.5)",
           "rgba(252,141,98,0.5)",
           "rgba(252,141,98,0.5)",
           "rgba(252,141,98,0.5)",
           "rgba(252,141,98,0.5)",
           "rgba(252,141,98,0.5)",
           "rgba(252,141,98,0.5)",
           "rgba(252,141,98,0.5)",
           "rgba(252,141,98,0.5)",
           "rgba(252,141,98,0.5)",
           "rgba(252,141,98,0.5)",
           "rgba(252,141,98,0.5)",
           "rgba(252,141,98,0.5)",
           "rgba(252,141,98,0.5)",
           "rgba(141,160,203,0.5)",
           "rgba(141,160,203,0.5)",
           "rgba(141,160,203,0.5)",
           "rgba(141,160,203,0.5)",
           "rgba(141,160,203,0.5)",
           "rgba(141,160,203,0.5)",
           "rgba(141,160,203,0.5)",
           "rgba(141,160,203,0.5)",
           "rgba(141,160,203,0.5)",
           "rgba(141,160,203,0.5)",
           "rgba(141,160,203,0.5)",
           "rgba(141,160,203,0.5)",
           "rgba(141,160,203,0.5)",
           "rgba(141,160,203,0.5)",
           "rgba(141,160,203,0.5)",
           "rgba(141,160,203,0.5)",
           "rgba(141,160,203,0.5)",
           "rgba(141,160,203,0.5)",
           "rgba(141,160,203,0.5)",
           "rgba(141,160,203,0.5)",
           "rgba(141,160,203,0.5)",
           "rgba(141,160,203,0.5)",
           "rgba(141,160,203,0.5)",
           "rgba(141,160,203,0.5)",
           "rgba(141,160,203,0.5)",
           "rgba(141,160,203,0.5)",
           "rgba(141,160,203,0.5)",
           "rgba(141,160,203,0.5)",
           "rgba(141,160,203,0.5)",
           "rgba(141,160,203,0.5)",
           "rgba(141,160,203,0.5)",
           "rgba(141,160,203,0.5)",
           "rgba(141,160,203,0.5)",
           "rgba(231,138,195,0.5)",
           "rgba(231,138,195,0.5)",
           "rgba(231,138,195,0.5)",
           "rgba(231,138,195,0.5)",
           "rgba(231,138,195,0.5)",
           "rgba(231,138,195,0.5)",
           "rgba(231,138,195,0.5)",
           "rgba(231,138,195,0.5)",
           "rgba(231,138,195,0.5)",
           "rgba(231,138,195,0.5)",
           "rgba(231,138,195,0.5)",
           "rgba(231,138,195,0.5)",
           "rgba(231,138,195,0.5)",
           "rgba(231,138,195,0.5)",
           "rgba(231,138,195,0.5)",
           "rgba(231,138,195,0.5)",
           "rgba(231,138,195,0.5)",
           "rgba(231,138,195,0.5)",
           "rgba(231,138,195,0.5)",
           "rgba(231,138,195,0.5)",
           "rgba(231,138,195,0.5)",
           "rgba(231,138,195,0.5)",
           "rgba(231,138,195,0.5)",
           "rgba(231,138,195,0.5)",
           "rgba(231,138,195,0.5)",
           "rgba(231,138,195,0.5)",
           "rgba(231,138,195,0.5)",
           "rgba(231,138,195,0.5)",
           "rgba(231,138,195,0.5)",
           "rgba(231,138,195,0.5)",
           "rgba(231,138,195,0.5)"
          ],
          "customdata": [
           [
            "Central",
            "Illinois",
            -3479776.8120000004
           ],
           [
            "Central",
            "Illinois",
            -1512946.4400000002
           ],
           [
            "Central",
            "Illinois",
            -1210357.152
           ],
           [
            "Central",
            "Indiana",
            1341954.3499
           ],
           [
            "Central",
            "Indiana",
            753700.3883
           ],
           [
            "Central",
            "Indiana",
            643402.7705000001
           ],
           [
            "Central",
            "Iowa",
            16573.366599999998
           ],
           [
            "Central",
            "Iowa",
            11838.118999999999
           ],
           [
            "Central",
            "Iowa",
            7102.8714
           ],
           [
            "Central",
            "Kansas",
            6691.548
           ],
           [
            "Central",
            "Kansas",
            6691.548
           ],
           [
            "Central",
            "Kansas",
            6691.548
           ],
           [
            "Central",
            "Michigan",
            3229140.7632
           ],
           [
            "Central",
            "Michigan",
            1712423.132
           ],
           [
            "Central",
            "Michigan",
            1296548.9428
           ],
           [
            "Central",
            "Minnesota",
            551982.5574
           ],
           [
            "Central",
            "Minnesota",
            173170.9984
           ],
           [
            "Central",
            "Minnesota",
            238110.1228
           ],
           [
            "Central",
            "Missouri",
            244575.999
           ],
           [
            "Central",
            "Missouri",
            96543.1575
           ],
           [
            "Central",
            "Missouri",
            83670.7365
           ],
           [
            "Central",
            "Nebraska",
            38704.789800000006
           ],
           [
            "Central",
            "Nebraska",
            26482.2246
           ],
           [
            "Central",
            "Nebraska",
            12222.565200000001
           ],
           [
            "Central",
            "North Dakota",
            1150.7485
           ],
           [
            "Central",
            "North Dakota",
            460.2994
           ],
           [
            "Central",
            "Oklahoma",
            169888.46
           ],
           [
            "Central",
            "Oklahoma",
            53393.516
           ],
           [
            "Central",
            "Oklahoma",
            97079.12
           ],
           [
            "Central",
            "South Dakota",
            789.6566
           ],
           [
            "Central",
            "South Dakota",
            3948.2830000000004
           ],
           [
            "Central",
            "Texas",
            -13482182.7012
           ],
           [
            "Central",
            "Texas",
            -8027559.1656
           ],
           [
            "Central",
            "Texas",
            -3833674.0886999997
           ],
           [
            "Central",
            "Wisconsin",
            294063.014
           ],
           [
            "Central",
            "Wisconsin",
            394884.6188
           ],
           [
            "Central",
            "Wisconsin",
            235250.4112
           ],
           [
            "East",
            "Connecticut",
            150994.1474
           ],
           [
            "East",
            "Connecticut",
            94810.27859999999
           ],
           [
            "East",
            "Connecticut",
            42137.9016
           ],
           [
            "East",
            "Delaware",
            488891.3652
           ],
           [
            "East",
            "Delaware",
            359185.4928
           ],
           [
            "East",
            "Delaware",
            109751.1228
           ],
           [
            "East",
            "District of Columbia",
            7417.125099999999
           ],
           [
            "East",
            "District of Columbia",
            3178.7679
           ],
           [
            "East",
            "Maine",
            2272.431
           ],
           [
            "East",
            "Maine",
            1363.4586
           ],
           [
            "East",
            "Maryland",
            323434.22479999997
           ],
           [
            "East",
            "Maryland",
            309371.8672
           ],
           [
            "East",
            "Maryland",
            105467.682
           ],
           [
            "East",
            "Massachusetts",
            393559.09280000004
           ],
           [
            "East",
            "Massachusetts",
            271420.064
           ],
           [
            "East",
            "Massachusetts",
            251063.55920000002
           ],
           [
            "East",
            "New Hampshire",
            10239.0168
           ],
           [
            "East",
            "New Hampshire",
            15358.5252
           ],
           [
            "East",
            "New Hampshire",
            20478.0336
           ],
           [
            "East",
            "New Jersey",
            557056.0866
           ],
           [
            "East",
            "New Jersey",
            488645.69
           ],
           [
            "East",
            "New Jersey",
            224777.0174
           ],
           [
            "East",
            "New York",
            47606786.7498
           ],
           [
            "East",
            "New York",
            23766374.100599997
           ],
           [
            "East",
            "New York",
            12142321.9704
           ],
           [
            "East",
            "Ohio",
            -4327701.033
           ],
           [
            "East",
            "Ohio",
            -2087479.3218
           ],
           [
            "East",
            "Ohio",
            -1544395.2706
           ],
           [
            "East",
            "Pennsylvania",
            -4419028.7252
           ],
           [
            "East",
            "Pennsylvania",
            -3049752.2188
           ],
           [
            "East",
            "Pennsylvania",
            -1664915.7521000002
           ],
           [
            "East",
            "Rhode Island",
            109284.43950000001
           ],
           [
            "East",
            "Rhode Island",
            152998.2153
           ],
           [
            "East",
            "Rhode Island",
            145712.586
           ],
           [
            "East",
            "Vermont",
            11224.891499999998
           ],
           [
            "East",
            "Vermont",
            11224.891499999998
           ],
           [
            "East",
            "Vermont",
            2244.9782999999998
           ],
           [
            "East",
            "West Virginia",
            185.9216
           ],
           [
            "East",
            "West Virginia",
            557.7648
           ],
           [
            "South",
            "Alabama",
            144670.6325
           ],
           [
            "South",
            "Alabama",
            162031.10840000003
           ],
           [
            "South",
            "Alabama",
            46294.6024
           ],
           [
            "South",
            "Arkansas",
            148321.4227
           ],
           [
            "South",
            "Arkansas",
            56121.6194
           ],
           [
            "South",
            "Arkansas",
            36078.1839
           ],
           [
            "South",
            "Florida",
            -611874.3060000001
           ],
           [
            "South",
            "Florida",
            -462305.0312000001
           ],
           [
            "South",
            "Florida",
            -227753.21390000003
           ],
           [
            "South",
            "Georgia",
            1381253.6805
           ],
           [
            "South",
            "Georgia",
            958752.5547
           ],
           [
            "South",
            "Georgia",
            650001.732
           ],
           [
            "South",
            "Kentucky",
            851176.9415999999
           ],
           [
            "South",
            "Kentucky",
            391989.381
           ],
           [
            "South",
            "Kentucky",
            313591.5048
           ],
           [
            "South",
            "Louisiana",
            57098.6598
           ],
           [
            "South",
            "Louisiana",
            26353.2276
           ],
           [
            "South",
            "Louisiana",
            8784.4092
           ],
           [
            "South",
            "Mississippi",
            88843.3336
           ],
           [
            "South",
            "Mississippi",
            44421.6668
           ],
           [
            "South",
            "Mississippi",
            34902.7382
           ],
           [
            "South",
            "North Carolina",
            -1063709.5324
           ],
           [
            "South",
            "North Carolina",
            -561818.415
           ],
           [
            "South",
            "North Carolina",
            -239709.1904
           ],
           [
            "South",
            "South Carolina",
            38919.2452
           ],
           [
            "South",
            "South Carolina",
            33612.0754
           ],
           [
            "South",
            "South Carolina",
            1769.0566
           ],
           [
            "South",
            "Tennessee",
            -534169.36
           ],
           [
            "South",
            "Tennessee",
            -299134.8416
           ],
           [
            "South",
            "Tennessee",
            -144225.7272
           ],
           [
            "South",
            "Virginia",
            2175960.1968
           ],
           [
            "South",
            "Virginia",
            1153072.9248000002
           ],
           [
            "South",
            "Virginia",
            836907.768
           ],
           [
            "West",
            "Arizona",
            -377071.706
           ],
           [
            "West",
            "Arizona",
            -236526.79739999998
           ],
           [
            "West",
            "Arizona",
            -154256.607
           ],
           [
            "West",
            "California",
            80047693.68079999
           ],
           [
            "West",
            "California",
            47203697.2278
           ],
           [
            "West",
            "California",
            25587764.678499997
           ],
           [
            "West",
            "Colorado",
            -620146.5005
           ],
           [
            "West",
            "Colorado",
            -372087.9003
           ],
           [
            "West",
            "Colorado",
            -195835.737
           ],
           [
            "West",
            "Idaho",
            7440.5079000000005
           ],
           [
            "West",
            "Idaho",
            7440.5079000000005
           ],
           [
            "West",
            "Idaho",
            2480.1693
           ],
           [
            "West",
            "Montana",
            7333.314
           ],
           [
            "West",
            "Montana",
            3666.657
           ],
           [
            "West",
            "Montana",
            16499.9565
           ],
           [
            "West",
            "Nevada",
            59701.786199999995
           ],
           [
            "West",
            "Nevada",
            43117.956699999995
           ],
           [
            "West",
            "Nevada",
            26534.1272
           ],
           [
            "West",
            "New Mexico",
            17356.7415
           ],
           [
            "West",
            "New Mexico",
            12728.2771
           ],
           [
            "West",
            "New Mexico",
            12728.2771
           ],
           [
            "West",
            "Oregon",
            -79761.5235
           ],
           [
            "West",
            "Oregon",
            -45237.87899999999
           ],
           [
            "West",
            "Oregon",
            -22618.939499999997
           ],
           [
            "West",
            "Utah",
            78942.5385
           ],
           [
            "West",
            "Utah",
            30558.402000000002
           ],
           [
            "West",
            "Utah",
            25465.335
           ],
           [
            "West",
            "Washington",
            9185729.217500001
           ],
           [
            "West",
            "Washington",
            4375747.3727
           ],
           [
            "West",
            "Washington",
            3340265.1700000004
           ],
           [
            "West",
            "Wyoming",
            100.196
           ],
           [
            "Illinois",
            "Consumer",
            -3479776.8120000004
           ],
           [
            "Illinois",
            "Corporate",
            -1512946.4400000002
           ],
           [
            "Illinois",
            "Home Office",
            -1210357.152
           ],
           [
            "Indiana",
            "Consumer",
            1341954.3499
           ],
           [
            "Indiana",
            "Corporate",
            753700.3883
           ],
           [
            "Indiana",
            "Home Office",
            643402.7705000001
           ],
           [
            "Iowa",
            "Consumer",
            16573.366599999998
           ],
           [
            "Iowa",
            "Corporate",
            11838.118999999999
           ],
           [
            "Iowa",
            "Home Office",
            7102.8714
           ],
           [
            "Kansas",
            "Consumer",
            6691.548
           ],
           [
            "Kansas",
            "Corporate",
            6691.548
           ],
           [
            "Kansas",
            "Home Office",
            6691.548
           ],
           [
            "Michigan",
            "Consumer",
            3229140.7632
           ],
           [
            "Michigan",
            "Corporate",
            1712423.132
           ],
           [
            "Michigan",
            "Home Office",
            1296548.9428
           ],
           [
            "Minnesota",
            "Consumer",
            551982.5574
           ],
           [
            "Minnesota",
            "Corporate",
            173170.9984
           ],
           [
            "Minnesota",
            "Home Office",
            238110.1228
           ],
           [
            "Missouri",
            "Consumer",
            244575.999
           ],
           [
            "Missouri",
            "Corporate",
            96543.1575
           ],
           [
            "Missouri",
            "Home Office",
            83670.7365
           ],
           [
            "Nebraska",
            "Consumer",
            38704.789800000006
           ],
           [
            "Nebraska",
            "Corporate",
            26482.2246
           ],
           [
            "Nebraska",
            "Home Office",
            12222.565200000001
           ],
           [
            "North Dakota",
            "Consumer",
            1150.7485
           ],
           [
            "North Dakota",
            "Home Office",
            460.2994
           ],
           [
            "Oklahoma",
            "Consumer",
            169888.46
           ],
           [
            "Oklahoma",
            "Corporate",
            53393.516
           ],
           [
            "Oklahoma",
            "Home Office",
            97079.12
           ],
           [
            "South Dakota",
            "Consumer",
            789.6566
           ],
           [
            "South Dakota",
            "Corporate",
            3948.2830000000004
           ],
           [
            "Texas",
            "Consumer",
            -13482182.7012
           ],
           [
            "Texas",
            "Corporate",
            -8027559.1656
           ],
           [
            "Texas",
            "Home Office",
            -3833674.0886999997
           ],
           [
            "Wisconsin",
            "Consumer",
            294063.014
           ],
           [
            "Wisconsin",
            "Corporate",
            394884.6188
           ],
           [
            "Wisconsin",
            "Home Office",
            235250.4112
           ],
           [
            "Connecticut",
            "Consumer",
            150994.1474
           ],
           [
            "Connecticut",
            "Corporate",
            94810.27859999999
           ],
           [
            "Connecticut",
            "Home Office",
            42137.9016
           ],
           [
            "Delaware",
            "Consumer",
            488891.3652
           ],
           [
            "Delaware",
            "Corporate",
            359185.4928
           ],
           [
            "Delaware",
            "Home Office",
            109751.1228
           ],
           [
            "District of Columbia",
            "Consumer",
            7417.125099999999
           ],
           [
            "District of Columbia",
            "Home Office",
            3178.7679
           ],
           [
            "Maine",
            "Corporate",
            2272.431
           ],
           [
            "Maine",
            "Home Office",
            1363.4586
           ],
           [
            "Maryland",
            "Consumer",
            323434.22479999997
           ],
           [
            "Maryland",
            "Corporate",
            309371.8672
           ],
           [
            "Maryland",
            "Home Office",
            105467.682
           ],
           [
            "Massachusetts",
            "Consumer",
            393559.09280000004
           ],
           [
            "Massachusetts",
            "Corporate",
            271420.064
           ],
           [
            "Massachusetts",
            "Home Office",
            251063.55920000002
           ],
           [
            "New Hampshire",
            "Consumer",
            10239.0168
           ],
           [
            "New Hampshire",
            "Corporate",
            15358.5252
           ],
           [
            "New Hampshire",
            "Home Office",
            20478.0336
           ],
           [
            "New Jersey",
            "Consumer",
            557056.0866
           ],
           [
            "New Jersey",
            "Corporate",
            488645.69
           ],
           [
            "New Jersey",
            "Home Office",
            224777.0174
           ],
           [
            "New York",
            "Consumer",
            47606786.7498
           ],
           [
            "New York",
            "Corporate",
            23766374.100599997
           ],
           [
            "New York",
            "Home Office",
            12142321.9704
           ],
           [
            "Ohio",
            "Consumer",
            -4327701.033
           ],
           [
            "Ohio",
            "Corporate",
            -2087479.3218
           ],
           [
            "Ohio",
            "Home Office",
            -1544395.2706
           ],
           [
            "Pennsylvania",
            "Consumer",
            -4419028.7252
           ],
           [
            "Pennsylvania",
            "Corporate",
            -3049752.2188
           ],
           [
            "Pennsylvania",
            "Home Office",
            -1664915.7521000002
           ],
           [
            "Rhode Island",
            "Consumer",
            109284.43950000001
           ],
           [
            "Rhode Island",
            "Corporate",
            152998.2153
           ],
           [
            "Rhode Island",
            "Home Office",
            145712.586
           ],
           [
            "Vermont",
            "Consumer",
            11224.891499999998
           ],
           [
            "Vermont",
            "Corporate",
            11224.891499999998
           ],
           [
            "Vermont",
            "Home Office",
            2244.9782999999998
           ],
           [
            "West Virginia",
            "Consumer",
            185.9216
           ],
           [
            "West Virginia",
            "Home Office",
            557.7648
           ],
           [
            "Alabama",
            "Consumer",
            144670.6325
           ],
           [
            "Alabama",
            "Corporate",
            162031.10840000003
           ],
           [
            "Alabama",
            "Home Office",
            46294.6024
           ],
           [
            "Arkansas",
            "Consumer",
            148321.4227
           ],
           [
            "Arkansas",
            "Corporate",
            56121.6194
           ],
           [
            "Arkansas",
            "Home Office",
            36078.1839
           ],
           [
            "Florida",
            "Consumer",
            -611874.3060000001
           ],
           [
            "Florida",
            "Corporate",
            -462305.0312000001
           ],
           [
            "Florida",
            "Home Office",
            -227753.21390000003
           ],
           [
            "Georgia",
            "Consumer",
            1381253.6805
           ],
           [
            "Georgia",
            "Corporate",
            958752.5547
           ],
           [
            "Georgia",
            "Home Office",
            650001.732
           ],
           [
            "Kentucky",
            "Consumer",
            851176.9415999999
           ],
           [
            "Kentucky",
            "Corporate",
            391989.381
           ],
           [
            "Kentucky",
            "Home Office",
            313591.5048
           ],
           [
            "Louisiana",
            "Consumer",
            57098.6598
           ],
           [
            "Louisiana",
            "Corporate",
            26353.2276
           ],
           [
            "Louisiana",
            "Home Office",
            8784.4092
           ],
           [
            "Mississippi",
            "Consumer",
            88843.3336
           ],
           [
            "Mississippi",
            "Corporate",
            44421.6668
           ],
           [
            "Mississippi",
            "Home Office",
            34902.7382
           ],
           [
            "North Carolina",
            "Consumer",
            -1063709.5324
           ],
           [
            "North Carolina",
            "Corporate",
            -561818.415
           ],
           [
            "North Carolina",
            "Home Office",
            -239709.1904
           ],
           [
            "South Carolina",
            "Consumer",
            38919.2452
           ],
           [
            "South Carolina",
            "Corporate",
            33612.0754
           ],
           [
            "South Carolina",
            "Home Office",
            1769.0566
           ],
           [
            "Tennessee",
            "Consumer",
            -534169.36
           ],
           [
            "Tennessee",
            "Corporate",
            -299134.8416
           ],
           [
            "Tennessee",
            "Home Office",
            -144225.7272
           ],
           [
            "Virginia",
            "Consumer",
            2175960.1968
           ],
           [
            "Virginia",
            "Corporate",
            1153072.9248000002
           ],
           [
            "Virginia",
            "Home Office",
            836907.768
           ],
           [
            "Arizona",
            "Consumer",
            -377071.706
           ],
           [
            "Arizona",
            "Corporate",
            -236526.79739999998
           ],
           [
            "Arizona",
            "Home Office",
            -154256.607
           ],
           [
            "California",
            "Consumer",
            80047693.68079999
           ],
           [
            "California",
            "Corporate",
            47203697.2278
           ],
           [
            "California",
            "Home Office",
            25587764.678499997
           ],
           [
            "Colorado",
            "Consumer",
            -620146.5005
           ],
           [
            "Colorado",
            "Corporate",
            -372087.9003
           ],
           [
            "Colorado",
            "Home Office",
            -195835.737
           ],
           [
            "Idaho",
            "Consumer",
            7440.5079000000005
           ],
           [
            "Idaho",
            "Corporate",
            7440.5079000000005
           ],
           [
            "Idaho",
            "Home Office",
            2480.1693
           ],
           [
            "Montana",
            "Consumer",
            7333.314
           ],
           [
            "Montana",
            "Corporate",
            3666.657
           ],
           [
            "Montana",
            "Home Office",
            16499.9565
           ],
           [
            "Nevada",
            "Consumer",
            59701.786199999995
           ],
           [
            "Nevada",
            "Corporate",
            43117.956699999995
           ],
           [
            "Nevada",
            "Home Office",
            26534.1272
           ],
           [
            "New Mexico",
            "Consumer",
            17356.7415
           ],
           [
            "New Mexico",
            "Corporate",
            12728.2771
           ],
           [
            "New Mexico",
            "Home Office",
            12728.2771
           ],
           [
            "Oregon",
            "Consumer",
            -79761.5235
           ],
           [
            "Oregon",
            "Corporate",
            -45237.87899999999
           ],
           [
            "Oregon",
            "Home Office",
            -22618.939499999997
           ],
           [
            "Utah",
            "Consumer",
            78942.5385
           ],
           [
            "Utah",
            "Corporate",
            30558.402000000002
           ],
           [
            "Utah",
            "Home Office",
            25465.335
           ],
           [
            "Washington",
            "Consumer",
            9185729.217500001
           ],
           [
            "Washington",
            "Corporate",
            4375747.3727
           ],
           [
            "Washington",
            "Home Office",
            3340265.1700000004
           ],
           [
            "Wyoming",
            "Home Office",
            100.196
           ]
          ],
          "hovertemplate": "Source: %{customdata[0]}<br>Target: %{customdata[1]}<br>Profit: $%{customdata[2]:,.2f}<extra></extra>",
          "source": [
           0,
           0,
           0,
           0,
           0,
           0,
           0,
           0,
           0,
           0,
           0,
           0,
           0,
           0,
           0,
           0,
           0,
           0,
           0,
           0,
           0,
           0,
           0,
           0,
           0,
           0,
           0,
           0,
           0,
           0,
           0,
           0,
           0,
           0,
           0,
           0,
           0,
           1,
           1,
           1,
           1,
           1,
           1,
           1,
           1,
           1,
           1,
           1,
           1,
           1,
           1,
           1,
           1,
           1,
           1,
           1,
           1,
           1,
           1,
           1,
           1,
           1,
           1,
           1,
           1,
           1,
           1,
           1,
           1,
           1,
           1,
           1,
           1,
           1,
           1,
           1,
           2,
           2,
           2,
           2,
           2,
           2,
           2,
           2,
           2,
           2,
           2,
           2,
           2,
           2,
           2,
           2,
           2,
           2,
           2,
           2,
           2,
           2,
           2,
           2,
           2,
           2,
           2,
           2,
           2,
           2,
           2,
           2,
           2,
           3,
           3,
           3,
           3,
           3,
           3,
           3,
           3,
           3,
           3,
           3,
           3,
           3,
           3,
           3,
           3,
           3,
           3,
           3,
           3,
           3,
           3,
           3,
           3,
           3,
           3,
           3,
           3,
           3,
           3,
           3,
           4,
           4,
           4,
           5,
           5,
           5,
           6,
           6,
           6,
           7,
           7,
           7,
           8,
           8,
           8,
           9,
           9,
           9,
           10,
           10,
           10,
           11,
           11,
           11,
           12,
           12,
           13,
           13,
           13,
           14,
           14,
           15,
           15,
           15,
           16,
           16,
           16,
           17,
           17,
           17,
           18,
           18,
           18,
           19,
           19,
           20,
           20,
           21,
           21,
           21,
           22,
           22,
           22,
           23,
           23,
           23,
           24,
           24,
           24,
           25,
           25,
           25,
           26,
           26,
           26,
           27,
           27,
           27,
           28,
           28,
           28,
           29,
           29,
           29,
           30,
           30,
           31,
           31,
           31,
           32,
           32,
           32,
           33,
           33,
           33,
           34,
           34,
           34,
           35,
           35,
           35,
           36,
           36,
           36,
           37,
           37,
           37,
           38,
           38,
           38,
           39,
           39,
           39,
           40,
           40,
           40,
           41,
           41,
           41,
           42,
           42,
           42,
           43,
           43,
           43,
           44,
           44,
           44,
           45,
           45,
           45,
           46,
           46,
           46,
           47,
           47,
           47,
           48,
           48,
           48,
           49,
           49,
           49,
           50,
           50,
           50,
           51,
           51,
           51,
           52
          ],
          "target": [
           4,
           4,
           4,
           5,
           5,
           5,
           6,
           6,
           6,
           7,
           7,
           7,
           8,
           8,
           8,
           9,
           9,
           9,
           10,
           10,
           10,
           11,
           11,
           11,
           12,
           12,
           13,
           13,
           13,
           14,
           14,
           15,
           15,
           15,
           16,
           16,
           16,
           17,
           17,
           17,
           18,
           18,
           18,
           19,
           19,
           20,
           20,
           21,
           21,
           21,
           22,
           22,
           22,
           23,
           23,
           23,
           24,
           24,
           24,
           25,
           25,
           25,
           26,
           26,
           26,
           27,
           27,
           27,
           28,
           28,
           28,
           29,
           29,
           29,
           30,
           30,
           31,
           31,
           31,
           32,
           32,
           32,
           33,
           33,
           33,
           34,
           34,
           34,
           35,
           35,
           35,
           36,
           36,
           36,
           37,
           37,
           37,
           38,
           38,
           38,
           39,
           39,
           39,
           40,
           40,
           40,
           41,
           41,
           41,
           42,
           42,
           42,
           43,
           43,
           43,
           44,
           44,
           44,
           45,
           45,
           45,
           46,
           46,
           46,
           47,
           47,
           47,
           48,
           48,
           48,
           49,
           49,
           49,
           50,
           50,
           50,
           51,
           51,
           51,
           52,
           53,
           54,
           55,
           53,
           54,
           55,
           53,
           54,
           55,
           53,
           54,
           55,
           53,
           54,
           55,
           53,
           54,
           55,
           53,
           54,
           55,
           53,
           54,
           55,
           53,
           55,
           53,
           54,
           55,
           53,
           54,
           53,
           54,
           55,
           53,
           54,
           55,
           53,
           54,
           55,
           53,
           54,
           55,
           53,
           55,
           54,
           55,
           53,
           54,
           55,
           53,
           54,
           55,
           53,
           54,
           55,
           53,
           54,
           55,
           53,
           54,
           55,
           53,
           54,
           55,
           53,
           54,
           55,
           53,
           54,
           55,
           53,
           54,
           55,
           53,
           55,
           53,
           54,
           55,
           53,
           54,
           55,
           53,
           54,
           55,
           53,
           54,
           55,
           53,
           54,
           55,
           53,
           54,
           55,
           53,
           54,
           55,
           53,
           54,
           55,
           53,
           54,
           55,
           53,
           54,
           55,
           53,
           54,
           55,
           53,
           54,
           55,
           53,
           54,
           55,
           53,
           54,
           55,
           53,
           54,
           55,
           53,
           54,
           55,
           53,
           54,
           55,
           53,
           54,
           55,
           53,
           54,
           55,
           53,
           54,
           55,
           53,
           54,
           55,
           55
          ],
          "value": [
           -3479776.8120000004,
           -1512946.4400000002,
           -1210357.152,
           1341954.3499,
           753700.3883,
           643402.7705000001,
           16573.366599999998,
           11838.118999999999,
           7102.8714,
           6691.548,
           6691.548,
           6691.548,
           3229140.7632,
           1712423.132,
           1296548.9428,
           551982.5574,
           173170.9984,
           238110.1228,
           244575.999,
           96543.1575,
           83670.7365,
           38704.789800000006,
           26482.2246,
           12222.565200000001,
           1150.7485,
           460.2994,
           169888.46,
           53393.516,
           97079.12,
           789.6566,
           3948.2830000000004,
           -13482182.7012,
           -8027559.1656,
           -3833674.0886999997,
           294063.014,
           394884.6188,
           235250.4112,
           150994.1474,
           94810.27859999999,
           42137.9016,
           488891.3652,
           359185.4928,
           109751.1228,
           7417.125099999999,
           3178.7679,
           2272.431,
           1363.4586,
           323434.22479999997,
           309371.8672,
           105467.682,
           393559.09280000004,
           271420.064,
           251063.55920000002,
           10239.0168,
           15358.5252,
           20478.0336,
           557056.0866,
           488645.69,
           224777.0174,
           47606786.7498,
           23766374.100599997,
           12142321.9704,
           -4327701.033,
           -2087479.3218,
           -1544395.2706,
           -4419028.7252,
           -3049752.2188,
           -1664915.7521000002,
           109284.43950000001,
           152998.2153,
           145712.586,
           11224.891499999998,
           11224.891499999998,
           2244.9782999999998,
           185.9216,
           557.7648,
           144670.6325,
           162031.10840000003,
           46294.6024,
           148321.4227,
           56121.6194,
           36078.1839,
           -611874.3060000001,
           -462305.0312000001,
           -227753.21390000003,
           1381253.6805,
           958752.5547,
           650001.732,
           851176.9415999999,
           391989.381,
           313591.5048,
           57098.6598,
           26353.2276,
           8784.4092,
           88843.3336,
           44421.6668,
           34902.7382,
           -1063709.5324,
           -561818.415,
           -239709.1904,
           38919.2452,
           33612.0754,
           1769.0566,
           -534169.36,
           -299134.8416,
           -144225.7272,
           2175960.1968,
           1153072.9248000002,
           836907.768,
           -377071.706,
           -236526.79739999998,
           -154256.607,
           80047693.68079999,
           47203697.2278,
           25587764.678499997,
           -620146.5005,
           -372087.9003,
           -195835.737,
           7440.5079000000005,
           7440.5079000000005,
           2480.1693,
           7333.314,
           3666.657,
           16499.9565,
           59701.786199999995,
           43117.956699999995,
           26534.1272,
           17356.7415,
           12728.2771,
           12728.2771,
           -79761.5235,
           -45237.87899999999,
           -22618.939499999997,
           78942.5385,
           30558.402000000002,
           25465.335,
           9185729.217500001,
           4375747.3727,
           3340265.1700000004,
           100.196,
           -3479776.8120000004,
           -1512946.4400000002,
           -1210357.152,
           1341954.3499,
           753700.3883,
           643402.7705000001,
           16573.366599999998,
           11838.118999999999,
           7102.8714,
           6691.548,
           6691.548,
           6691.548,
           3229140.7632,
           1712423.132,
           1296548.9428,
           551982.5574,
           173170.9984,
           238110.1228,
           244575.999,
           96543.1575,
           83670.7365,
           38704.789800000006,
           26482.2246,
           12222.565200000001,
           1150.7485,
           460.2994,
           169888.46,
           53393.516,
           97079.12,
           789.6566,
           3948.2830000000004,
           -13482182.7012,
           -8027559.1656,
           -3833674.0886999997,
           294063.014,
           394884.6188,
           235250.4112,
           150994.1474,
           94810.27859999999,
           42137.9016,
           488891.3652,
           359185.4928,
           109751.1228,
           7417.125099999999,
           3178.7679,
           2272.431,
           1363.4586,
           323434.22479999997,
           309371.8672,
           105467.682,
           393559.09280000004,
           271420.064,
           251063.55920000002,
           10239.0168,
           15358.5252,
           20478.0336,
           557056.0866,
           488645.69,
           224777.0174,
           47606786.7498,
           23766374.100599997,
           12142321.9704,
           -4327701.033,
           -2087479.3218,
           -1544395.2706,
           -4419028.7252,
           -3049752.2188,
           -1664915.7521000002,
           109284.43950000001,
           152998.2153,
           145712.586,
           11224.891499999998,
           11224.891499999998,
           2244.9782999999998,
           185.9216,
           557.7648,
           144670.6325,
           162031.10840000003,
           46294.6024,
           148321.4227,
           56121.6194,
           36078.1839,
           -611874.3060000001,
           -462305.0312000001,
           -227753.21390000003,
           1381253.6805,
           958752.5547,
           650001.732,
           851176.9415999999,
           391989.381,
           313591.5048,
           57098.6598,
           26353.2276,
           8784.4092,
           88843.3336,
           44421.6668,
           34902.7382,
           -1063709.5324,
           -561818.415,
           -239709.1904,
           38919.2452,
           33612.0754,
           1769.0566,
           -534169.36,
           -299134.8416,
           -144225.7272,
           2175960.1968,
           1153072.9248000002,
           836907.768,
           -377071.706,
           -236526.79739999998,
           -154256.607,
           80047693.68079999,
           47203697.2278,
           25587764.678499997,
           -620146.5005,
           -372087.9003,
           -195835.737,
           7440.5079000000005,
           7440.5079000000005,
           2480.1693,
           7333.314,
           3666.657,
           16499.9565,
           59701.786199999995,
           43117.956699999995,
           26534.1272,
           17356.7415,
           12728.2771,
           12728.2771,
           -79761.5235,
           -45237.87899999999,
           -22618.939499999997,
           78942.5385,
           30558.402000000002,
           25465.335,
           9185729.217500001,
           4375747.3727,
           3340265.1700000004,
           100.196
          ]
         },
         "node": {
          "color": [
           "rgb(102,194,165)",
           "rgb(252,141,98)",
           "rgb(141,160,203)",
           "rgb(231,138,195)",
           "gray",
           "gray",
           "gray",
           "gray",
           "gray",
           "gray",
           "gray",
           "gray",
           "gray",
           "gray",
           "gray",
           "gray",
           "gray",
           "gray",
           "gray",
           "gray",
           "gray",
           "gray",
           "gray",
           "gray",
           "gray",
           "gray",
           "gray",
           "gray",
           "gray",
           "gray",
           "gray",
           "gray",
           "gray",
           "gray",
           "gray",
           "gray",
           "gray",
           "gray",
           "gray",
           "gray",
           "gray",
           "gray",
           "gray",
           "gray",
           "gray",
           "gray",
           "gray",
           "gray",
           "gray",
           "gray",
           "gray",
           "gray",
           "gray",
           "gray",
           "gray",
           "gray"
          ],
          "label": [
           "Central",
           "East",
           "South",
           "West",
           "Illinois",
           "Indiana",
           "Iowa",
           "Kansas",
           "Michigan",
           "Minnesota",
           "Missouri",
           "Nebraska",
           "North Dakota",
           "Oklahoma",
           "South Dakota",
           "Texas",
           "Wisconsin",
           "Connecticut",
           "Delaware",
           "District of Columbia",
           "Maine",
           "Maryland",
           "Massachusetts",
           "New Hampshire",
           "New Jersey",
           "New York",
           "Ohio",
           "Pennsylvania",
           "Rhode Island",
           "Vermont",
           "West Virginia",
           "Alabama",
           "Arkansas",
           "Florida",
           "Georgia",
           "Kentucky",
           "Louisiana",
           "Mississippi",
           "North Carolina",
           "South Carolina",
           "Tennessee",
           "Virginia",
           "Arizona",
           "California",
           "Colorado",
           "Idaho",
           "Montana",
           "Nevada",
           "New Mexico",
           "Oregon",
           "Utah",
           "Washington",
           "Wyoming",
           "Consumer",
           "Corporate",
           "Home Office"
          ],
          "line": {
           "color": "black",
           "width": 1
          },
          "pad": 20,
          "thickness": 30
         },
         "type": "sankey"
        }
       ],
       "layout": {
        "font": {
         "size": 14
        },
        "height": 1000,
        "template": {
         "data": {
          "bar": [
           {
            "error_x": {
             "color": "#2a3f5f"
            },
            "error_y": {
             "color": "#2a3f5f"
            },
            "marker": {
             "line": {
              "color": "#E5ECF6",
              "width": 0.5
             },
             "pattern": {
              "fillmode": "overlay",
              "size": 10,
              "solidity": 0.2
             }
            },
            "type": "bar"
           }
          ],
          "barpolar": [
           {
            "marker": {
             "line": {
              "color": "#E5ECF6",
              "width": 0.5
             },
             "pattern": {
              "fillmode": "overlay",
              "size": 10,
              "solidity": 0.2
             }
            },
            "type": "barpolar"
           }
          ],
          "carpet": [
           {
            "aaxis": {
             "endlinecolor": "#2a3f5f",
             "gridcolor": "white",
             "linecolor": "white",
             "minorgridcolor": "white",
             "startlinecolor": "#2a3f5f"
            },
            "baxis": {
             "endlinecolor": "#2a3f5f",
             "gridcolor": "white",
             "linecolor": "white",
             "minorgridcolor": "white",
             "startlinecolor": "#2a3f5f"
            },
            "type": "carpet"
           }
          ],
          "choropleth": [
           {
            "colorbar": {
             "outlinewidth": 0,
             "ticks": ""
            },
            "type": "choropleth"
           }
          ],
          "contour": [
           {
            "colorbar": {
             "outlinewidth": 0,
             "ticks": ""
            },
            "colorscale": [
             [
              0,
              "#0d0887"
             ],
             [
              0.1111111111111111,
              "#46039f"
             ],
             [
              0.2222222222222222,
              "#7201a8"
             ],
             [
              0.3333333333333333,
              "#9c179e"
             ],
             [
              0.4444444444444444,
              "#bd3786"
             ],
             [
              0.5555555555555556,
              "#d8576b"
             ],
             [
              0.6666666666666666,
              "#ed7953"
             ],
             [
              0.7777777777777778,
              "#fb9f3a"
             ],
             [
              0.8888888888888888,
              "#fdca26"
             ],
             [
              1,
              "#f0f921"
             ]
            ],
            "type": "contour"
           }
          ],
          "contourcarpet": [
           {
            "colorbar": {
             "outlinewidth": 0,
             "ticks": ""
            },
            "type": "contourcarpet"
           }
          ],
          "heatmap": [
           {
            "colorbar": {
             "outlinewidth": 0,
             "ticks": ""
            },
            "colorscale": [
             [
              0,
              "#0d0887"
             ],
             [
              0.1111111111111111,
              "#46039f"
             ],
             [
              0.2222222222222222,
              "#7201a8"
             ],
             [
              0.3333333333333333,
              "#9c179e"
             ],
             [
              0.4444444444444444,
              "#bd3786"
             ],
             [
              0.5555555555555556,
              "#d8576b"
             ],
             [
              0.6666666666666666,
              "#ed7953"
             ],
             [
              0.7777777777777778,
              "#fb9f3a"
             ],
             [
              0.8888888888888888,
              "#fdca26"
             ],
             [
              1,
              "#f0f921"
             ]
            ],
            "type": "heatmap"
           }
          ],
          "heatmapgl": [
           {
            "colorbar": {
             "outlinewidth": 0,
             "ticks": ""
            },
            "colorscale": [
             [
              0,
              "#0d0887"
             ],
             [
              0.1111111111111111,
              "#46039f"
             ],
             [
              0.2222222222222222,
              "#7201a8"
             ],
             [
              0.3333333333333333,
              "#9c179e"
             ],
             [
              0.4444444444444444,
              "#bd3786"
             ],
             [
              0.5555555555555556,
              "#d8576b"
             ],
             [
              0.6666666666666666,
              "#ed7953"
             ],
             [
              0.7777777777777778,
              "#fb9f3a"
             ],
             [
              0.8888888888888888,
              "#fdca26"
             ],
             [
              1,
              "#f0f921"
             ]
            ],
            "type": "heatmapgl"
           }
          ],
          "histogram": [
           {
            "marker": {
             "pattern": {
              "fillmode": "overlay",
              "size": 10,
              "solidity": 0.2
             }
            },
            "type": "histogram"
           }
          ],
          "histogram2d": [
           {
            "colorbar": {
             "outlinewidth": 0,
             "ticks": ""
            },
            "colorscale": [
             [
              0,
              "#0d0887"
             ],
             [
              0.1111111111111111,
              "#46039f"
             ],
             [
              0.2222222222222222,
              "#7201a8"
             ],
             [
              0.3333333333333333,
              "#9c179e"
             ],
             [
              0.4444444444444444,
              "#bd3786"
             ],
             [
              0.5555555555555556,
              "#d8576b"
             ],
             [
              0.6666666666666666,
              "#ed7953"
             ],
             [
              0.7777777777777778,
              "#fb9f3a"
             ],
             [
              0.8888888888888888,
              "#fdca26"
             ],
             [
              1,
              "#f0f921"
             ]
            ],
            "type": "histogram2d"
           }
          ],
          "histogram2dcontour": [
           {
            "colorbar": {
             "outlinewidth": 0,
             "ticks": ""
            },
            "colorscale": [
             [
              0,
              "#0d0887"
             ],
             [
              0.1111111111111111,
              "#46039f"
             ],
             [
              0.2222222222222222,
              "#7201a8"
             ],
             [
              0.3333333333333333,
              "#9c179e"
             ],
             [
              0.4444444444444444,
              "#bd3786"
             ],
             [
              0.5555555555555556,
              "#d8576b"
             ],
             [
              0.6666666666666666,
              "#ed7953"
             ],
             [
              0.7777777777777778,
              "#fb9f3a"
             ],
             [
              0.8888888888888888,
              "#fdca26"
             ],
             [
              1,
              "#f0f921"
             ]
            ],
            "type": "histogram2dcontour"
           }
          ],
          "mesh3d": [
           {
            "colorbar": {
             "outlinewidth": 0,
             "ticks": ""
            },
            "type": "mesh3d"
           }
          ],
          "parcoords": [
           {
            "line": {
             "colorbar": {
              "outlinewidth": 0,
              "ticks": ""
             }
            },
            "type": "parcoords"
           }
          ],
          "pie": [
           {
            "automargin": true,
            "type": "pie"
           }
          ],
          "scatter": [
           {
            "fillpattern": {
             "fillmode": "overlay",
             "size": 10,
             "solidity": 0.2
            },
            "type": "scatter"
           }
          ],
          "scatter3d": [
           {
            "line": {
             "colorbar": {
              "outlinewidth": 0,
              "ticks": ""
             }
            },
            "marker": {
             "colorbar": {
              "outlinewidth": 0,
              "ticks": ""
             }
            },
            "type": "scatter3d"
           }
          ],
          "scattercarpet": [
           {
            "marker": {
             "colorbar": {
              "outlinewidth": 0,
              "ticks": ""
             }
            },
            "type": "scattercarpet"
           }
          ],
          "scattergeo": [
           {
            "marker": {
             "colorbar": {
              "outlinewidth": 0,
              "ticks": ""
             }
            },
            "type": "scattergeo"
           }
          ],
          "scattergl": [
           {
            "marker": {
             "colorbar": {
              "outlinewidth": 0,
              "ticks": ""
             }
            },
            "type": "scattergl"
           }
          ],
          "scattermapbox": [
           {
            "marker": {
             "colorbar": {
              "outlinewidth": 0,
              "ticks": ""
             }
            },
            "type": "scattermapbox"
           }
          ],
          "scatterpolar": [
           {
            "marker": {
             "colorbar": {
              "outlinewidth": 0,
              "ticks": ""
             }
            },
            "type": "scatterpolar"
           }
          ],
          "scatterpolargl": [
           {
            "marker": {
             "colorbar": {
              "outlinewidth": 0,
              "ticks": ""
             }
            },
            "type": "scatterpolargl"
           }
          ],
          "scatterternary": [
           {
            "marker": {
             "colorbar": {
              "outlinewidth": 0,
              "ticks": ""
             }
            },
            "type": "scatterternary"
           }
          ],
          "surface": [
           {
            "colorbar": {
             "outlinewidth": 0,
             "ticks": ""
            },
            "colorscale": [
             [
              0,
              "#0d0887"
             ],
             [
              0.1111111111111111,
              "#46039f"
             ],
             [
              0.2222222222222222,
              "#7201a8"
             ],
             [
              0.3333333333333333,
              "#9c179e"
             ],
             [
              0.4444444444444444,
              "#bd3786"
             ],
             [
              0.5555555555555556,
              "#d8576b"
             ],
             [
              0.6666666666666666,
              "#ed7953"
             ],
             [
              0.7777777777777778,
              "#fb9f3a"
             ],
             [
              0.8888888888888888,
              "#fdca26"
             ],
             [
              1,
              "#f0f921"
             ]
            ],
            "type": "surface"
           }
          ],
          "table": [
           {
            "cells": {
             "fill": {
              "color": "#EBF0F8"
             },
             "line": {
              "color": "white"
             }
            },
            "header": {
             "fill": {
              "color": "#C8D4E3"
             },
             "line": {
              "color": "white"
             }
            },
            "type": "table"
           }
          ]
         },
         "layout": {
          "annotationdefaults": {
           "arrowcolor": "#2a3f5f",
           "arrowhead": 0,
           "arrowwidth": 1
          },
          "autotypenumbers": "strict",
          "coloraxis": {
           "colorbar": {
            "outlinewidth": 0,
            "ticks": ""
           }
          },
          "colorscale": {
           "diverging": [
            [
             0,
             "#8e0152"
            ],
            [
             0.1,
             "#c51b7d"
            ],
            [
             0.2,
             "#de77ae"
            ],
            [
             0.3,
             "#f1b6da"
            ],
            [
             0.4,
             "#fde0ef"
            ],
            [
             0.5,
             "#f7f7f7"
            ],
            [
             0.6,
             "#e6f5d0"
            ],
            [
             0.7,
             "#b8e186"
            ],
            [
             0.8,
             "#7fbc41"
            ],
            [
             0.9,
             "#4d9221"
            ],
            [
             1,
             "#276419"
            ]
           ],
           "sequential": [
            [
             0,
             "#0d0887"
            ],
            [
             0.1111111111111111,
             "#46039f"
            ],
            [
             0.2222222222222222,
             "#7201a8"
            ],
            [
             0.3333333333333333,
             "#9c179e"
            ],
            [
             0.4444444444444444,
             "#bd3786"
            ],
            [
             0.5555555555555556,
             "#d8576b"
            ],
            [
             0.6666666666666666,
             "#ed7953"
            ],
            [
             0.7777777777777778,
             "#fb9f3a"
            ],
            [
             0.8888888888888888,
             "#fdca26"
            ],
            [
             1,
             "#f0f921"
            ]
           ],
           "sequentialminus": [
            [
             0,
             "#0d0887"
            ],
            [
             0.1111111111111111,
             "#46039f"
            ],
            [
             0.2222222222222222,
             "#7201a8"
            ],
            [
             0.3333333333333333,
             "#9c179e"
            ],
            [
             0.4444444444444444,
             "#bd3786"
            ],
            [
             0.5555555555555556,
             "#d8576b"
            ],
            [
             0.6666666666666666,
             "#ed7953"
            ],
            [
             0.7777777777777778,
             "#fb9f3a"
            ],
            [
             0.8888888888888888,
             "#fdca26"
            ],
            [
             1,
             "#f0f921"
            ]
           ]
          },
          "colorway": [
           "#636efa",
           "#EF553B",
           "#00cc96",
           "#ab63fa",
           "#FFA15A",
           "#19d3f3",
           "#FF6692",
           "#B6E880",
           "#FF97FF",
           "#FECB52"
          ],
          "font": {
           "color": "#2a3f5f"
          },
          "geo": {
           "bgcolor": "white",
           "lakecolor": "white",
           "landcolor": "#E5ECF6",
           "showlakes": true,
           "showland": true,
           "subunitcolor": "white"
          },
          "hoverlabel": {
           "align": "left"
          },
          "hovermode": "closest",
          "mapbox": {
           "style": "light"
          },
          "paper_bgcolor": "white",
          "plot_bgcolor": "#E5ECF6",
          "polar": {
           "angularaxis": {
            "gridcolor": "white",
            "linecolor": "white",
            "ticks": ""
           },
           "bgcolor": "#E5ECF6",
           "radialaxis": {
            "gridcolor": "white",
            "linecolor": "white",
            "ticks": ""
           }
          },
          "scene": {
           "xaxis": {
            "backgroundcolor": "#E5ECF6",
            "gridcolor": "white",
            "gridwidth": 2,
            "linecolor": "white",
            "showbackground": true,
            "ticks": "",
            "zerolinecolor": "white"
           },
           "yaxis": {
            "backgroundcolor": "#E5ECF6",
            "gridcolor": "white",
            "gridwidth": 2,
            "linecolor": "white",
            "showbackground": true,
            "ticks": "",
            "zerolinecolor": "white"
           },
           "zaxis": {
            "backgroundcolor": "#E5ECF6",
            "gridcolor": "white",
            "gridwidth": 2,
            "linecolor": "white",
            "showbackground": true,
            "ticks": "",
            "zerolinecolor": "white"
           }
          },
          "shapedefaults": {
           "line": {
            "color": "#2a3f5f"
           }
          },
          "ternary": {
           "aaxis": {
            "gridcolor": "white",
            "linecolor": "white",
            "ticks": ""
           },
           "baxis": {
            "gridcolor": "white",
            "linecolor": "white",
            "ticks": ""
           },
           "bgcolor": "#E5ECF6",
           "caxis": {
            "gridcolor": "white",
            "linecolor": "white",
            "ticks": ""
           }
          },
          "title": {
           "x": 0.05
          },
          "xaxis": {
           "automargin": true,
           "gridcolor": "white",
           "linecolor": "white",
           "ticks": "",
           "title": {
            "standoff": 15
           },
           "zerolinecolor": "white",
           "zerolinewidth": 2
          },
          "yaxis": {
           "automargin": true,
           "gridcolor": "white",
           "linecolor": "white",
           "ticks": "",
           "title": {
            "standoff": 15
           },
           "zerolinecolor": "white",
           "zerolinewidth": 2
          }
         }
        },
        "title": {
         "text": "Superstore Profit Flow (Region → State → Segment) with Hover Info"
        },
        "width": 1200
       }
      },
      "image/png": "[encoded data removed]",
      "text/html": [
       "<div>                            <div id=\"4cb27e4d-6d53-4166-816e-10f6c4adb0fd\" class=\"plotly-graph-div\" style=\"height:1000px; width:1200px;\"></div>            <script type=\"text/javascript\">                require([\"plotly\"], function(Plotly) {                    window.PLOTLYENV=window.PLOTLYENV || {};                                    if (document.getElementById(\"4cb27e4d-6d53-4166-816e-10f6c4adb0fd\")) {                    Plotly.newPlot(                        \"4cb27e4d-6d53-4166-816e-10f6c4adb0fd\",                        [{\"link\":{\"color\":[\"rgba(102,194,165,0.5)\",\"rgba(102,194,165,0.5)\",\"rgba(102,194,165,0.5)\",\"rgba(102,194,165,0.5)\",\"rgba(102,194,165,0.5)\",\"rgba(102,194,165,0.5)\",\"rgba(102,194,165,0.5)\",\"rgba(102,194,165,0.5)\",\"rgba(102,194,165,0.5)\",\"rgba(102,194,165,0.5)\",\"rgba(102,194,165,0.5)\",\"rgba(102,194,165,0.5)\",\"rgba(102,194,165,0.5)\",\"rgba(102,194,165,0.5)\",\"rgba(102,194,165,0.5)\",\"rgba(102,194,165,0.5)\",\"rgba(102,194,165,0.5)\",\"rgba(102,194,165,0.5)\",\"rgba(102,194,165,0.5)\",\"rgba(102,194,165,0.5)\",\"rgba(102,194,165,0.5)\",\"rgba(102,194,165,0.5)\",\"rgba(102,194,165,0.5)\",\"rgba(102,194,165,0.5)\",\"rgba(102,194,165,0.5)\",\"rgba(102,194,165,0.5)\",\"rgba(102,194,165,0.5)\",\"rgba(102,194,165,0.5)\",\"rgba(102,194,165,0.5)\",\"rgba(102,194,165,0.5)\",\"rgba(102,194,165,0.5)\",\"rgba(102,194,165,0.5)\",\"rgba(102,194,165,0.5)\",\"rgba(102,194,165,0.5)\",\"rgba(102,194,165,0.5)\",\"rgba(102,194,165,0.5)\",\"rgba(102,194,165,0.5)\",\"rgba(252,141,98,0.5)\",\"rgba(252,141,98,0.5)\",\"rgba(252,141,98,0.5)\",\"rgba(252,141,98,0.5)\",\"rgba(252,141,98,0.5)\",\"rgba(252,141,98,0.5)\",\"rgba(252,141,98,0.5)\",\"rgba(252,141,98,0.5)\",\"rgba(252,141,98,0.5)\",\"rgba(252,141,98,0.5)\",\"rgba(252,141,98,0.5)\",\"rgba(252,141,98,0.5)\",\"rgba(252,141,98,0.5)\",\"rgba(252,141,98,0.5)\",\"rgba(252,141,98,0.5)\",\"rgba(252,141,98,0.5)\",\"rgba(252,141,98,0.5)\",\"rgba(252,141,98,0.5)\",\"rgba(252,141,98,0.5)\",\"rgba(252,141,98,0.5)\",\"rgba(252,141,98,0.5)\",\"rgba(252,141,98,0.5)\",\"rgba(252,141,98,0.5)\",\"rgba(252,141,98,0.5)\",\"rgba(252,141,98,0.5)\",\"rgba(252,141,98,0.5)\",\"rgba(252,141,98,0.5)\",\"rgba(252,141,98,0.5)\",\"rgba(252,141,98,0.5)\",\"rgba(252,141,98,0.5)\",\"rgba(252,141,98,0.5)\",\"rgba(252,141,98,0.5)\",\"rgba(252,141,98,0.5)\",\"rgba(252,141,98,0.5)\",\"rgba(252,141,98,0.5)\",\"rgba(252,141,98,0.5)\",\"rgba(252,141,98,0.5)\",\"rgba(252,141,98,0.5)\",\"rgba(252,141,98,0.5)\",\"rgba(141,160,203,0.5)\",\"rgba(141,160,203,0.5)\",\"rgba(141,160,203,0.5)\",\"rgba(141,160,203,0.5)\",\"rgba(141,160,203,0.5)\",\"rgba(141,160,203,0.5)\",\"rgba(141,160,203,0.5)\",\"rgba(141,160,203,0.5)\",\"rgba(141,160,203,0.5)\",\"rgba(141,160,203,0.5)\",\"rgba(141,160,203,0.5)\",\"rgba(141,160,203,0.5)\",\"rgba(141,160,203,0.5)\",\"rgba(141,160,203,0.5)\",\"rgba(141,160,203,0.5)\",\"rgba(141,160,203,0.5)\",\"rgba(141,160,203,0.5)\",\"rgba(141,160,203,0.5)\",\"rgba(141,160,203,0.5)\",\"rgba(141,160,203,0.5)\",\"rgba(141,160,203,0.5)\",\"rgba(141,160,203,0.5)\",\"rgba(141,160,203,0.5)\",\"rgba(141,160,203,0.5)\",\"rgba(141,160,203,0.5)\",\"rgba(141,160,203,0.5)\",\"rgba(141,160,203,0.5)\",\"rgba(141,160,203,0.5)\",\"rgba(141,160,203,0.5)\",\"rgba(141,160,203,0.5)\",\"rgba(141,160,203,0.5)\",\"rgba(141,160,203,0.5)\",\"rgba(141,160,203,0.5)\",\"rgba(231,138,195,0.5)\",\"rgba(231,138,195,0.5)\",\"rgba(231,138,195,0.5)\",\"rgba(231,138,195,0.5)\",\"rgba(231,138,195,0.5)\",\"rgba(231,138,195,0.5)\",\"rgba(231,138,195,0.5)\",\"rgba(231,138,195,0.5)\",\"rgba(231,138,195,0.5)\",\"rgba(231,138,195,0.5)\",\"rgba(231,138,195,0.5)\",\"rgba(231,138,195,0.5)\",\"rgba(231,138,195,0.5)\",\"rgba(231,138,195,0.5)\",\"rgba(231,138,195,0.5)\",\"rgba(231,138,195,0.5)\",\"rgba(231,138,195,0.5)\",\"rgba(231,138,195,0.5)\",\"rgba(231,138,195,0.5)\",\"rgba(231,138,195,0.5)\",\"rgba(231,138,195,0.5)\",\"rgba(231,138,195,0.5)\",\"rgba(231,138,195,0.5)\",\"rgba(231,138,195,0.5)\",\"rgba(231,138,195,0.5)\",\"rgba(231,138,195,0.5)\",\"rgba(231,138,195,0.5)\",\"rgba(231,138,195,0.5)\",\"rgba(231,138,195,0.5)\",\"rgba(231,138,195,0.5)\",\"rgba(231,138,195,0.5)\",\"rgba(102,194,165,0.5)\",\"rgba(102,194,165,0.5)\",\"rgba(102,194,165,0.5)\",\"rgba(102,194,165,0.5)\",\"rgba(102,194,165,0.5)\",\"rgba(102,194,165,0.5)\",\"rgba(102,194,165,0.5)\",\"rgba(102,194,165,0.5)\",\"rgba(102,194,165,0.5)\",\"rgba(102,194,165,0.5)\",\"rgba(102,194,165,0.5)\",\"rgba(102,194,165,0.5)\",\"rgba(102,194,165,0.5)\",\"rgba(102,194,165,0.5)\",\"rgba(102,194,165,0.5)\",\"rgba(102,194,165,0.5)\",\"rgba(102,194,165,0.5)\",\"rgba(102,194,165,0.5)\",\"rgba(102,194,165,0.5)\",\"rgba(102,194,165,0.5)\",\"rgba(102,194,165,0.5)\",\"rgba(102,194,165,0.5)\",\"rgba(102,194,165,0.5)\",\"rgba(102,194,165,0.5)\",\"rgba(102,194,165,0.5)\",\"rgba(102,194,165,0.5)\",\"rgba(102,194,165,0.5)\",\"rgba(102,194,165,0.5)\",\"rgba(102,194,165,0.5)\",\"rgba(102,194,165,0.5)\",\"rgba(102,194,165,0.5)\",\"rgba(102,194,165,0.5)\",\"rgba(102,194,165,0.5)\",\"rgba(102,194,165,0.5)\",\"rgba(102,194,165,0.5)\",\"rgba(102,194,165,0.5)\",\"rgba(102,194,165,0.5)\",\"rgba(252,141,98,0.5)\",\"rgba(252,141,98,0.5)\",\"rgba(252,141,98,0.5)\",\"rgba(252,141,98,0.5)\",\"rgba(252,141,98,0.5)\",\"rgba(252,141,98,0.5)\",\"rgba(252,141,98,0.5)\",\"rgba(252,141,98,0.5)\",\"rgba(252,141,98,0.5)\",\"rgba(252,141,98,0.5)\",\"rgba(252,141,98,0.5)\",\"rgba(252,141,98,0.5)\",\"rgba(252,141,98,0.5)\",\"rgba(252,141,98,0.5)\",\"rgba(252,141,98,0.5)\",\"rgba(252,141,98,0.5)\",\"rgba(252,141,98,0.5)\",\"rgba(252,141,98,0.5)\",\"rgba(252,141,98,0.5)\",\"rgba(252,141,98,0.5)\",\"rgba(252,141,98,0.5)\",\"rgba(252,141,98,0.5)\",\"rgba(252,141,98,0.5)\",\"rgba(252,141,98,0.5)\",\"rgba(252,141,98,0.5)\",\"rgba(252,141,98,0.5)\",\"rgba(252,141,98,0.5)\",\"rgba(252,141,98,0.5)\",\"rgba(252,141,98,0.5)\",\"rgba(252,141,98,0.5)\",\"rgba(252,141,98,0.5)\",\"rgba(252,141,98,0.5)\",\"rgba(252,141,98,0.5)\",\"rgba(252,141,98,0.5)\",\"rgba(252,141,98,0.5)\",\"rgba(252,141,98,0.5)\",\"rgba(252,141,98,0.5)\",\"rgba(252,141,98,0.5)\",\"rgba(252,141,98,0.5)\",\"rgba(141,160,203,0.5)\",\"rgba(141,160,203,0.5)\",\"rgba(141,160,203,0.5)\",\"rgba(141,160,203,0.5)\",\"rgba(141,160,203,0.5)\",\"rgba(141,160,203,0.5)\",\"rgba(141,160,203,0.5)\",\"rgba(141,160,203,0.5)\",\"rgba(141,160,203,0.5)\",\"rgba(141,160,203,0.5)\",\"rgba(141,160,203,0.5)\",\"rgba(141,160,203,0.5)\",\"rgba(141,160,203,0.5)\",\"rgba(141,160,203,0.5)\",\"rgba(141,160,203,0.5)\",\"rgba(141,160,203,0.5)\",\"rgba(141,160,203,0.5)\",\"rgba(141,160,203,0.5)\",\"rgba(141,160,203,0.5)\",\"rgba(141,160,203,0.5)\",\"rgba(141,160,203,0.5)\",\"rgba(141,160,203,0.5)\",\"rgba(141,160,203,0.5)\",\"rgba(141,160,203,0.5)\",\"rgba(141,160,203,0.5)\",\"rgba(141,160,203,0.5)\",\"rgba(141,160,203,0.5)\",\"rgba(141,160,203,0.5)\",\"rgba(141,160,203,0.5)\",\"rgba(141,160,203,0.5)\",\"rgba(141,160,203,0.5)\",\"rgba(141,160,203,0.5)\",\"rgba(141,160,203,0.5)\",\"rgba(231,138,195,0.5)\",\"rgba(231,138,195,0.5)\",\"rgba(231,138,195,0.5)\",\"rgba(231,138,195,0.5)\",\"rgba(231,138,195,0.5)\",\"rgba(231,138,195,0.5)\",\"rgba(231,138,195,0.5)\",\"rgba(231,138,195,0.5)\",\"rgba(231,138,195,0.5)\",\"rgba(231,138,195,0.5)\",\"rgba(231,138,195,0.5)\",\"rgba(231,138,195,0.5)\",\"rgba(231,138,195,0.5)\",\"rgba(231,138,195,0.5)\",\"rgba(231,138,195,0.5)\",\"rgba(231,138,195,0.5)\",\"rgba(231,138,195,0.5)\",\"rgba(231,138,195,0.5)\",\"rgba(231,138,195,0.5)\",\"rgba(231,138,195,0.5)\",\"rgba(231,138,195,0.5)\",\"rgba(231,138,195,0.5)\",\"rgba(231,138,195,0.5)\",\"rgba(231,138,195,0.5)\",\"rgba(231,138,195,0.5)\",\"rgba(231,138,195,0.5)\",\"rgba(231,138,195,0.5)\",\"rgba(231,138,195,0.5)\",\"rgba(231,138,195,0.5)\",\"rgba(231,138,195,0.5)\",\"rgba(231,138,195,0.5)\"],\"customdata\":[[\"Central\",\"Illinois\",-3479776.8120000004],[\"Central\",\"Illinois\",-1512946.4400000002],[\"Central\",\"Illinois\",-1210357.152],[\"Central\",\"Indiana\",1341954.3499],[\"Central\",\"Indiana\",753700.3883],[\"Central\",\"Indiana\",643402.7705000001],[\"Central\",\"Iowa\",16573.366599999998],[\"Central\",\"Iowa\",11838.118999999999],[\"Central\",\"Iowa\",7102.8714],[\"Central\",\"Kansas\",6691.548],[\"Central\",\"Kansas\",6691.548],[\"Central\",\"Kansas\",6691.548],[\"Central\",\"Michigan\",3229140.7632],[\"Central\",\"Michigan\",1712423.132],[\"Central\",\"Michigan\",1296548.9428],[\"Central\",\"Minnesota\",551982.5574],[\"Central\",\"Minnesota\",173170.9984],[\"Central\",\"Minnesota\",238110.1228],[\"Central\",\"Missouri\",244575.999],[\"Central\",\"Missouri\",96543.1575],[\"Central\",\"Missouri\",83670.7365],[\"Central\",\"Nebraska\",38704.789800000006],[\"Central\",\"Nebraska\",26482.2246],[\"Central\",\"Nebraska\",12222.565200000001],[\"Central\",\"North Dakota\",1150.7485],[\"Central\",\"North Dakota\",460.2994],[\"Central\",\"Oklahoma\",169888.46],[\"Central\",\"Oklahoma\",53393.516],[\"Central\",\"Oklahoma\",97079.12],[\"Central\",\"South Dakota\",789.6566],[\"Central\",\"South Dakota\",3948.2830000000004],[\"Central\",\"Texas\",-13482182.7012],[\"Central\",\"Texas\",-8027559.1656],[\"Central\",\"Texas\",-3833674.0886999997],[\"Central\",\"Wisconsin\",294063.014],[\"Central\",\"Wisconsin\",394884.6188],[\"Central\",\"Wisconsin\",235250.4112],[\"East\",\"Connecticut\",150994.1474],[\"East\",\"Connecticut\",94810.27859999999],[\"East\",\"Connecticut\",42137.9016],[\"East\",\"Delaware\",488891.3652],[\"East\",\"Delaware\",359185.4928],[\"East\",\"Delaware\",109751.1228],[\"East\",\"District of Columbia\",7417.125099999999],[\"East\",\"District of Columbia\",3178.7679],[\"East\",\"Maine\",2272.431],[\"East\",\"Maine\",1363.4586],[\"East\",\"Maryland\",323434.22479999997],[\"East\",\"Maryland\",309371.8672],[\"East\",\"Maryland\",105467.682],[\"East\",\"Massachusetts\",393559.09280000004],[\"East\",\"Massachusetts\",271420.064],[\"East\",\"Massachusetts\",251063.55920000002],[\"East\",\"New Hampshire\",10239.0168],[\"East\",\"New Hampshire\",15358.5252],[\"East\",\"New Hampshire\",20478.0336],[\"East\",\"New Jersey\",557056.0866],[\"East\",\"New Jersey\",488645.69],[\"East\",\"New Jersey\",224777.0174],[\"East\",\"New York\",47606786.7498],[\"East\",\"New York\",23766374.100599997],[\"East\",\"New York\",12142321.9704],[\"East\",\"Ohio\",-4327701.033],[\"East\",\"Ohio\",-2087479.3218],[\"East\",\"Ohio\",-1544395.2706],[\"East\",\"Pennsylvania\",-4419028.7252],[\"East\",\"Pennsylvania\",-3049752.2188],[\"East\",\"Pennsylvania\",-1664915.7521000002],[\"East\",\"Rhode Island\",109284.43950000001],[\"East\",\"Rhode Island\",152998.2153],[\"East\",\"Rhode Island\",145712.586],[\"East\",\"Vermont\",11224.891499999998],[\"East\",\"Vermont\",11224.891499999998],[\"East\",\"Vermont\",2244.9782999999998],[\"East\",\"West Virginia\",185.9216],[\"East\",\"West Virginia\",557.7648],[\"South\",\"Alabama\",144670.6325],[\"South\",\"Alabama\",162031.10840000003],[\"South\",\"Alabama\",46294.6024],[\"South\",\"Arkansas\",148321.4227],[\"South\",\"Arkansas\",56121.6194],[\"South\",\"Arkansas\",36078.1839],[\"South\",\"Florida\",-611874.3060000001],[\"South\",\"Florida\",-462305.0312000001],[\"South\",\"Florida\",-227753.21390000003],[\"South\",\"Georgia\",1381253.6805],[\"South\",\"Georgia\",958752.5547],[\"South\",\"Georgia\",650001.732],[\"South\",\"Kentucky\",851176.9415999999],[\"South\",\"Kentucky\",391989.381],[\"South\",\"Kentucky\",313591.5048],[\"South\",\"Louisiana\",57098.6598],[\"South\",\"Louisiana\",26353.2276],[\"South\",\"Louisiana\",8784.4092],[\"South\",\"Mississippi\",88843.3336],[\"South\",\"Mississippi\",44421.6668],[\"South\",\"Mississippi\",34902.7382],[\"South\",\"North Carolina\",-1063709.5324],[\"South\",\"North Carolina\",-561818.415],[\"South\",\"North Carolina\",-239709.1904],[\"South\",\"South Carolina\",38919.2452],[\"South\",\"South Carolina\",33612.0754],[\"South\",\"South Carolina\",1769.0566],[\"South\",\"Tennessee\",-534169.36],[\"South\",\"Tennessee\",-299134.8416],[\"South\",\"Tennessee\",-144225.7272],[\"South\",\"Virginia\",2175960.1968],[\"South\",\"Virginia\",1153072.9248000002],[\"South\",\"Virginia\",836907.768],[\"West\",\"Arizona\",-377071.706],[\"West\",\"Arizona\",-236526.79739999998],[\"West\",\"Arizona\",-154256.607],[\"West\",\"California\",80047693.68079999],[\"West\",\"California\",47203697.2278],[\"West\",\"California\",25587764.678499997],[\"West\",\"Colorado\",-620146.5005],[\"West\",\"Colorado\",-372087.9003],[\"West\",\"Colorado\",-195835.737],[\"West\",\"Idaho\",7440.5079000000005],[\"West\",\"Idaho\",7440.5079000000005],[\"West\",\"Idaho\",2480.1693],[\"West\",\"Montana\",7333.314],[\"West\",\"Montana\",3666.657],[\"West\",\"Montana\",16499.9565],[\"West\",\"Nevada\",59701.786199999995],[\"West\",\"Nevada\",43117.956699999995],[\"West\",\"Nevada\",26534.1272],[\"West\",\"New Mexico\",17356.7415],[\"West\",\"New Mexico\",12728.2771],[\"West\",\"New Mexico\",12728.2771],[\"West\",\"Oregon\",-79761.5235],[\"West\",\"Oregon\",-45237.87899999999],[\"West\",\"Oregon\",-22618.939499999997],[\"West\",\"Utah\",78942.5385],[\"West\",\"Utah\",30558.402000000002],[\"West\",\"Utah\",25465.335],[\"West\",\"Washington\",9185729.217500001],[\"West\",\"Washington\",4375747.3727],[\"West\",\"Washington\",3340265.1700000004],[\"West\",\"Wyoming\",100.196],[\"Illinois\",\"Consumer\",-3479776.8120000004],[\"Illinois\",\"Corporate\",-1512946.4400000002],[\"Illinois\",\"Home Office\",-1210357.152],[\"Indiana\",\"Consumer\",1341954.3499],[\"Indiana\",\"Corporate\",753700.3883],[\"Indiana\",\"Home Office\",643402.7705000001],[\"Iowa\",\"Consumer\",16573.366599999998],[\"Iowa\",\"Corporate\",11838.118999999999],[\"Iowa\",\"Home Office\",7102.8714],[\"Kansas\",\"Consumer\",6691.548],[\"Kansas\",\"Corporate\",6691.548],[\"Kansas\",\"Home Office\",6691.548],[\"Michigan\",\"Consumer\",3229140.7632],[\"Michigan\",\"Corporate\",1712423.132],[\"Michigan\",\"Home Office\",1296548.9428],[\"Minnesota\",\"Consumer\",551982.5574],[\"Minnesota\",\"Corporate\",173170.9984],[\"Minnesota\",\"Home Office\",238110.1228],[\"Missouri\",\"Consumer\",244575.999],[\"Missouri\",\"Corporate\",96543.1575],[\"Missouri\",\"Home Office\",83670.7365],[\"Nebraska\",\"Consumer\",38704.789800000006],[\"Nebraska\",\"Corporate\",26482.2246],[\"Nebraska\",\"Home Office\",12222.565200000001],[\"North Dakota\",\"Consumer\",1150.7485],[\"North Dakota\",\"Home Office\",460.2994],[\"Oklahoma\",\"Consumer\",169888.46],[\"Oklahoma\",\"Corporate\",53393.516],[\"Oklahoma\",\"Home Office\",97079.12],[\"South Dakota\",\"Consumer\",789.6566],[\"South Dakota\",\"Corporate\",3948.2830000000004],[\"Texas\",\"Consumer\",-13482182.7012],[\"Texas\",\"Corporate\",-8027559.1656],[\"Texas\",\"Home Office\",-3833674.0886999997],[\"Wisconsin\",\"Consumer\",294063.014],[\"Wisconsin\",\"Corporate\",394884.6188],[\"Wisconsin\",\"Home Office\",235250.4112],[\"Connecticut\",\"Consumer\",150994.1474],[\"Connecticut\",\"Corporate\",94810.27859999999],[\"Connecticut\",\"Home Office\",42137.9016],[\"Delaware\",\"Consumer\",488891.3652],[\"Delaware\",\"Corporate\",359185.4928],[\"Delaware\",\"Home Office\",109751.1228],[\"District of Columbia\",\"Consumer\",7417.125099999999],[\"District of Columbia\",\"Home Office\",3178.7679],[\"Maine\",\"Corporate\",2272.431],[\"Maine\",\"Home Office\",1363.4586],[\"Maryland\",\"Consumer\",323434.22479999997],[\"Maryland\",\"Corporate\",309371.8672],[\"Maryland\",\"Home Office\",105467.682],[\"Massachusetts\",\"Consumer\",393559.09280000004],[\"Massachusetts\",\"Corporate\",271420.064],[\"Massachusetts\",\"Home Office\",251063.55920000002],[\"New Hampshire\",\"Consumer\",10239.0168],[\"New Hampshire\",\"Corporate\",15358.5252],[\"New Hampshire\",\"Home Office\",20478.0336],[\"New Jersey\",\"Consumer\",557056.0866],[\"New Jersey\",\"Corporate\",488645.69],[\"New Jersey\",\"Home Office\",224777.0174],[\"New York\",\"Consumer\",47606786.7498],[\"New York\",\"Corporate\",23766374.100599997],[\"New York\",\"Home Office\",12142321.9704],[\"Ohio\",\"Consumer\",-4327701.033],[\"Ohio\",\"Corporate\",-2087479.3218],[\"Ohio\",\"Home Office\",-1544395.2706],[\"Pennsylvania\",\"Consumer\",-4419028.7252],[\"Pennsylvania\",\"Corporate\",-3049752.2188],[\"Pennsylvania\",\"Home Office\",-1664915.7521000002],[\"Rhode Island\",\"Consumer\",109284.43950000001],[\"Rhode Island\",\"Corporate\",152998.2153],[\"Rhode Island\",\"Home Office\",145712.586],[\"Vermont\",\"Consumer\",11224.891499999998],[\"Vermont\",\"Corporate\",11224.891499999998],[\"Vermont\",\"Home Office\",2244.9782999999998],[\"West Virginia\",\"Consumer\",185.9216],[\"West Virginia\",\"Home Office\",557.7648],[\"Alabama\",\"Consumer\",144670.6325],[\"Alabama\",\"Corporate\",162031.10840000003],[\"Alabama\",\"Home Office\",46294.6024],[\"Arkansas\",\"Consumer\",148321.4227],[\"Arkansas\",\"Corporate\",56121.6194],[\"Arkansas\",\"Home Office\",36078.1839],[\"Florida\",\"Consumer\",-611874.3060000001],[\"Florida\",\"Corporate\",-462305.0312000001],[\"Florida\",\"Home Office\",-227753.21390000003],[\"Georgia\",\"Consumer\",1381253.6805],[\"Georgia\",\"Corporate\",958752.5547],[\"Georgia\",\"Home Office\",650001.732],[\"Kentucky\",\"Consumer\",851176.9415999999],[\"Kentucky\",\"Corporate\",391989.381],[\"Kentucky\",\"Home Office\",313591.5048],[\"Louisiana\",\"Consumer\",57098.6598],[\"Louisiana\",\"Corporate\",26353.2276],[\"Louisiana\",\"Home Office\",8784.4092],[\"Mississippi\",\"Consumer\",88843.3336],[\"Mississippi\",\"Corporate\",44421.6668],[\"Mississippi\",\"Home Office\",34902.7382],[\"North Carolina\",\"Consumer\",-1063709.5324],[\"North Carolina\",\"Corporate\",-561818.415],[\"North Carolina\",\"Home Office\",-239709.1904],[\"South Carolina\",\"Consumer\",38919.2452],[\"South Carolina\",\"Corporate\",33612.0754],[\"South Carolina\",\"Home Office\",1769.0566],[\"Tennessee\",\"Consumer\",-534169.36],[\"Tennessee\",\"Corporate\",-299134.8416],[\"Tennessee\",\"Home Office\",-144225.7272],[\"Virginia\",\"Consumer\",2175960.1968],[\"Virginia\",\"Corporate\",1153072.9248000002],[\"Virginia\",\"Home Office\",836907.768],[\"Arizona\",\"Consumer\",-377071.706],[\"Arizona\",\"Corporate\",-236526.79739999998],[\"Arizona\",\"Home Office\",-154256.607],[\"California\",\"Consumer\",80047693.68079999],[\"California\",\"Corporate\",47203697.2278],[\"California\",\"Home Office\",25587764.678499997],[\"Colorado\",\"Consumer\",-620146.5005],[\"Colorado\",\"Corporate\",-372087.9003],[\"Colorado\",\"Home Office\",-195835.737],[\"Idaho\",\"Consumer\",7440.5079000000005],[\"Idaho\",\"Corporate\",7440.5079000000005],[\"Idaho\",\"Home Office\",2480.1693],[\"Montana\",\"Consumer\",7333.314],[\"Montana\",\"Corporate\",3666.657],[\"Montana\",\"Home Office\",16499.9565],[\"Nevada\",\"Consumer\",59701.786199999995],[\"Nevada\",\"Corporate\",43117.956699999995],[\"Nevada\",\"Home Office\",26534.1272],[\"New Mexico\",\"Consumer\",17356.7415],[\"New Mexico\",\"Corporate\",12728.2771],[\"New Mexico\",\"Home Office\",12728.2771],[\"Oregon\",\"Consumer\",-79761.5235],[\"Oregon\",\"Corporate\",-45237.87899999999],[\"Oregon\",\"Home Office\",-22618.939499999997],[\"Utah\",\"Consumer\",78942.5385],[\"Utah\",\"Corporate\",30558.402000000002],[\"Utah\",\"Home Office\",25465.335],[\"Washington\",\"Consumer\",9185729.217500001],[\"Washington\",\"Corporate\",4375747.3727],[\"Washington\",\"Home Office\",3340265.1700000004],[\"Wyoming\",\"Home Office\",100.196]],\"hovertemplate\":\"Source: %{customdata[0]}\\u003cbr\\u003eTarget: %{customdata[1]}\\u003cbr\\u003eProfit: $%{customdata[2]:,.2f}\\u003cextra\\u003e\\u003c\\u002fextra\\u003e\",\"source\":[0,0,0,0,0,0,0,0,0,0,0,0,0,0,0,0,0,0,0,0,0,0,0,0,0,0,0,0,0,0,0,0,0,0,0,0,0,1,1,1,1,1,1,1,1,1,1,1,1,1,1,1,1,1,1,1,1,1,1,1,1,1,1,1,1,1,1,1,1,1,1,1,1,1,1,1,2,2,2,2,2,2,2,2,2,2,2,2,2,2,2,2,2,2,2,2,2,2,2,2,2,2,2,2,2,2,2,2,2,3,3,3,3,3,3,3,3,3,3,3,3,3,3,3,3,3,3,3,3,3,3,3,3,3,3,3,3,3,3,3,4,4,4,5,5,5,6,6,6,7,7,7,8,8,8,9,9,9,10,10,10,11,11,11,12,12,13,13,13,14,14,15,15,15,16,16,16,17,17,17,18,18,18,19,19,20,20,21,21,21,22,22,22,23,23,23,24,24,24,25,25,25,26,26,26,27,27,27,28,28,28,29,29,29,30,30,31,31,31,32,32,32,33,33,33,34,34,34,35,35,35,36,36,36,37,37,37,38,38,38,39,39,39,40,40,40,41,41,41,42,42,42,43,43,43,44,44,44,45,45,45,46,46,46,47,47,47,48,48,48,49,49,49,50,50,50,51,51,51,52],\"target\":[4,4,4,5,5,5,6,6,6,7,7,7,8,8,8,9,9,9,10,10,10,11,11,11,12,12,13,13,13,14,14,15,15,15,16,16,16,17,17,17,18,18,18,19,19,20,20,21,21,21,22,22,22,23,23,23,24,24,24,25,25,25,26,26,26,27,27,27,28,28,28,29,29,29,30,30,31,31,31,32,32,32,33,33,33,34,34,34,35,35,35,36,36,36,37,37,37,38,38,38,39,39,39,40,40,40,41,41,41,42,42,42,43,43,43,44,44,44,45,45,45,46,46,46,47,47,47,48,48,48,49,49,49,50,50,50,51,51,51,52,53,54,55,53,54,55,53,54,55,53,54,55,53,54,55,53,54,55,53,54,55,53,54,55,53,55,53,54,55,53,54,53,54,55,53,54,55,53,54,55,53,54,55,53,55,54,55,53,54,55,53,54,55,53,54,55,53,54,55,53,54,55,53,54,55,53,54,55,53,54,55,53,54,55,53,55,53,54,55,53,54,55,53,54,55,53,54,55,53,54,55,53,54,55,53,54,55,53,54,55,53,54,55,53,54,55,53,54,55,53,54,55,53,54,55,53,54,55,53,54,55,53,54,55,53,54,55,53,54,55,53,54,55,53,54,55,53,54,55,55],\"value\":[-3479776.8120000004,-1512946.4400000002,-1210357.152,1341954.3499,753700.3883,643402.7705000001,16573.366599999998,11838.118999999999,7102.8714,6691.548,6691.548,6691.548,3229140.7632,1712423.132,1296548.9428,551982.5574,173170.9984,238110.1228,244575.999,96543.1575,83670.7365,38704.789800000006,26482.2246,12222.565200000001,1150.7485,460.2994,169888.46,53393.516,97079.12,789.6566,3948.2830000000004,-13482182.7012,-8027559.1656,-3833674.0886999997,294063.014,394884.6188,235250.4112,150994.1474,94810.27859999999,42137.9016,488891.3652,359185.4928,109751.1228,7417.125099999999,3178.7679,2272.431,1363.4586,323434.22479999997,309371.8672,105467.682,393559.09280000004,271420.064,251063.55920000002,10239.0168,15358.5252,20478.0336,557056.0866,488645.69,224777.0174,47606786.7498,23766374.100599997,12142321.9704,-4327701.033,-2087479.3218,-1544395.2706,-4419028.7252,-3049752.2188,-1664915.7521000002,109284.43950000001,152998.2153,145712.586,11224.891499999998,11224.891499999998,2244.9782999999998,185.9216,557.7648,144670.6325,162031.10840000003,46294.6024,148321.4227,56121.6194,36078.1839,-611874.3060000001,-462305.0312000001,-227753.21390000003,1381253.6805,958752.5547,650001.732,851176.9415999999,391989.381,313591.5048,57098.6598,26353.2276,8784.4092,88843.3336,44421.6668,34902.7382,-1063709.5324,-561818.415,-239709.1904,38919.2452,33612.0754,1769.0566,-534169.36,-299134.8416,-144225.7272,2175960.1968,1153072.9248000002,836907.768,-377071.706,-236526.79739999998,-154256.607,80047693.68079999,47203697.2278,25587764.678499997,-620146.5005,-372087.9003,-195835.737,7440.5079000000005,7440.5079000000005,2480.1693,7333.314,3666.657,16499.9565,59701.786199999995,43117.956699999995,26534.1272,17356.7415,12728.2771,12728.2771,-79761.5235,-45237.87899999999,-22618.939499999997,78942.5385,30558.402000000002,25465.335,9185729.217500001,4375747.3727,3340265.1700000004,100.196,-3479776.8120000004,-1512946.4400000002,-1210357.152,1341954.3499,753700.3883,643402.7705000001,16573.366599999998,11838.118999999999,7102.8714,6691.548,6691.548,6691.548,3229140.7632,1712423.132,1296548.9428,551982.5574,173170.9984,238110.1228,244575.999,96543.1575,83670.7365,38704.789800000006,26482.2246,12222.565200000001,1150.7485,460.2994,169888.46,53393.516,97079.12,789.6566,3948.2830000000004,-13482182.7012,-8027559.1656,-3833674.0886999997,294063.014,394884.6188,235250.4112,150994.1474,94810.27859999999,42137.9016,488891.3652,359185.4928,109751.1228,7417.125099999999,3178.7679,2272.431,1363.4586,323434.22479999997,309371.8672,105467.682,393559.09280000004,271420.064,251063.55920000002,10239.0168,15358.5252,20478.0336,557056.0866,488645.69,224777.0174,47606786.7498,23766374.100599997,12142321.9704,-4327701.033,-2087479.3218,-1544395.2706,-4419028.7252,-3049752.2188,-1664915.7521000002,109284.43950000001,152998.2153,145712.586,11224.891499999998,11224.891499999998,2244.9782999999998,185.9216,557.7648,144670.6325,162031.10840000003,46294.6024,148321.4227,56121.6194,36078.1839,-611874.3060000001,-462305.0312000001,-227753.21390000003,1381253.6805,958752.5547,650001.732,851176.9415999999,391989.381,313591.5048,57098.6598,26353.2276,8784.4092,88843.3336,44421.6668,34902.7382,-1063709.5324,-561818.415,-239709.1904,38919.2452,33612.0754,1769.0566,-534169.36,-299134.8416,-144225.7272,2175960.1968,1153072.9248000002,836907.768,-377071.706,-236526.79739999998,-154256.607,80047693.68079999,47203697.2278,25587764.678499997,-620146.5005,-372087.9003,-195835.737,7440.5079000000005,7440.5079000000005,2480.1693,7333.314,3666.657,16499.9565,59701.786199999995,43117.956699999995,26534.1272,17356.7415,12728.2771,12728.2771,-79761.5235,-45237.87899999999,-22618.939499999997,78942.5385,30558.402000000002,25465.335,9185729.217500001,4375747.3727,3340265.1700000004,100.196]},\"node\":{\"color\":[\"rgb(102,194,165)\",\"rgb(252,141,98)\",\"rgb(141,160,203)\",\"rgb(231,138,195)\",\"gray\",\"gray\",\"gray\",\"gray\",\"gray\",\"gray\",\"gray\",\"gray\",\"gray\",\"gray\",\"gray\",\"gray\",\"gray\",\"gray\",\"gray\",\"gray\",\"gray\",\"gray\",\"gray\",\"gray\",\"gray\",\"gray\",\"gray\",\"gray\",\"gray\",\"gray\",\"gray\",\"gray\",\"gray\",\"gray\",\"gray\",\"gray\",\"gray\",\"gray\",\"gray\",\"gray\",\"gray\",\"gray\",\"gray\",\"gray\",\"gray\",\"gray\",\"gray\",\"gray\",\"gray\",\"gray\",\"gray\",\"gray\",\"gray\",\"gray\",\"gray\",\"gray\"],\"label\":[\"Central\",\"East\",\"South\",\"West\",\"Illinois\",\"Indiana\",\"Iowa\",\"Kansas\",\"Michigan\",\"Minnesota\",\"Missouri\",\"Nebraska\",\"North Dakota\",\"Oklahoma\",\"South Dakota\",\"Texas\",\"Wisconsin\",\"Connecticut\",\"Delaware\",\"District of Columbia\",\"Maine\",\"Maryland\",\"Massachusetts\",\"New Hampshire\",\"New Jersey\",\"New York\",\"Ohio\",\"Pennsylvania\",\"Rhode Island\",\"Vermont\",\"West Virginia\",\"Alabama\",\"Arkansas\",\"Florida\",\"Georgia\",\"Kentucky\",\"Louisiana\",\"Mississippi\",\"North Carolina\",\"South Carolina\",\"Tennessee\",\"Virginia\",\"Arizona\",\"California\",\"Colorado\",\"Idaho\",\"Montana\",\"Nevada\",\"New Mexico\",\"Oregon\",\"Utah\",\"Washington\",\"Wyoming\",\"Consumer\",\"Corporate\",\"Home Office\"],\"line\":{\"color\":\"black\",\"width\":1},\"pad\":20,\"thickness\":30},\"type\":\"sankey\"}],                        {\"template\":{\"data\":{\"histogram2dcontour\":[{\"type\":\"histogram2dcontour\",\"colorbar\":{\"outlinewidth\":0,\"ticks\":\"\"},\"colorscale\":[[0.0,\"#0d0887\"],[0.1111111111111111,\"#46039f\"],[0.2222222222222222,\"#7201a8\"],[0.3333333333333333,\"#9c179e\"],[0.4444444444444444,\"#bd3786\"],[0.5555555555555556,\"#d8576b\"],[0.6666666666666666,\"#ed7953\"],[0.7777777777777778,\"#fb9f3a\"],[0.8888888888888888,\"#fdca26\"],[1.0,\"#f0f921\"]]}],\"choropleth\":[{\"type\":\"choropleth\",\"colorbar\":{\"outlinewidth\":0,\"ticks\":\"\"}}],\"histogram2d\":[{\"type\":\"histogram2d\",\"colorbar\":{\"outlinewidth\":0,\"ticks\":\"\"},\"colorscale\":[[0.0,\"#0d0887\"],[0.1111111111111111,\"#46039f\"],[0.2222222222222222,\"#7201a8\"],[0.3333333333333333,\"#9c179e\"],[0.4444444444444444,\"#bd3786\"],[0.5555555555555556,\"#d8576b\"],[0.6666666666666666,\"#ed7953\"],[0.7777777777777778,\"#fb9f3a\"],[0.8888888888888888,\"#fdca26\"],[1.0,\"#f0f921\"]]}],\"heatmap\":[{\"type\":\"heatmap\",\"colorbar\":{\"outlinewidth\":0,\"ticks\":\"\"},\"colorscale\":[[0.0,\"#0d0887\"],[0.1111111111111111,\"#46039f\"],[0.2222222222222222,\"#7201a8\"],[0.3333333333333333,\"#9c179e\"],[0.4444444444444444,\"#bd3786\"],[0.5555555555555556,\"#d8576b\"],[0.6666666666666666,\"#ed7953\"],[0.7777777777777778,\"#fb9f3a\"],[0.8888888888888888,\"#fdca26\"],[1.0,\"#f0f921\"]]}],\"heatmapgl\":[{\"type\":\"heatmapgl\",\"colorbar\":{\"outlinewidth\":0,\"ticks\":\"\"},\"colorscale\":[[0.0,\"#0d0887\"],[0.1111111111111111,\"#46039f\"],[0.2222222222222222,\"#7201a8\"],[0.3333333333333333,\"#9c179e\"],[0.4444444444444444,\"#bd3786\"],[0.5555555555555556,\"#d8576b\"],[0.6666666666666666,\"#ed7953\"],[0.7777777777777778,\"#fb9f3a\"],[0.8888888888888888,\"#fdca26\"],[1.0,\"#f0f921\"]]}],\"contourcarpet\":[{\"type\":\"contourcarpet\",\"colorbar\":{\"outlinewidth\":0,\"ticks\":\"\"}}],\"contour\":[{\"type\":\"contour\",\"colorbar\":{\"outlinewidth\":0,\"ticks\":\"\"},\"colorscale\":[[0.0,\"#0d0887\"],[0.1111111111111111,\"#46039f\"],[0.2222222222222222,\"#7201a8\"],[0.3333333333333333,\"#9c179e\"],[0.4444444444444444,\"#bd3786\"],[0.5555555555555556,\"#d8576b\"],[0.6666666666666666,\"#ed7953\"],[0.7777777777777778,\"#fb9f3a\"],[0.8888888888888888,\"#fdca26\"],[1.0,\"#f0f921\"]]}],\"surface\":[{\"type\":\"surface\",\"colorbar\":{\"outlinewidth\":0,\"ticks\":\"\"},\"colorscale\":[[0.0,\"#0d0887\"],[0.1111111111111111,\"#46039f\"],[0.2222222222222222,\"#7201a8\"],[0.3333333333333333,\"#9c179e\"],[0.4444444444444444,\"#bd3786\"],[0.5555555555555556,\"#d8576b\"],[0.6666666666666666,\"#ed7953\"],[0.7777777777777778,\"#fb9f3a\"],[0.8888888888888888,\"#fdca26\"],[1.0,\"#f0f921\"]]}],\"mesh3d\":[{\"type\":\"mesh3d\",\"colorbar\":{\"outlinewidth\":0,\"ticks\":\"\"}}],\"scatter\":[{\"fillpattern\":{\"fillmode\":\"overlay\",\"size\":10,\"solidity\":0.2},\"type\":\"scatter\"}],\"parcoords\":[{\"type\":\"parcoords\",\"line\":{\"colorbar\":{\"outlinewidth\":0,\"ticks\":\"\"}}}],\"scatterpolargl\":[{\"type\":\"scatterpolargl\",\"marker\":{\"colorbar\":{\"outlinewidth\":0,\"ticks\":\"\"}}}],\"bar\":[{\"error_x\":{\"color\":\"#2a3f5f\"},\"error_y\":{\"color\":\"#2a3f5f\"},\"marker\":{\"line\":{\"color\":\"#E5ECF6\",\"width\":0.5},\"pattern\":{\"fillmode\":\"overlay\",\"size\":10,\"solidity\":0.2}},\"type\":\"bar\"}],\"scattergeo\":[{\"type\":\"scattergeo\",\"marker\":{\"colorbar\":{\"outlinewidth\":0,\"ticks\":\"\"}}}],\"scatterpolar\":[{\"type\":\"scatterpolar\",\"marker\":{\"colorbar\":{\"outlinewidth\":0,\"ticks\":\"\"}}}],\"histogram\":[{\"marker\":{\"pattern\":{\"fillmode\":\"overlay\",\"size\":10,\"solidity\":0.2}},\"type\":\"histogram\"}],\"scattergl\":[{\"type\":\"scattergl\",\"marker\":{\"colorbar\":{\"outlinewidth\":0,\"ticks\":\"\"}}}],\"scatter3d\":[{\"type\":\"scatter3d\",\"line\":{\"colorbar\":{\"outlinewidth\":0,\"ticks\":\"\"}},\"marker\":{\"colorbar\":{\"outlinewidth\":0,\"ticks\":\"\"}}}],\"scattermapbox\":[{\"type\":\"scattermapbox\",\"marker\":{\"colorbar\":{\"outlinewidth\":0,\"ticks\":\"\"}}}],\"scatterternary\":[{\"type\":\"scatterternary\",\"marker\":{\"colorbar\":{\"outlinewidth\":0,\"ticks\":\"\"}}}],\"scattercarpet\":[{\"type\":\"scattercarpet\",\"marker\":{\"colorbar\":{\"outlinewidth\":0,\"ticks\":\"\"}}}],\"carpet\":[{\"aaxis\":{\"endlinecolor\":\"#2a3f5f\",\"gridcolor\":\"white\",\"linecolor\":\"white\",\"minorgridcolor\":\"white\",\"startlinecolor\":\"#2a3f5f\"},\"baxis\":{\"endlinecolor\":\"#2a3f5f\",\"gridcolor\":\"white\",\"linecolor\":\"white\",\"minorgridcolor\":\"white\",\"startlinecolor\":\"#2a3f5f\"},\"type\":\"carpet\"}],\"table\":[{\"cells\":{\"fill\":{\"color\":\"#EBF0F8\"},\"line\":{\"color\":\"white\"}},\"header\":{\"fill\":{\"color\":\"#C8D4E3\"},\"line\":{\"color\":\"white\"}},\"type\":\"table\"}],\"barpolar\":[{\"marker\":{\"line\":{\"color\":\"#E5ECF6\",\"width\":0.5},\"pattern\":{\"fillmode\":\"overlay\",\"size\":10,\"solidity\":0.2}},\"type\":\"barpolar\"}],\"pie\":[{\"automargin\":true,\"type\":\"pie\"}]},\"layout\":{\"autotypenumbers\":\"strict\",\"colorway\":[\"#636efa\",\"#EF553B\",\"#00cc96\",\"#ab63fa\",\"#FFA15A\",\"#19d3f3\",\"#FF6692\",\"#B6E880\",\"#FF97FF\",\"#FECB52\"],\"font\":{\"color\":\"#2a3f5f\"},\"hovermode\":\"closest\",\"hoverlabel\":{\"align\":\"left\"},\"paper_bgcolor\":\"white\",\"plot_bgcolor\":\"#E5ECF6\",\"polar\":{\"bgcolor\":\"#E5ECF6\",\"angularaxis\":{\"gridcolor\":\"white\",\"linecolor\":\"white\",\"ticks\":\"\"},\"radialaxis\":{\"gridcolor\":\"white\",\"linecolor\":\"white\",\"ticks\":\"\"}},\"ternary\":{\"bgcolor\":\"#E5ECF6\",\"aaxis\":{\"gridcolor\":\"white\",\"linecolor\":\"white\",\"ticks\":\"\"},\"baxis\":{\"gridcolor\":\"white\",\"linecolor\":\"white\",\"ticks\":\"\"},\"caxis\":{\"gridcolor\":\"white\",\"linecolor\":\"white\",\"ticks\":\"\"}},\"coloraxis\":{\"colorbar\":{\"outlinewidth\":0,\"ticks\":\"\"}},\"colorscale\":{\"sequential\":[[0.0,\"#0d0887\"],[0.1111111111111111,\"#46039f\"],[0.2222222222222222,\"#7201a8\"],[0.3333333333333333,\"#9c179e\"],[0.4444444444444444,\"#bd3786\"],[0.5555555555555556,\"#d8576b\"],[0.6666666666666666,\"#ed7953\"],[0.7777777777777778,\"#fb9f3a\"],[0.8888888888888888,\"#fdca26\"],[1.0,\"#f0f921\"]],\"sequentialminus\":[[0.0,\"#0d0887\"],[0.1111111111111111,\"#46039f\"],[0.2222222222222222,\"#7201a8\"],[0.3333333333333333,\"#9c179e\"],[0.4444444444444444,\"#bd3786\"],[0.5555555555555556,\"#d8576b\"],[0.6666666666666666,\"#ed7953\"],[0.7777777777777778,\"#fb9f3a\"],[0.8888888888888888,\"#fdca26\"],[1.0,\"#f0f921\"]],\"diverging\":[[0,\"#8e0152\"],[0.1,\"#c51b7d\"],[0.2,\"#de77ae\"],[0.3,\"#f1b6da\"],[0.4,\"#fde0ef\"],[0.5,\"#f7f7f7\"],[0.6,\"#e6f5d0\"],[0.7,\"#b8e186\"],[0.8,\"#7fbc41\"],[0.9,\"#4d9221\"],[1,\"#276419\"]]},\"xaxis\":{\"gridcolor\":\"white\",\"linecolor\":\"white\",\"ticks\":\"\",\"title\":{\"standoff\":15},\"zerolinecolor\":\"white\",\"automargin\":true,\"zerolinewidth\":2},\"yaxis\":{\"gridcolor\":\"white\",\"linecolor\":\"white\",\"ticks\":\"\",\"title\":{\"standoff\":15},\"zerolinecolor\":\"white\",\"automargin\":true,\"zerolinewidth\":2},\"scene\":{\"xaxis\":{\"backgroundcolor\":\"#E5ECF6\",\"gridcolor\":\"white\",\"linecolor\":\"white\",\"showbackground\":true,\"ticks\":\"\",\"zerolinecolor\":\"white\",\"gridwidth\":2},\"yaxis\":{\"backgroundcolor\":\"#E5ECF6\",\"gridcolor\":\"white\",\"linecolor\":\"white\",\"showbackground\":true,\"ticks\":\"\",\"zerolinecolor\":\"white\",\"gridwidth\":2},\"zaxis\":{\"backgroundcolor\":\"#E5ECF6\",\"gridcolor\":\"white\",\"linecolor\":\"white\",\"showbackground\":true,\"ticks\":\"\",\"zerolinecolor\":\"white\",\"gridwidth\":2}},\"shapedefaults\":{\"line\":{\"color\":\"#2a3f5f\"}},\"annotationdefaults\":{\"arrowcolor\":\"#2a3f5f\",\"arrowhead\":0,\"arrowwidth\":1},\"geo\":{\"bgcolor\":\"white\",\"landcolor\":\"#E5ECF6\",\"subunitcolor\":\"white\",\"showland\":true,\"showlakes\":true,\"lakecolor\":\"white\"},\"title\":{\"x\":0.05},\"mapbox\":{\"style\":\"light\"}}},\"title\":{\"text\":\"Superstore Profit Flow (Region \\u2192 State \\u2192 Segment) with Hover Info\"},\"font\":{\"size\":14},\"width\":1200,\"height\":1000},                        {\"responsive\": true}                    ).then(function(){\n",
       "                            \n",
       "var gd = document.getElementById('4cb27e4d-6d53-4166-816e-10f6c4adb0fd');\n",
       "var x = new MutationObserver(function (mutations, observer) {{\n",
       "        var display = window.getComputedStyle(gd).display;\n",
       "        if (!display || display === 'none') {{\n",
       "            console.log([gd, 'removed!']);\n",
       "            Plotly.purge(gd);\n",
       "            observer.disconnect();\n",
       "        }}\n",
       "}});\n",
       "\n",
       "// Listen for the removal of the full notebook cells\n",
       "var notebookContainer = gd.closest('#notebook-container');\n",
       "if (notebookContainer) {{\n",
       "    x.observe(notebookContainer, {childList: true});\n",
       "}}\n",
       "\n",
       "// Listen for the clearing of the current output cell\n",
       "var outputEl = gd.closest('.output');\n",
       "if (outputEl) {{\n",
       "    x.observe(outputEl, {childList: true});\n",
       "}}\n",
       "\n",
       "                        })                };                });            </script>        </div>"
      ]
     },
     "metadata": {},
     "output_type": "display_data"
    }
   ],
   "source": [
    "import pandas as pd\n",
    "import plotly.graph_objects as go\n",
    "import plotly.colors as pc\n",
    "\n",
    "# Group by Region → State → Segment and sum Profit\n",
    "grouped = ss.groupby([\"Region\", \"State\", \"Segment\"])[\"Profit\"].sum().reset_index()\n",
    "\n",
    "# Get unique labels (Region, State, Segment)\n",
    "all_labels = pd.concat([grouped[\"Region\"], grouped[\"State\"], grouped[\"Segment\"]]).unique()\n",
    "label_dict = {label: i for i, label in enumerate(all_labels)}\n",
    "\n",
    "# Map labels to indices\n",
    "grouped[\"region_idx\"] = grouped[\"Region\"].map(label_dict)\n",
    "grouped[\"state_idx\"] = grouped[\"State\"].map(label_dict)\n",
    "grouped[\"segment_idx\"] = grouped[\"Segment\"].map(label_dict)\n",
    "\n",
    "# Assign distinct colors to each region\n",
    "unique_regions = grouped[\"Region\"].unique()\n",
    "region_colors = pc.qualitative.Set2[:len(unique_regions)]\n",
    "region_color_dict = {region: region_colors[i] for i, region in enumerate(unique_regions)}\n",
    "\n",
    "# Assign node colors (regions color-coded)\n",
    "node_colors = [region_color_dict.get(label, \"gray\") for label in label_dict.keys()]\n",
    "\n",
    "# Convert RGB to RGBA (for link transparency)\n",
    "def rgb_to_rgba(rgb_str, alpha=0.5):\n",
    "    rgb_values = rgb_str[rgb_str.find(\"(\")+1:rgb_str.find(\")\")].split(\",\")\n",
    "    return f\"rgba({rgb_values[0]},{rgb_values[1]},{rgb_values[2]},{alpha})\"\n",
    "\n",
    "# Assign link colors based on Region colors\n",
    "link_colors = [rgb_to_rgba(region_color_dict[region], alpha=0.5) for region in grouped[\"Region\"]] * 2\n",
    "\n",
    "# Create `customdata` for both Region → State and State → Segment edges\n",
    "customdata_links = (\n",
    "    grouped[[\"Region\", \"State\", \"Profit\"]].values.tolist() +\n",
    "    grouped[[\"State\", \"Segment\", \"Profit\"]].values.tolist()\n",
    ")\n",
    "\n",
    "# Create Sankey diagram\n",
    "fig = go.Figure(data=[go.Sankey(\n",
    "    node=dict(\n",
    "        pad=20,\n",
    "        thickness=30,\n",
    "        line=dict(color=\"black\", width=1),\n",
    "        label=list(label_dict.keys()),\n",
    "        color=node_colors\n",
    "    ),\n",
    "    link=dict(\n",
    "        source=grouped[\"region_idx\"].tolist() + grouped[\"state_idx\"].tolist(),\n",
    "        target=grouped[\"state_idx\"].tolist() + grouped[\"segment_idx\"].tolist(),\n",
    "        value=grouped[\"Profit\"].tolist() + grouped[\"Profit\"].tolist(),\n",
    "        color=link_colors,  # Use same colors for both layers\n",
    "        customdata=customdata_links,\n",
    "        hovertemplate=(\n",
    "            \"Source: %{customdata[0]}<br>\"\n",
    "            \"Target: %{customdata[1]}<br>\"\n",
    "            \"Profit: $%{customdata[2]:,.2f}<extra></extra>\"\n",
    "        )\n",
    "    )\n",
    ")])\n",
    "\n",
    "# Update layout\n",
    "fig.update_layout(\n",
    "    title_text=\"Superstore Profit Flow (Region → State → Segment) with Hover Info\",\n",
    "    font_size=14,\n",
    "    width=1200,\n",
    "    height=1000,\n",
    ")\n",
    "\n",
    "fig.show()\n"
   ]
  },
  {
   "cell_type": "code",
   "execution_count": 161,
   "id": "fd5adef1-e7d9-4c8b-b34d-649d2bad34a6",
   "metadata": {},
   "outputs": [],
   "source": [
    "fig.write_html('sanskey.html')"
   ]
  }
 ],
 "metadata": {
  "kernelspec": {
   "display_name": "Python 3 (ipykernel)",
   "language": "python",
   "name": "python3"
  },
  "language_info": {
   "codemirror_mode": {
    "name": "ipython",
    "version": 3
   },
   "file_extension": ".py",
   "mimetype": "text/x-python",
   "name": "python",
   "nbconvert_exporter": "python",
   "pygments_lexer": "ipython3",
   "version": "3.12.7"
  }
 },
 "nbformat": 4,
 "nbformat_minor": 5
}
