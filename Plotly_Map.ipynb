{
 "cells": [
  {
   "cell_type": "code",
   "execution_count": 3,
   "id": "09951c99-32e9-4c2e-a9d4-2f841e01c130",
   "metadata": {},
   "outputs": [],
   "source": [
    "import pandas as pd\n",
    "import plotly.express as px\n",
    "import numpy as np"
   ]
  },
  {
   "cell_type": "code",
   "execution_count": null,
   "id": "56647281-6697-4567-8045-7e25073b9f01",
   "metadata": {},
   "outputs": [],
   "source": []
  },
  {
   "cell_type": "code",
   "execution_count": 73,
   "id": "19641f88-e3ac-4d85-bd7f-6211b5b2b2d9",
   "metadata": {},
   "outputs": [
    {
     "data": {
      "text/html": [
       "<div>\n",
       "<style scoped>\n",
       "    .dataframe tbody tr th:only-of-type {\n",
       "        vertical-align: middle;\n",
       "    }\n",
       "\n",
       "    .dataframe tbody tr th {\n",
       "        vertical-align: top;\n",
       "    }\n",
       "\n",
       "    .dataframe thead th {\n",
       "        text-align: right;\n",
       "    }\n",
       "</style>\n",
       "<table border=\"1\" class=\"dataframe\">\n",
       "  <thead>\n",
       "    <tr style=\"text-align: right;\">\n",
       "      <th></th>\n",
       "      <th>Row ID</th>\n",
       "      <th>Order ID</th>\n",
       "      <th>Order Date</th>\n",
       "      <th>Ship Date</th>\n",
       "      <th>Ship Mode</th>\n",
       "      <th>Customer ID</th>\n",
       "      <th>Customer Name</th>\n",
       "      <th>Segment</th>\n",
       "      <th>Country</th>\n",
       "      <th>City</th>\n",
       "      <th>...</th>\n",
       "      <th>Product Name</th>\n",
       "      <th>Total_Sales</th>\n",
       "      <th>Quantity</th>\n",
       "      <th>Discount</th>\n",
       "      <th>Total_Profit</th>\n",
       "      <th>Code</th>\n",
       "      <th>Profit</th>\n",
       "      <th>Sales</th>\n",
       "      <th>Best_Selling_Category</th>\n",
       "      <th>Best_Selling_Sales</th>\n",
       "    </tr>\n",
       "  </thead>\n",
       "  <tbody>\n",
       "    <tr>\n",
       "      <th>0</th>\n",
       "      <td>80</td>\n",
       "      <td>CA-2016-127208</td>\n",
       "      <td>6/12/2016</td>\n",
       "      <td>6/15/2016</td>\n",
       "      <td>First Class</td>\n",
       "      <td>SC-20770</td>\n",
       "      <td>Stewart Carmichael</td>\n",
       "      <td>Corporate</td>\n",
       "      <td>United States</td>\n",
       "      <td>Decatur</td>\n",
       "      <td>...</td>\n",
       "      <td>1.7 Cubic Foot Compact \"Cube\" Office Refrigera...</td>\n",
       "      <td>208.16</td>\n",
       "      <td>1</td>\n",
       "      <td>0.0</td>\n",
       "      <td>56.2032</td>\n",
       "      <td>AL</td>\n",
       "      <td>5786.8253</td>\n",
       "      <td>19510.64</td>\n",
       "      <td>Technology</td>\n",
       "      <td>8969.08</td>\n",
       "    </tr>\n",
       "    <tr>\n",
       "      <th>1</th>\n",
       "      <td>81</td>\n",
       "      <td>CA-2016-127208</td>\n",
       "      <td>6/12/2016</td>\n",
       "      <td>6/15/2016</td>\n",
       "      <td>First Class</td>\n",
       "      <td>SC-20770</td>\n",
       "      <td>Stewart Carmichael</td>\n",
       "      <td>Corporate</td>\n",
       "      <td>United States</td>\n",
       "      <td>Decatur</td>\n",
       "      <td>...</td>\n",
       "      <td>Avery Heavy-Duty EZD  Binder With Locking Rings</td>\n",
       "      <td>16.74</td>\n",
       "      <td>3</td>\n",
       "      <td>0.0</td>\n",
       "      <td>8.0352</td>\n",
       "      <td>AL</td>\n",
       "      <td>5786.8253</td>\n",
       "      <td>19510.64</td>\n",
       "      <td>Technology</td>\n",
       "      <td>8969.08</td>\n",
       "    </tr>\n",
       "    <tr>\n",
       "      <th>2</th>\n",
       "      <td>534</td>\n",
       "      <td>CA-2016-168753</td>\n",
       "      <td>5/29/2016</td>\n",
       "      <td>6/1/2016</td>\n",
       "      <td>Second Class</td>\n",
       "      <td>RL-19615</td>\n",
       "      <td>Rob Lucas</td>\n",
       "      <td>Consumer</td>\n",
       "      <td>United States</td>\n",
       "      <td>Montgomery</td>\n",
       "      <td>...</td>\n",
       "      <td>Panasonic KX-TG9471B</td>\n",
       "      <td>979.95</td>\n",
       "      <td>5</td>\n",
       "      <td>0.0</td>\n",
       "      <td>274.3860</td>\n",
       "      <td>AL</td>\n",
       "      <td>5786.8253</td>\n",
       "      <td>19510.64</td>\n",
       "      <td>Technology</td>\n",
       "      <td>8969.08</td>\n",
       "    </tr>\n",
       "    <tr>\n",
       "      <th>3</th>\n",
       "      <td>535</td>\n",
       "      <td>CA-2016-168753</td>\n",
       "      <td>5/29/2016</td>\n",
       "      <td>6/1/2016</td>\n",
       "      <td>Second Class</td>\n",
       "      <td>RL-19615</td>\n",
       "      <td>Rob Lucas</td>\n",
       "      <td>Consumer</td>\n",
       "      <td>United States</td>\n",
       "      <td>Montgomery</td>\n",
       "      <td>...</td>\n",
       "      <td>Presstex Flexible Ring Binders</td>\n",
       "      <td>22.75</td>\n",
       "      <td>5</td>\n",
       "      <td>0.0</td>\n",
       "      <td>11.3750</td>\n",
       "      <td>AL</td>\n",
       "      <td>5786.8253</td>\n",
       "      <td>19510.64</td>\n",
       "      <td>Technology</td>\n",
       "      <td>8969.08</td>\n",
       "    </tr>\n",
       "    <tr>\n",
       "      <th>4</th>\n",
       "      <td>1270</td>\n",
       "      <td>CA-2017-100426</td>\n",
       "      <td>6/4/2017</td>\n",
       "      <td>6/8/2017</td>\n",
       "      <td>Standard Class</td>\n",
       "      <td>DC-12850</td>\n",
       "      <td>Dan Campbell</td>\n",
       "      <td>Consumer</td>\n",
       "      <td>United States</td>\n",
       "      <td>Florence</td>\n",
       "      <td>...</td>\n",
       "      <td>Ampad Phone Message Book, Recycled, 400 Messag...</td>\n",
       "      <td>12.48</td>\n",
       "      <td>2</td>\n",
       "      <td>0.0</td>\n",
       "      <td>5.6160</td>\n",
       "      <td>AL</td>\n",
       "      <td>5786.8253</td>\n",
       "      <td>19510.64</td>\n",
       "      <td>Technology</td>\n",
       "      <td>8969.08</td>\n",
       "    </tr>\n",
       "  </tbody>\n",
       "</table>\n",
       "<p>5 rows × 26 columns</p>\n",
       "</div>"
      ],
      "text/plain": [
       "   Row ID        Order ID Order Date  Ship Date       Ship Mode Customer ID  \\\n",
       "0      80  CA-2016-127208  6/12/2016  6/15/2016     First Class    SC-20770   \n",
       "1      81  CA-2016-127208  6/12/2016  6/15/2016     First Class    SC-20770   \n",
       "2     534  CA-2016-168753  5/29/2016   6/1/2016    Second Class    RL-19615   \n",
       "3     535  CA-2016-168753  5/29/2016   6/1/2016    Second Class    RL-19615   \n",
       "4    1270  CA-2017-100426   6/4/2017   6/8/2017  Standard Class    DC-12850   \n",
       "\n",
       "        Customer Name    Segment        Country        City  ...  \\\n",
       "0  Stewart Carmichael  Corporate  United States     Decatur  ...   \n",
       "1  Stewart Carmichael  Corporate  United States     Decatur  ...   \n",
       "2           Rob Lucas   Consumer  United States  Montgomery  ...   \n",
       "3           Rob Lucas   Consumer  United States  Montgomery  ...   \n",
       "4        Dan Campbell   Consumer  United States    Florence  ...   \n",
       "\n",
       "                                        Product Name  Total_Sales Quantity  \\\n",
       "0  1.7 Cubic Foot Compact \"Cube\" Office Refrigera...       208.16        1   \n",
       "1    Avery Heavy-Duty EZD  Binder With Locking Rings        16.74        3   \n",
       "2                               Panasonic KX-TG9471B       979.95        5   \n",
       "3                     Presstex Flexible Ring Binders        22.75        5   \n",
       "4  Ampad Phone Message Book, Recycled, 400 Messag...        12.48        2   \n",
       "\n",
       "  Discount Total_Profit Code     Profit     Sales  Best_Selling_Category  \\\n",
       "0      0.0      56.2032   AL  5786.8253  19510.64             Technology   \n",
       "1      0.0       8.0352   AL  5786.8253  19510.64             Technology   \n",
       "2      0.0     274.3860   AL  5786.8253  19510.64             Technology   \n",
       "3      0.0      11.3750   AL  5786.8253  19510.64             Technology   \n",
       "4      0.0       5.6160   AL  5786.8253  19510.64             Technology   \n",
       "\n",
       "   Best_Selling_Sales  \n",
       "0             8969.08  \n",
       "1             8969.08  \n",
       "2             8969.08  \n",
       "3             8969.08  \n",
       "4             8969.08  \n",
       "\n",
       "[5 rows x 26 columns]"
      ]
     },
     "execution_count": 73,
     "metadata": {},
     "output_type": "execute_result"
    }
   ],
   "source": [
    "ss = pd.read_csv(\"C:/Users/Jerem/Documents/NU SPRING 2025/DS4200 INFO PRES/PROJECT/DS4200/CSV_FILE/Superstore.csv\",\n",
    "                encoding=\"ISO-8859-1\")\n",
    "\n",
    "state_abbreviations = {\n",
    "    'Alabama': 'AL', 'Alaska': 'AK', 'Arizona': 'AZ', 'Arkansas': 'AR', 'California': 'CA',\n",
    "    'Colorado': 'CO', 'Connecticut': 'CT', 'Delaware': 'DE', 'Florida': 'FL', 'Georgia': 'GA',\n",
    "    'Hawaii': 'HI', 'Idaho': 'ID', 'Illinois': 'IL', 'Indiana': 'IN', 'Iowa': 'IA',\n",
    "    'Kansas': 'KS', 'Kentucky': 'KY', 'Louisiana': 'LA', 'Maine': 'ME', 'Maryland': 'MD',\n",
    "    'Massachusetts': 'MA', 'Michigan': 'MI', 'Minnesota': 'MN', 'Mississippi': 'MS',\n",
    "    'Missouri': 'MO', 'Montana': 'MT', 'Nebraska': 'NE', 'Nevada': 'NV', 'New Hampshire': 'NH',\n",
    "    'New Jersey': 'NJ', 'New Mexico': 'NM', 'New York': 'NY', 'North Carolina': 'NC',\n",
    "    'North Dakota': 'ND', 'Ohio': 'OH', 'Oklahoma': 'OK', 'Oregon': 'OR', 'Pennsylvania': 'PA',\n",
    "    'Rhode Island': 'RI', 'South Carolina': 'SC', 'South Dakota': 'SD', 'Tennessee': 'TN',\n",
    "    'Texas': 'TX', 'Utah': 'UT', 'Vermont': 'VT', 'Virginia': 'VA', 'Washington': 'WA',\n",
    "    'West Virginia': 'WV', 'Wisconsin': 'WI', 'Wyoming': 'WY', 'District of Columbia': 'DC'\n",
    "}\n",
    "\n",
    "ss['Code'] = ss['State'].map(state_abbreviations)\n",
    "\n",
    "profit_per_state = ss.groupby('Code')['Profit'].sum().reset_index()\n",
    "sales_per_state = ss.groupby('Code')['Sales'].sum().reset_index()\n",
    "\n",
    "category_sales = ss.groupby(['Code', 'Category'])['Sales'].sum().reset_index()\n",
    "best_category_per_state = category_sales.loc[category_sales.groupby('Code')['Sales'].idxmax()]\n",
    "best_category_per_state.rename(columns={'Category': 'Best_Selling_Category', 'Sales': 'Best_Selling_Sales'}, inplace=True)\n",
    "\n",
    "ss.rename(columns={'Profit': 'Total_Profit', 'Sales': 'Total_Sales'}, inplace=True)\n",
    "\n",
    "\n",
    "ss = pd.merge(ss, profit_per_state, left_on='Code', right_on='Code', how='outer')\n",
    "ss = pd.merge(ss, sales_per_state, left_on='Code', right_on='Code', how='outer')\n",
    "ss = pd.merge(ss, best_category_per_state, left_on='Code', right_on='Code', how='outer')\n",
    "\n",
    "ss.head()"
   ]
  },
  {
   "cell_type": "code",
   "execution_count": 147,
   "id": "f81b7eba-9924-4f13-bf66-3c4a528de004",
   "metadata": {},
   "outputs": [
    {
     "data": {
      "application/vnd.plotly.v1+json": {
       "config": {
        "plotlyServerURL": "https://plot.ly"
       },
       "data": [
        {
         "coloraxis": "coloraxis",
         "customdata": [
          [
           1190149.04,
           "Office Supplies"
          ],
          [
           7903168.223999999,
           "Office Supplies"
          ],
          [
           700687.7999999999,
           "Office Supplies"
          ],
          [
           915832950.6315,
           "Office Supplies"
          ],
          [
           5843677.476,
           "Office Supplies"
          ],
          [
           1097517.274,
           "Office Supplies"
          ],
          [
           2635302.624,
           "Office Supplies"
          ],
          [
           28650.2,
           "Office Supplies"
          ],
          [
           34268430.164,
           "Office Supplies"
          ],
          [
           9033634.559999999,
           "Office Supplies"
          ],
          [
           92032.20599999999,
           "Office Supplies"
          ],
          [
           39441721.691999994,
           "Office Supplies"
          ],
          [
           7979748.64,
           "Office Supplies"
          ],
          [
           137392.80000000002,
           "Office Supplies"
          ],
          [
           69943.44,
           "Office Supplies"
          ],
          [
           5086253.25,
           "Office Supplies"
          ],
          [
           387115.26,
           "Office Supplies"
          ],
          [
           10164.24,
           "Office Supplies"
          ],
          [
           2489079.915,
           "Office Supplies"
          ],
          [
           3865648.5900000003,
           "Office Supplies"
          ],
          [
           19448751.57,
           "Office Supplies"
          ],
          [
           2657820.35,
           "Office Supplies"
          ],
          [
           570881.02,
           "Office Supplies"
          ],
          [
           1465539.9000000001,
           "Office Supplies"
          ],
          [
           83840.28,
           "Office Supplies"
          ],
          [
           283667.34,
           "Office Supplies"
          ],
          [
           652434.978,
           "Office Supplies"
          ],
          [
           196898.14800000002,
           "Office Supplies"
          ],
          [
           4649360.56,
           "Office Supplies"
          ],
          [
           176990.31399999998,
           "Office Supplies"
          ],
          [
           350668433.688,
           "Office Supplies"
          ],
          [
           13845187.836,
           "Office Supplies"
          ],
          [
           6439.37,
           "Office Supplies"
          ],
          [
           36703065.784,
           "Office Supplies"
          ],
          [
           1299103.74,
           "Office Supplies"
          ],
          [
           2161462.6,
           "Office Supplies"
          ],
          [
           68392493.518,
           "Office Supplies"
          ],
          [
           1267165.5359999998,
           "Office Supplies"
          ],
          [
           356231.81999999995,
           "Office Supplies"
          ],
          [
           15786.72,
           "Office Supplies"
          ],
          [
           5611122.759,
           "Office Supplies"
          ],
          [
           167635225.113,
           "Office Supplies"
          ],
          [
           594662.968,
           "Office Supplies"
          ],
          [
           98223.06999999999,
           "Office Supplies"
          ],
          [
           15822625.280000001,
           "Office Supplies"
          ],
          [
           70152482.61999999,
           "Office Supplies"
          ],
          [
           4839.296,
           "Office Supplies"
          ],
          [
           3532607.1,
           "Office Supplies"
          ],
          [
           1603.136,
           "Furniture"
          ]
         ],
         "geo": "geo",
         "hovertemplate": "<b>%{hovertext}</b><br><br>Code=%{location}<br>Sales=%{customdata[0]}<br>Best_Selling_Category=%{customdata[1]}<br>Profit=%{z}<extra></extra>",
         "hovertext": [
          "Alabama",
          "Arizona",
          "Arkansas",
          "California",
          "Colorado",
          "Connecticut",
          "Delaware",
          "District of Columbia",
          "Florida",
          "Georgia",
          "Idaho",
          "Illinois",
          "Indiana",
          "Iowa",
          "Kansas",
          "Kentucky",
          "Louisiana",
          "Maine",
          "Maryland",
          "Massachusetts",
          "Michigan",
          "Minnesota",
          "Mississippi",
          "Missouri",
          "Montana",
          "Nebraska",
          "Nevada",
          "New Hampshire",
          "New Jersey",
          "New Mexico",
          "New York",
          "North Carolina",
          "North Dakota",
          "Ohio",
          "Oklahoma",
          "Oregon",
          "Pennsylvania",
          "Rhode Island",
          "South Carolina",
          "South Dakota",
          "Tennessee",
          "Texas",
          "Utah",
          "Vermont",
          "Virginia",
          "Washington",
          "West Virginia",
          "Wisconsin",
          "Wyoming"
         ],
         "locationmode": "USA-states",
         "locations": [
          "AL",
          "AZ",
          "AR",
          "CA",
          "CO",
          "CT",
          "DE",
          "DC",
          "FL",
          "GA",
          "ID",
          "IL",
          "IN",
          "IA",
          "KS",
          "KY",
          "LA",
          "ME",
          "MD",
          "MA",
          "MI",
          "MN",
          "MS",
          "MO",
          "MT",
          "NE",
          "NV",
          "NH",
          "NJ",
          "NM",
          "NY",
          "NC",
          "ND",
          "OH",
          "OK",
          "OR",
          "PA",
          "RI",
          "SC",
          "SD",
          "TN",
          "TX",
          "UT",
          "VT",
          "VA",
          "WA",
          "WV",
          "WI",
          "WY"
         ],
         "name": "",
         "type": "choropleth",
         "z": [
          352996.3433,
          -767855.1104,
          240521.226,
          152839155.5871,
          -1188070.1378,
          287942.32759999996,
          957827.9808,
          10595.892999999998,
          -1301932.5511000003,
          2990007.9672,
          17361.185100000002,
          -6203080.404,
          2739057.5087,
          35514.356999999996,
          20074.644,
          1556757.8273999998,
          92236.2966,
          3635.8896,
          738273.774,
          916042.716,
          6238112.838,
          963263.6786000001,
          168167.7386,
          424789.893,
          27499.9275,
          77409.57960000001,
          129353.8701,
          46075.5756,
          1270478.794,
          42813.295699999995,
          83515482.82079999,
          -1865237.1378,
          1611.0479,
          -7959575.6254,
          320361.096,
          -147618.34199999998,
          -9133696.6961,
          407995.2408,
          74300.37719999999,
          4737.9396,
          -977529.9287999999,
          -25343415.9555,
          134966.2755,
          24694.7613,
          4165940.8896000003,
          16901741.7602,
          743.6864,
          924198.044,
          100.196
         ]
        }
       ],
       "layout": {
        "autosize": true,
        "coloraxis": {
         "cmax": 152839155.5871,
         "cmin": -25343415.9555,
         "colorbar": {
          "title": {
           "text": "Profit"
          }
         },
         "colorscale": [
          [
           0,
           "rgb(165,0,38)"
          ],
          [
           0.1,
           "rgb(215,48,39)"
          ],
          [
           0.2,
           "rgb(244,109,67)"
          ],
          [
           0.3,
           "rgb(253,174,97)"
          ],
          [
           0.4,
           "rgb(254,224,139)"
          ],
          [
           0.5,
           "rgb(255,255,191)"
          ],
          [
           0.6,
           "rgb(217,239,139)"
          ],
          [
           0.7,
           "rgb(166,217,106)"
          ],
          [
           0.8,
           "rgb(102,189,99)"
          ],
          [
           0.9,
           "rgb(26,152,80)"
          ],
          [
           1,
           "rgb(0,104,55)"
          ]
         ]
        },
        "geo": {
         "center": {
          "lat": 37.619950029293335,
          "lon": -80.5482585167322
         },
         "domain": {
          "x": [
           0,
           1
          ],
          "y": [
           0,
           1
          ]
         },
         "projection": {
          "scale": 0.6631501394842922
         },
         "scope": "usa"
        },
        "legend": {
         "tracegroupgap": 0
        },
        "margin": {
         "t": 60
        },
        "template": {
         "data": {
          "bar": [
           {
            "error_x": {
             "color": "#2a3f5f"
            },
            "error_y": {
             "color": "#2a3f5f"
            },
            "marker": {
             "line": {
              "color": "#E5ECF6",
              "width": 0.5
             },
             "pattern": {
              "fillmode": "overlay",
              "size": 10,
              "solidity": 0.2
             }
            },
            "type": "bar"
           }
          ],
          "barpolar": [
           {
            "marker": {
             "line": {
              "color": "#E5ECF6",
              "width": 0.5
             },
             "pattern": {
              "fillmode": "overlay",
              "size": 10,
              "solidity": 0.2
             }
            },
            "type": "barpolar"
           }
          ],
          "carpet": [
           {
            "aaxis": {
             "endlinecolor": "#2a3f5f",
             "gridcolor": "white",
             "linecolor": "white",
             "minorgridcolor": "white",
             "startlinecolor": "#2a3f5f"
            },
            "baxis": {
             "endlinecolor": "#2a3f5f",
             "gridcolor": "white",
             "linecolor": "white",
             "minorgridcolor": "white",
             "startlinecolor": "#2a3f5f"
            },
            "type": "carpet"
           }
          ],
          "choropleth": [
           {
            "colorbar": {
             "outlinewidth": 0,
             "ticks": ""
            },
            "type": "choropleth"
           }
          ],
          "contour": [
           {
            "colorbar": {
             "outlinewidth": 0,
             "ticks": ""
            },
            "colorscale": [
             [
              0,
              "#0d0887"
             ],
             [
              0.1111111111111111,
              "#46039f"
             ],
             [
              0.2222222222222222,
              "#7201a8"
             ],
             [
              0.3333333333333333,
              "#9c179e"
             ],
             [
              0.4444444444444444,
              "#bd3786"
             ],
             [
              0.5555555555555556,
              "#d8576b"
             ],
             [
              0.6666666666666666,
              "#ed7953"
             ],
             [
              0.7777777777777778,
              "#fb9f3a"
             ],
             [
              0.8888888888888888,
              "#fdca26"
             ],
             [
              1,
              "#f0f921"
             ]
            ],
            "type": "contour"
           }
          ],
          "contourcarpet": [
           {
            "colorbar": {
             "outlinewidth": 0,
             "ticks": ""
            },
            "type": "contourcarpet"
           }
          ],
          "heatmap": [
           {
            "colorbar": {
             "outlinewidth": 0,
             "ticks": ""
            },
            "colorscale": [
             [
              0,
              "#0d0887"
             ],
             [
              0.1111111111111111,
              "#46039f"
             ],
             [
              0.2222222222222222,
              "#7201a8"
             ],
             [
              0.3333333333333333,
              "#9c179e"
             ],
             [
              0.4444444444444444,
              "#bd3786"
             ],
             [
              0.5555555555555556,
              "#d8576b"
             ],
             [
              0.6666666666666666,
              "#ed7953"
             ],
             [
              0.7777777777777778,
              "#fb9f3a"
             ],
             [
              0.8888888888888888,
              "#fdca26"
             ],
             [
              1,
              "#f0f921"
             ]
            ],
            "type": "heatmap"
           }
          ],
          "heatmapgl": [
           {
            "colorbar": {
             "outlinewidth": 0,
             "ticks": ""
            },
            "colorscale": [
             [
              0,
              "#0d0887"
             ],
             [
              0.1111111111111111,
              "#46039f"
             ],
             [
              0.2222222222222222,
              "#7201a8"
             ],
             [
              0.3333333333333333,
              "#9c179e"
             ],
             [
              0.4444444444444444,
              "#bd3786"
             ],
             [
              0.5555555555555556,
              "#d8576b"
             ],
             [
              0.6666666666666666,
              "#ed7953"
             ],
             [
              0.7777777777777778,
              "#fb9f3a"
             ],
             [
              0.8888888888888888,
              "#fdca26"
             ],
             [
              1,
              "#f0f921"
             ]
            ],
            "type": "heatmapgl"
           }
          ],
          "histogram": [
           {
            "marker": {
             "pattern": {
              "fillmode": "overlay",
              "size": 10,
              "solidity": 0.2
             }
            },
            "type": "histogram"
           }
          ],
          "histogram2d": [
           {
            "colorbar": {
             "outlinewidth": 0,
             "ticks": ""
            },
            "colorscale": [
             [
              0,
              "#0d0887"
             ],
             [
              0.1111111111111111,
              "#46039f"
             ],
             [
              0.2222222222222222,
              "#7201a8"
             ],
             [
              0.3333333333333333,
              "#9c179e"
             ],
             [
              0.4444444444444444,
              "#bd3786"
             ],
             [
              0.5555555555555556,
              "#d8576b"
             ],
             [
              0.6666666666666666,
              "#ed7953"
             ],
             [
              0.7777777777777778,
              "#fb9f3a"
             ],
             [
              0.8888888888888888,
              "#fdca26"
             ],
             [
              1,
              "#f0f921"
             ]
            ],
            "type": "histogram2d"
           }
          ],
          "histogram2dcontour": [
           {
            "colorbar": {
             "outlinewidth": 0,
             "ticks": ""
            },
            "colorscale": [
             [
              0,
              "#0d0887"
             ],
             [
              0.1111111111111111,
              "#46039f"
             ],
             [
              0.2222222222222222,
              "#7201a8"
             ],
             [
              0.3333333333333333,
              "#9c179e"
             ],
             [
              0.4444444444444444,
              "#bd3786"
             ],
             [
              0.5555555555555556,
              "#d8576b"
             ],
             [
              0.6666666666666666,
              "#ed7953"
             ],
             [
              0.7777777777777778,
              "#fb9f3a"
             ],
             [
              0.8888888888888888,
              "#fdca26"
             ],
             [
              1,
              "#f0f921"
             ]
            ],
            "type": "histogram2dcontour"
           }
          ],
          "mesh3d": [
           {
            "colorbar": {
             "outlinewidth": 0,
             "ticks": ""
            },
            "type": "mesh3d"
           }
          ],
          "parcoords": [
           {
            "line": {
             "colorbar": {
              "outlinewidth": 0,
              "ticks": ""
             }
            },
            "type": "parcoords"
           }
          ],
          "pie": [
           {
            "automargin": true,
            "type": "pie"
           }
          ],
          "scatter": [
           {
            "fillpattern": {
             "fillmode": "overlay",
             "size": 10,
             "solidity": 0.2
            },
            "type": "scatter"
           }
          ],
          "scatter3d": [
           {
            "line": {
             "colorbar": {
              "outlinewidth": 0,
              "ticks": ""
             }
            },
            "marker": {
             "colorbar": {
              "outlinewidth": 0,
              "ticks": ""
             }
            },
            "type": "scatter3d"
           }
          ],
          "scattercarpet": [
           {
            "marker": {
             "colorbar": {
              "outlinewidth": 0,
              "ticks": ""
             }
            },
            "type": "scattercarpet"
           }
          ],
          "scattergeo": [
           {
            "marker": {
             "colorbar": {
              "outlinewidth": 0,
              "ticks": ""
             }
            },
            "type": "scattergeo"
           }
          ],
          "scattergl": [
           {
            "marker": {
             "colorbar": {
              "outlinewidth": 0,
              "ticks": ""
             }
            },
            "type": "scattergl"
           }
          ],
          "scattermapbox": [
           {
            "marker": {
             "colorbar": {
              "outlinewidth": 0,
              "ticks": ""
             }
            },
            "type": "scattermapbox"
           }
          ],
          "scatterpolar": [
           {
            "marker": {
             "colorbar": {
              "outlinewidth": 0,
              "ticks": ""
             }
            },
            "type": "scatterpolar"
           }
          ],
          "scatterpolargl": [
           {
            "marker": {
             "colorbar": {
              "outlinewidth": 0,
              "ticks": ""
             }
            },
            "type": "scatterpolargl"
           }
          ],
          "scatterternary": [
           {
            "marker": {
             "colorbar": {
              "outlinewidth": 0,
              "ticks": ""
             }
            },
            "type": "scatterternary"
           }
          ],
          "surface": [
           {
            "colorbar": {
             "outlinewidth": 0,
             "ticks": ""
            },
            "colorscale": [
             [
              0,
              "#0d0887"
             ],
             [
              0.1111111111111111,
              "#46039f"
             ],
             [
              0.2222222222222222,
              "#7201a8"
             ],
             [
              0.3333333333333333,
              "#9c179e"
             ],
             [
              0.4444444444444444,
              "#bd3786"
             ],
             [
              0.5555555555555556,
              "#d8576b"
             ],
             [
              0.6666666666666666,
              "#ed7953"
             ],
             [
              0.7777777777777778,
              "#fb9f3a"
             ],
             [
              0.8888888888888888,
              "#fdca26"
             ],
             [
              1,
              "#f0f921"
             ]
            ],
            "type": "surface"
           }
          ],
          "table": [
           {
            "cells": {
             "fill": {
              "color": "#EBF0F8"
             },
             "line": {
              "color": "white"
             }
            },
            "header": {
             "fill": {
              "color": "#C8D4E3"
             },
             "line": {
              "color": "white"
             }
            },
            "type": "table"
           }
          ]
         },
         "layout": {
          "annotationdefaults": {
           "arrowcolor": "#2a3f5f",
           "arrowhead": 0,
           "arrowwidth": 1
          },
          "autotypenumbers": "strict",
          "coloraxis": {
           "colorbar": {
            "outlinewidth": 0,
            "ticks": ""
           }
          },
          "colorscale": {
           "diverging": [
            [
             0,
             "#8e0152"
            ],
            [
             0.1,
             "#c51b7d"
            ],
            [
             0.2,
             "#de77ae"
            ],
            [
             0.3,
             "#f1b6da"
            ],
            [
             0.4,
             "#fde0ef"
            ],
            [
             0.5,
             "#f7f7f7"
            ],
            [
             0.6,
             "#e6f5d0"
            ],
            [
             0.7,
             "#b8e186"
            ],
            [
             0.8,
             "#7fbc41"
            ],
            [
             0.9,
             "#4d9221"
            ],
            [
             1,
             "#276419"
            ]
           ],
           "sequential": [
            [
             0,
             "#0d0887"
            ],
            [
             0.1111111111111111,
             "#46039f"
            ],
            [
             0.2222222222222222,
             "#7201a8"
            ],
            [
             0.3333333333333333,
             "#9c179e"
            ],
            [
             0.4444444444444444,
             "#bd3786"
            ],
            [
             0.5555555555555556,
             "#d8576b"
            ],
            [
             0.6666666666666666,
             "#ed7953"
            ],
            [
             0.7777777777777778,
             "#fb9f3a"
            ],
            [
             0.8888888888888888,
             "#fdca26"
            ],
            [
             1,
             "#f0f921"
            ]
           ],
           "sequentialminus": [
            [
             0,
             "#0d0887"
            ],
            [
             0.1111111111111111,
             "#46039f"
            ],
            [
             0.2222222222222222,
             "#7201a8"
            ],
            [
             0.3333333333333333,
             "#9c179e"
            ],
            [
             0.4444444444444444,
             "#bd3786"
            ],
            [
             0.5555555555555556,
             "#d8576b"
            ],
            [
             0.6666666666666666,
             "#ed7953"
            ],
            [
             0.7777777777777778,
             "#fb9f3a"
            ],
            [
             0.8888888888888888,
             "#fdca26"
            ],
            [
             1,
             "#f0f921"
            ]
           ]
          },
          "colorway": [
           "#636efa",
           "#EF553B",
           "#00cc96",
           "#ab63fa",
           "#FFA15A",
           "#19d3f3",
           "#FF6692",
           "#B6E880",
           "#FF97FF",
           "#FECB52"
          ],
          "font": {
           "color": "#2a3f5f"
          },
          "geo": {
           "bgcolor": "white",
           "lakecolor": "white",
           "landcolor": "#E5ECF6",
           "showlakes": true,
           "showland": true,
           "subunitcolor": "white"
          },
          "hoverlabel": {
           "align": "left"
          },
          "hovermode": "closest",
          "mapbox": {
           "style": "light"
          },
          "paper_bgcolor": "white",
          "plot_bgcolor": "#E5ECF6",
          "polar": {
           "angularaxis": {
            "gridcolor": "white",
            "linecolor": "white",
            "ticks": ""
           },
           "bgcolor": "#E5ECF6",
           "radialaxis": {
            "gridcolor": "white",
            "linecolor": "white",
            "ticks": ""
           }
          },
          "scene": {
           "xaxis": {
            "backgroundcolor": "#E5ECF6",
            "gridcolor": "white",
            "gridwidth": 2,
            "linecolor": "white",
            "showbackground": true,
            "ticks": "",
            "zerolinecolor": "white"
           },
           "yaxis": {
            "backgroundcolor": "#E5ECF6",
            "gridcolor": "white",
            "gridwidth": 2,
            "linecolor": "white",
            "showbackground": true,
            "ticks": "",
            "zerolinecolor": "white"
           },
           "zaxis": {
            "backgroundcolor": "#E5ECF6",
            "gridcolor": "white",
            "gridwidth": 2,
            "linecolor": "white",
            "showbackground": true,
            "ticks": "",
            "zerolinecolor": "white"
           }
          },
          "shapedefaults": {
           "line": {
            "color": "#2a3f5f"
           }
          },
          "ternary": {
           "aaxis": {
            "gridcolor": "white",
            "linecolor": "white",
            "ticks": ""
           },
           "baxis": {
            "gridcolor": "white",
            "linecolor": "white",
            "ticks": ""
           },
           "bgcolor": "#E5ECF6",
           "caxis": {
            "gridcolor": "white",
            "linecolor": "white",
            "ticks": ""
           }
          },
          "title": {
           "x": 0.05
          },
          "xaxis": {
           "automargin": true,
           "gridcolor": "white",
           "linecolor": "white",
           "ticks": "",
           "title": {
            "standoff": 15
           },
           "zerolinecolor": "white",
           "zerolinewidth": 2
          },
          "yaxis": {
           "automargin": true,
           "gridcolor": "white",
           "linecolor": "white",
           "ticks": "",
           "title": {
            "standoff": 15
           },
           "zerolinecolor": "white",
           "zerolinewidth": 2
          }
         }
        },
        "title": {
         "text": "Superstore Profit by State (with Best-Selling Category)",
         "x": 0.5
        }
       }
      },
      "image/png": "[encoded data removed]",
      "text/html": [
       "<div>                            <div id=\"a0d5aa5a-a4a2-4000-b14c-97b17c8d08c9\" class=\"plotly-graph-div\" style=\"height:525px; width:100%;\"></div>            <script type=\"text/javascript\">                require([\"plotly\"], function(Plotly) {                    window.PLOTLYENV=window.PLOTLYENV || {};                                    if (document.getElementById(\"a0d5aa5a-a4a2-4000-b14c-97b17c8d08c9\")) {                    Plotly.newPlot(                        \"a0d5aa5a-a4a2-4000-b14c-97b17c8d08c9\",                        [{\"coloraxis\":\"coloraxis\",\"customdata\":[[1190149.04,\"Office Supplies\"],[7903168.223999999,\"Office Supplies\"],[700687.7999999999,\"Office Supplies\"],[915832950.6315,\"Office Supplies\"],[5843677.476,\"Office Supplies\"],[1097517.274,\"Office Supplies\"],[2635302.624,\"Office Supplies\"],[28650.2,\"Office Supplies\"],[34268430.164,\"Office Supplies\"],[9033634.559999999,\"Office Supplies\"],[92032.20599999999,\"Office Supplies\"],[39441721.691999994,\"Office Supplies\"],[7979748.64,\"Office Supplies\"],[137392.80000000002,\"Office Supplies\"],[69943.44,\"Office Supplies\"],[5086253.25,\"Office Supplies\"],[387115.26,\"Office Supplies\"],[10164.24,\"Office Supplies\"],[2489079.915,\"Office Supplies\"],[3865648.5900000003,\"Office Supplies\"],[19448751.57,\"Office Supplies\"],[2657820.35,\"Office Supplies\"],[570881.02,\"Office Supplies\"],[1465539.9000000001,\"Office Supplies\"],[83840.28,\"Office Supplies\"],[283667.34,\"Office Supplies\"],[652434.978,\"Office Supplies\"],[196898.14800000002,\"Office Supplies\"],[4649360.56,\"Office Supplies\"],[176990.31399999998,\"Office Supplies\"],[350668433.688,\"Office Supplies\"],[13845187.836,\"Office Supplies\"],[6439.37,\"Office Supplies\"],[36703065.784,\"Office Supplies\"],[1299103.74,\"Office Supplies\"],[2161462.6,\"Office Supplies\"],[68392493.518,\"Office Supplies\"],[1267165.5359999998,\"Office Supplies\"],[356231.81999999995,\"Office Supplies\"],[15786.72,\"Office Supplies\"],[5611122.759,\"Office Supplies\"],[167635225.113,\"Office Supplies\"],[594662.968,\"Office Supplies\"],[98223.06999999999,\"Office Supplies\"],[15822625.280000001,\"Office Supplies\"],[70152482.61999999,\"Office Supplies\"],[4839.296,\"Office Supplies\"],[3532607.1,\"Office Supplies\"],[1603.136,\"Furniture\"]],\"geo\":\"geo\",\"hovertemplate\":\"\\u003cb\\u003e%{hovertext}\\u003c\\u002fb\\u003e\\u003cbr\\u003e\\u003cbr\\u003eCode=%{location}\\u003cbr\\u003eSales=%{customdata[0]}\\u003cbr\\u003eBest_Selling_Category=%{customdata[1]}\\u003cbr\\u003eProfit=%{z}\\u003cextra\\u003e\\u003c\\u002fextra\\u003e\",\"hovertext\":[\"Alabama\",\"Arizona\",\"Arkansas\",\"California\",\"Colorado\",\"Connecticut\",\"Delaware\",\"District of Columbia\",\"Florida\",\"Georgia\",\"Idaho\",\"Illinois\",\"Indiana\",\"Iowa\",\"Kansas\",\"Kentucky\",\"Louisiana\",\"Maine\",\"Maryland\",\"Massachusetts\",\"Michigan\",\"Minnesota\",\"Mississippi\",\"Missouri\",\"Montana\",\"Nebraska\",\"Nevada\",\"New Hampshire\",\"New Jersey\",\"New Mexico\",\"New York\",\"North Carolina\",\"North Dakota\",\"Ohio\",\"Oklahoma\",\"Oregon\",\"Pennsylvania\",\"Rhode Island\",\"South Carolina\",\"South Dakota\",\"Tennessee\",\"Texas\",\"Utah\",\"Vermont\",\"Virginia\",\"Washington\",\"West Virginia\",\"Wisconsin\",\"Wyoming\"],\"locationmode\":\"USA-states\",\"locations\":[\"AL\",\"AZ\",\"AR\",\"CA\",\"CO\",\"CT\",\"DE\",\"DC\",\"FL\",\"GA\",\"ID\",\"IL\",\"IN\",\"IA\",\"KS\",\"KY\",\"LA\",\"ME\",\"MD\",\"MA\",\"MI\",\"MN\",\"MS\",\"MO\",\"MT\",\"NE\",\"NV\",\"NH\",\"NJ\",\"NM\",\"NY\",\"NC\",\"ND\",\"OH\",\"OK\",\"OR\",\"PA\",\"RI\",\"SC\",\"SD\",\"TN\",\"TX\",\"UT\",\"VT\",\"VA\",\"WA\",\"WV\",\"WI\",\"WY\"],\"name\":\"\",\"z\":[352996.3433,-767855.1104,240521.226,152839155.5871,-1188070.1378,287942.32759999996,957827.9808,10595.892999999998,-1301932.5511000003,2990007.9672,17361.185100000002,-6203080.404,2739057.5087,35514.356999999996,20074.644,1556757.8273999998,92236.2966,3635.8896,738273.774,916042.716,6238112.838,963263.6786000001,168167.7386,424789.893,27499.9275,77409.57960000001,129353.8701,46075.5756,1270478.794,42813.295699999995,83515482.82079999,-1865237.1378,1611.0479,-7959575.6254,320361.096,-147618.34199999998,-9133696.6961,407995.2408,74300.37719999999,4737.9396,-977529.9287999999,-25343415.9555,134966.2755,24694.7613,4165940.8896000003,16901741.7602,743.6864,924198.044,100.196],\"type\":\"choropleth\"}],                        {\"template\":{\"data\":{\"histogram2dcontour\":[{\"type\":\"histogram2dcontour\",\"colorbar\":{\"outlinewidth\":0,\"ticks\":\"\"},\"colorscale\":[[0.0,\"#0d0887\"],[0.1111111111111111,\"#46039f\"],[0.2222222222222222,\"#7201a8\"],[0.3333333333333333,\"#9c179e\"],[0.4444444444444444,\"#bd3786\"],[0.5555555555555556,\"#d8576b\"],[0.6666666666666666,\"#ed7953\"],[0.7777777777777778,\"#fb9f3a\"],[0.8888888888888888,\"#fdca26\"],[1.0,\"#f0f921\"]]}],\"choropleth\":[{\"type\":\"choropleth\",\"colorbar\":{\"outlinewidth\":0,\"ticks\":\"\"}}],\"histogram2d\":[{\"type\":\"histogram2d\",\"colorbar\":{\"outlinewidth\":0,\"ticks\":\"\"},\"colorscale\":[[0.0,\"#0d0887\"],[0.1111111111111111,\"#46039f\"],[0.2222222222222222,\"#7201a8\"],[0.3333333333333333,\"#9c179e\"],[0.4444444444444444,\"#bd3786\"],[0.5555555555555556,\"#d8576b\"],[0.6666666666666666,\"#ed7953\"],[0.7777777777777778,\"#fb9f3a\"],[0.8888888888888888,\"#fdca26\"],[1.0,\"#f0f921\"]]}],\"heatmap\":[{\"type\":\"heatmap\",\"colorbar\":{\"outlinewidth\":0,\"ticks\":\"\"},\"colorscale\":[[0.0,\"#0d0887\"],[0.1111111111111111,\"#46039f\"],[0.2222222222222222,\"#7201a8\"],[0.3333333333333333,\"#9c179e\"],[0.4444444444444444,\"#bd3786\"],[0.5555555555555556,\"#d8576b\"],[0.6666666666666666,\"#ed7953\"],[0.7777777777777778,\"#fb9f3a\"],[0.8888888888888888,\"#fdca26\"],[1.0,\"#f0f921\"]]}],\"heatmapgl\":[{\"type\":\"heatmapgl\",\"colorbar\":{\"outlinewidth\":0,\"ticks\":\"\"},\"colorscale\":[[0.0,\"#0d0887\"],[0.1111111111111111,\"#46039f\"],[0.2222222222222222,\"#7201a8\"],[0.3333333333333333,\"#9c179e\"],[0.4444444444444444,\"#bd3786\"],[0.5555555555555556,\"#d8576b\"],[0.6666666666666666,\"#ed7953\"],[0.7777777777777778,\"#fb9f3a\"],[0.8888888888888888,\"#fdca26\"],[1.0,\"#f0f921\"]]}],\"contourcarpet\":[{\"type\":\"contourcarpet\",\"colorbar\":{\"outlinewidth\":0,\"ticks\":\"\"}}],\"contour\":[{\"type\":\"contour\",\"colorbar\":{\"outlinewidth\":0,\"ticks\":\"\"},\"colorscale\":[[0.0,\"#0d0887\"],[0.1111111111111111,\"#46039f\"],[0.2222222222222222,\"#7201a8\"],[0.3333333333333333,\"#9c179e\"],[0.4444444444444444,\"#bd3786\"],[0.5555555555555556,\"#d8576b\"],[0.6666666666666666,\"#ed7953\"],[0.7777777777777778,\"#fb9f3a\"],[0.8888888888888888,\"#fdca26\"],[1.0,\"#f0f921\"]]}],\"surface\":[{\"type\":\"surface\",\"colorbar\":{\"outlinewidth\":0,\"ticks\":\"\"},\"colorscale\":[[0.0,\"#0d0887\"],[0.1111111111111111,\"#46039f\"],[0.2222222222222222,\"#7201a8\"],[0.3333333333333333,\"#9c179e\"],[0.4444444444444444,\"#bd3786\"],[0.5555555555555556,\"#d8576b\"],[0.6666666666666666,\"#ed7953\"],[0.7777777777777778,\"#fb9f3a\"],[0.8888888888888888,\"#fdca26\"],[1.0,\"#f0f921\"]]}],\"mesh3d\":[{\"type\":\"mesh3d\",\"colorbar\":{\"outlinewidth\":0,\"ticks\":\"\"}}],\"scatter\":[{\"fillpattern\":{\"fillmode\":\"overlay\",\"size\":10,\"solidity\":0.2},\"type\":\"scatter\"}],\"parcoords\":[{\"type\":\"parcoords\",\"line\":{\"colorbar\":{\"outlinewidth\":0,\"ticks\":\"\"}}}],\"scatterpolargl\":[{\"type\":\"scatterpolargl\",\"marker\":{\"colorbar\":{\"outlinewidth\":0,\"ticks\":\"\"}}}],\"bar\":[{\"error_x\":{\"color\":\"#2a3f5f\"},\"error_y\":{\"color\":\"#2a3f5f\"},\"marker\":{\"line\":{\"color\":\"#E5ECF6\",\"width\":0.5},\"pattern\":{\"fillmode\":\"overlay\",\"size\":10,\"solidity\":0.2}},\"type\":\"bar\"}],\"scattergeo\":[{\"type\":\"scattergeo\",\"marker\":{\"colorbar\":{\"outlinewidth\":0,\"ticks\":\"\"}}}],\"scatterpolar\":[{\"type\":\"scatterpolar\",\"marker\":{\"colorbar\":{\"outlinewidth\":0,\"ticks\":\"\"}}}],\"histogram\":[{\"marker\":{\"pattern\":{\"fillmode\":\"overlay\",\"size\":10,\"solidity\":0.2}},\"type\":\"histogram\"}],\"scattergl\":[{\"type\":\"scattergl\",\"marker\":{\"colorbar\":{\"outlinewidth\":0,\"ticks\":\"\"}}}],\"scatter3d\":[{\"type\":\"scatter3d\",\"line\":{\"colorbar\":{\"outlinewidth\":0,\"ticks\":\"\"}},\"marker\":{\"colorbar\":{\"outlinewidth\":0,\"ticks\":\"\"}}}],\"scattermapbox\":[{\"type\":\"scattermapbox\",\"marker\":{\"colorbar\":{\"outlinewidth\":0,\"ticks\":\"\"}}}],\"scatterternary\":[{\"type\":\"scatterternary\",\"marker\":{\"colorbar\":{\"outlinewidth\":0,\"ticks\":\"\"}}}],\"scattercarpet\":[{\"type\":\"scattercarpet\",\"marker\":{\"colorbar\":{\"outlinewidth\":0,\"ticks\":\"\"}}}],\"carpet\":[{\"aaxis\":{\"endlinecolor\":\"#2a3f5f\",\"gridcolor\":\"white\",\"linecolor\":\"white\",\"minorgridcolor\":\"white\",\"startlinecolor\":\"#2a3f5f\"},\"baxis\":{\"endlinecolor\":\"#2a3f5f\",\"gridcolor\":\"white\",\"linecolor\":\"white\",\"minorgridcolor\":\"white\",\"startlinecolor\":\"#2a3f5f\"},\"type\":\"carpet\"}],\"table\":[{\"cells\":{\"fill\":{\"color\":\"#EBF0F8\"},\"line\":{\"color\":\"white\"}},\"header\":{\"fill\":{\"color\":\"#C8D4E3\"},\"line\":{\"color\":\"white\"}},\"type\":\"table\"}],\"barpolar\":[{\"marker\":{\"line\":{\"color\":\"#E5ECF6\",\"width\":0.5},\"pattern\":{\"fillmode\":\"overlay\",\"size\":10,\"solidity\":0.2}},\"type\":\"barpolar\"}],\"pie\":[{\"automargin\":true,\"type\":\"pie\"}]},\"layout\":{\"autotypenumbers\":\"strict\",\"colorway\":[\"#636efa\",\"#EF553B\",\"#00cc96\",\"#ab63fa\",\"#FFA15A\",\"#19d3f3\",\"#FF6692\",\"#B6E880\",\"#FF97FF\",\"#FECB52\"],\"font\":{\"color\":\"#2a3f5f\"},\"hovermode\":\"closest\",\"hoverlabel\":{\"align\":\"left\"},\"paper_bgcolor\":\"white\",\"plot_bgcolor\":\"#E5ECF6\",\"polar\":{\"bgcolor\":\"#E5ECF6\",\"angularaxis\":{\"gridcolor\":\"white\",\"linecolor\":\"white\",\"ticks\":\"\"},\"radialaxis\":{\"gridcolor\":\"white\",\"linecolor\":\"white\",\"ticks\":\"\"}},\"ternary\":{\"bgcolor\":\"#E5ECF6\",\"aaxis\":{\"gridcolor\":\"white\",\"linecolor\":\"white\",\"ticks\":\"\"},\"baxis\":{\"gridcolor\":\"white\",\"linecolor\":\"white\",\"ticks\":\"\"},\"caxis\":{\"gridcolor\":\"white\",\"linecolor\":\"white\",\"ticks\":\"\"}},\"coloraxis\":{\"colorbar\":{\"outlinewidth\":0,\"ticks\":\"\"}},\"colorscale\":{\"sequential\":[[0.0,\"#0d0887\"],[0.1111111111111111,\"#46039f\"],[0.2222222222222222,\"#7201a8\"],[0.3333333333333333,\"#9c179e\"],[0.4444444444444444,\"#bd3786\"],[0.5555555555555556,\"#d8576b\"],[0.6666666666666666,\"#ed7953\"],[0.7777777777777778,\"#fb9f3a\"],[0.8888888888888888,\"#fdca26\"],[1.0,\"#f0f921\"]],\"sequentialminus\":[[0.0,\"#0d0887\"],[0.1111111111111111,\"#46039f\"],[0.2222222222222222,\"#7201a8\"],[0.3333333333333333,\"#9c179e\"],[0.4444444444444444,\"#bd3786\"],[0.5555555555555556,\"#d8576b\"],[0.6666666666666666,\"#ed7953\"],[0.7777777777777778,\"#fb9f3a\"],[0.8888888888888888,\"#fdca26\"],[1.0,\"#f0f921\"]],\"diverging\":[[0,\"#8e0152\"],[0.1,\"#c51b7d\"],[0.2,\"#de77ae\"],[0.3,\"#f1b6da\"],[0.4,\"#fde0ef\"],[0.5,\"#f7f7f7\"],[0.6,\"#e6f5d0\"],[0.7,\"#b8e186\"],[0.8,\"#7fbc41\"],[0.9,\"#4d9221\"],[1,\"#276419\"]]},\"xaxis\":{\"gridcolor\":\"white\",\"linecolor\":\"white\",\"ticks\":\"\",\"title\":{\"standoff\":15},\"zerolinecolor\":\"white\",\"automargin\":true,\"zerolinewidth\":2},\"yaxis\":{\"gridcolor\":\"white\",\"linecolor\":\"white\",\"ticks\":\"\",\"title\":{\"standoff\":15},\"zerolinecolor\":\"white\",\"automargin\":true,\"zerolinewidth\":2},\"scene\":{\"xaxis\":{\"backgroundcolor\":\"#E5ECF6\",\"gridcolor\":\"white\",\"linecolor\":\"white\",\"showbackground\":true,\"ticks\":\"\",\"zerolinecolor\":\"white\",\"gridwidth\":2},\"yaxis\":{\"backgroundcolor\":\"#E5ECF6\",\"gridcolor\":\"white\",\"linecolor\":\"white\",\"showbackground\":true,\"ticks\":\"\",\"zerolinecolor\":\"white\",\"gridwidth\":2},\"zaxis\":{\"backgroundcolor\":\"#E5ECF6\",\"gridcolor\":\"white\",\"linecolor\":\"white\",\"showbackground\":true,\"ticks\":\"\",\"zerolinecolor\":\"white\",\"gridwidth\":2}},\"shapedefaults\":{\"line\":{\"color\":\"#2a3f5f\"}},\"annotationdefaults\":{\"arrowcolor\":\"#2a3f5f\",\"arrowhead\":0,\"arrowwidth\":1},\"geo\":{\"bgcolor\":\"white\",\"landcolor\":\"#E5ECF6\",\"subunitcolor\":\"white\",\"showland\":true,\"showlakes\":true,\"lakecolor\":\"white\"},\"title\":{\"x\":0.05},\"mapbox\":{\"style\":\"light\"}}},\"geo\":{\"domain\":{\"x\":[0.0,1.0],\"y\":[0.0,1.0]},\"center\":{},\"scope\":\"usa\"},\"coloraxis\":{\"colorbar\":{\"title\":{\"text\":\"Profit\"}},\"colorscale\":[[0.0,\"rgb(165,0,38)\"],[0.1,\"rgb(215,48,39)\"],[0.2,\"rgb(244,109,67)\"],[0.3,\"rgb(253,174,97)\"],[0.4,\"rgb(254,224,139)\"],[0.5,\"rgb(255,255,191)\"],[0.6,\"rgb(217,239,139)\"],[0.7,\"rgb(166,217,106)\"],[0.8,\"rgb(102,189,99)\"],[0.9,\"rgb(26,152,80)\"],[1.0,\"rgb(0,104,55)\"]],\"cmin\":-25343415.9555,\"cmax\":152839155.5871},\"legend\":{\"tracegroupgap\":0},\"margin\":{\"t\":60},\"title\":{\"text\":\"Superstore Profit by State (with Best-Selling Category)\",\"x\":0.5}},                        {\"responsive\": true}                    ).then(function(){\n",
       "                            \n",
       "var gd = document.getElementById('a0d5aa5a-a4a2-4000-b14c-97b17c8d08c9');\n",
       "var x = new MutationObserver(function (mutations, observer) {{\n",
       "        var display = window.getComputedStyle(gd).display;\n",
       "        if (!display || display === 'none') {{\n",
       "            console.log([gd, 'removed!']);\n",
       "            Plotly.purge(gd);\n",
       "            observer.disconnect();\n",
       "        }}\n",
       "}});\n",
       "\n",
       "// Listen for the removal of the full notebook cells\n",
       "var notebookContainer = gd.closest('#notebook-container');\n",
       "if (notebookContainer) {{\n",
       "    x.observe(notebookContainer, {childList: true});\n",
       "}}\n",
       "\n",
       "// Listen for the clearing of the current output cell\n",
       "var outputEl = gd.closest('.output');\n",
       "if (outputEl) {{\n",
       "    x.observe(outputEl, {childList: true});\n",
       "}}\n",
       "\n",
       "                        })                };                });            </script>        </div>"
      ]
     },
     "metadata": {},
     "output_type": "display_data"
    }
   ],
   "source": [
    "import pandas as pd\n",
    "import numpy as np\n",
    "import plotly.express as px\n",
    "\n",
    "# Aggregate total profit and sales by state\n",
    "ss_agg = ss.groupby([\"State\", \"Code\"]).agg(\n",
    "    {\"Profit\": \"sum\", \"Sales\": \"sum\"}\n",
    ").reset_index()\n",
    "\n",
    "# Find the most popular category for each state\n",
    "best_category = ss.groupby([\"State\", \"Category\"])[\"Sales\"].sum().reset_index()\n",
    "best_category = best_category.loc[best_category.groupby(\"State\")[\"Sales\"].idxmax()]\n",
    "best_category = best_category[[\"State\", \"Category\"]].rename(columns={\"Category\": \"Best_Selling_Category\"})\n",
    "\n",
    "# Merge with aggregated state-level data\n",
    "ss_agg = ss_agg.merge(best_category, on=\"State\", how=\"left\")\n",
    "\n",
    "# Create choropleth with best-selling category in hover\n",
    "m_profit = px.choropleth(\n",
    "    ss_agg,\n",
    "    locations=\"Code\",\n",
    "    locationmode=\"USA-states\",\n",
    "    color=\"Profit\",\n",
    "    scope=\"usa\",\n",
    "    hover_name=\"State\",\n",
    "    hover_data=[\"Sales\", \"Best_Selling_Category\"],  # Added best-selling category\n",
    "    color_continuous_scale=\"rdylgn\",\n",
    "    range_color=[ss_agg[\"Profit\"].min(), ss_agg[\"Profit\"].max()]\n",
    ")\n",
    "\n",
    "m_profit.update_layout(\n",
    "    title_text=\"Superstore Profit by State (with Best-Selling Category)\",\n",
    "    title_x=0.5\n",
    ")\n",
    "\n",
    "m_profit.show()\n"
   ]
  },
  {
   "cell_type": "code",
   "execution_count": 149,
   "id": "4bf9b482-5672-4a4b-b246-0cdfd291bad0",
   "metadata": {},
   "outputs": [],
   "source": [
    "m_profit.write_html('m_profit.html')"
   ]
  },
  {
   "cell_type": "code",
   "execution_count": 105,
   "id": "ae9ee07b-eac7-4db7-a8e7-5a8f65185eb0",
   "metadata": {},
   "outputs": [
    {
     "data": {
      "application/vnd.plotly.v1+json": {
       "config": {
        "plotlyServerURL": "https://plot.ly"
       },
       "data": [
        {
         "link": {
          "color": [
           "rgba(102,194,165,0.5)",
           "rgba(102,194,165,0.5)",
           "rgba(102,194,165,0.5)",
           "rgba(102,194,165,0.5)",
           "rgba(102,194,165,0.5)",
           "rgba(102,194,165,0.5)",
           "rgba(102,194,165,0.5)",
           "rgba(102,194,165,0.5)",
           "rgba(102,194,165,0.5)",
           "rgba(102,194,165,0.5)",
           "rgba(102,194,165,0.5)",
           "rgba(102,194,165,0.5)",
           "rgba(102,194,165,0.5)",
           "rgba(252,141,98,0.5)",
           "rgba(252,141,98,0.5)",
           "rgba(252,141,98,0.5)",
           "rgba(252,141,98,0.5)",
           "rgba(252,141,98,0.5)",
           "rgba(252,141,98,0.5)",
           "rgba(252,141,98,0.5)",
           "rgba(252,141,98,0.5)",
           "rgba(252,141,98,0.5)",
           "rgba(252,141,98,0.5)",
           "rgba(252,141,98,0.5)",
           "rgba(252,141,98,0.5)",
           "rgba(252,141,98,0.5)",
           "rgba(252,141,98,0.5)",
           "rgba(141,160,203,0.5)",
           "rgba(141,160,203,0.5)",
           "rgba(141,160,203,0.5)",
           "rgba(141,160,203,0.5)",
           "rgba(141,160,203,0.5)",
           "rgba(141,160,203,0.5)",
           "rgba(141,160,203,0.5)",
           "rgba(141,160,203,0.5)",
           "rgba(141,160,203,0.5)",
           "rgba(141,160,203,0.5)",
           "rgba(141,160,203,0.5)",
           "rgba(231,138,195,0.5)",
           "rgba(231,138,195,0.5)",
           "rgba(231,138,195,0.5)",
           "rgba(231,138,195,0.5)",
           "rgba(231,138,195,0.5)",
           "rgba(231,138,195,0.5)",
           "rgba(231,138,195,0.5)",
           "rgba(231,138,195,0.5)",
           "rgba(231,138,195,0.5)",
           "rgba(231,138,195,0.5)",
           "rgba(231,138,195,0.5)"
          ],
          "customdata": [
           [
            "Central",
            "Illinois",
            -6203080.404
           ],
           [
            "Central",
            "Indiana",
            2739057.5087
           ],
           [
            "Central",
            "Iowa",
            35514.356999999996
           ],
           [
            "Central",
            "Kansas",
            20074.644
           ],
           [
            "Central",
            "Michigan",
            6238112.838
           ],
           [
            "Central",
            "Minnesota",
            963263.6786000001
           ],
           [
            "Central",
            "Missouri",
            424789.893
           ],
           [
            "Central",
            "Nebraska",
            77409.57960000001
           ],
           [
            "Central",
            "North Dakota",
            1611.0479
           ],
           [
            "Central",
            "Oklahoma",
            320361.096
           ],
           [
            "Central",
            "South Dakota",
            4737.9396
           ],
           [
            "Central",
            "Texas",
            -25343415.9555
           ],
           [
            "Central",
            "Wisconsin",
            924198.044
           ],
           [
            "East",
            "Connecticut",
            287942.32759999996
           ],
           [
            "East",
            "Delaware",
            957827.9808
           ],
           [
            "East",
            "District of Columbia",
            10595.892999999998
           ],
           [
            "East",
            "Maine",
            3635.8896
           ],
           [
            "East",
            "Maryland",
            738273.774
           ],
           [
            "East",
            "Massachusetts",
            916042.716
           ],
           [
            "East",
            "New Hampshire",
            46075.5756
           ],
           [
            "East",
            "New Jersey",
            1270478.794
           ],
           [
            "East",
            "New York",
            83515482.82079999
           ],
           [
            "East",
            "Ohio",
            -7959575.6254
           ],
           [
            "East",
            "Pennsylvania",
            -9133696.6961
           ],
           [
            "East",
            "Rhode Island",
            407995.2408
           ],
           [
            "East",
            "Vermont",
            24694.7613
           ],
           [
            "East",
            "West Virginia",
            743.6864
           ],
           [
            "South",
            "Alabama",
            352996.3433
           ],
           [
            "South",
            "Arkansas",
            240521.226
           ],
           [
            "South",
            "Florida",
            -1301932.5511000003
           ],
           [
            "South",
            "Georgia",
            2990007.9672
           ],
           [
            "South",
            "Kentucky",
            1556757.8273999998
           ],
           [
            "South",
            "Louisiana",
            92236.2966
           ],
           [
            "South",
            "Mississippi",
            168167.7386
           ],
           [
            "South",
            "North Carolina",
            -1865237.1378
           ],
           [
            "South",
            "South Carolina",
            74300.37719999999
           ],
           [
            "South",
            "Tennessee",
            -977529.9287999999
           ],
           [
            "South",
            "Virginia",
            4165940.8896000003
           ],
           [
            "West",
            "Arizona",
            -767855.1104
           ],
           [
            "West",
            "California",
            152839155.5871
           ],
           [
            "West",
            "Colorado",
            -1188070.1378
           ],
           [
            "West",
            "Idaho",
            17361.185100000002
           ],
           [
            "West",
            "Montana",
            27499.9275
           ],
           [
            "West",
            "Nevada",
            129353.8701
           ],
           [
            "West",
            "New Mexico",
            42813.295699999995
           ],
           [
            "West",
            "Oregon",
            -147618.34199999998
           ],
           [
            "West",
            "Utah",
            134966.2755
           ],
           [
            "West",
            "Washington",
            16901741.7602
           ],
           [
            "West",
            "Wyoming",
            100.196
           ]
          ],
          "hovertemplate": "Region: %{customdata[0]}<br>State: %{customdata[1]}<br>Profit: $%{customdata[2]:,.2f}<extra></extra>",
          "source": [
           0,
           0,
           0,
           0,
           0,
           0,
           0,
           0,
           0,
           0,
           0,
           0,
           0,
           1,
           1,
           1,
           1,
           1,
           1,
           1,
           1,
           1,
           1,
           1,
           1,
           1,
           1,
           2,
           2,
           2,
           2,
           2,
           2,
           2,
           2,
           2,
           2,
           2,
           3,
           3,
           3,
           3,
           3,
           3,
           3,
           3,
           3,
           3,
           3
          ],
          "target": [
           4,
           5,
           6,
           7,
           8,
           9,
           10,
           11,
           12,
           13,
           14,
           15,
           16,
           17,
           18,
           19,
           20,
           21,
           22,
           23,
           24,
           25,
           26,
           27,
           28,
           29,
           30,
           31,
           32,
           33,
           34,
           35,
           36,
           37,
           38,
           39,
           40,
           41,
           42,
           43,
           44,
           45,
           46,
           47,
           48,
           49,
           50,
           51,
           52
          ],
          "value": [
           -6203080.404,
           2739057.5087,
           35514.356999999996,
           20074.644,
           6238112.838,
           963263.6786000001,
           424789.893,
           77409.57960000001,
           1611.0479,
           320361.096,
           4737.9396,
           -25343415.9555,
           924198.044,
           287942.32759999996,
           957827.9808,
           10595.892999999998,
           3635.8896,
           738273.774,
           916042.716,
           46075.5756,
           1270478.794,
           83515482.82079999,
           -7959575.6254,
           -9133696.6961,
           407995.2408,
           24694.7613,
           743.6864,
           352996.3433,
           240521.226,
           -1301932.5511000003,
           2990007.9672,
           1556757.8273999998,
           92236.2966,
           168167.7386,
           -1865237.1378,
           74300.37719999999,
           -977529.9287999999,
           4165940.8896000003,
           -767855.1104,
           152839155.5871,
           -1188070.1378,
           17361.185100000002,
           27499.9275,
           129353.8701,
           42813.295699999995,
           -147618.34199999998,
           134966.2755,
           16901741.7602,
           100.196
          ]
         },
         "node": {
          "color": [
           "rgb(102,194,165)",
           "rgb(252,141,98)",
           "rgb(141,160,203)",
           "rgb(231,138,195)",
           "gray",
           "gray",
           "gray",
           "gray",
           "gray",
           "gray",
           "gray",
           "gray",
           "gray",
           "gray",
           "gray",
           "gray",
           "gray",
           "gray",
           "gray",
           "gray",
           "gray",
           "gray",
           "gray",
           "gray",
           "gray",
           "gray",
           "gray",
           "gray",
           "gray",
           "gray",
           "gray",
           "gray",
           "gray",
           "gray",
           "gray",
           "gray",
           "gray",
           "gray",
           "gray",
           "gray",
           "gray",
           "gray",
           "gray",
           "gray",
           "gray",
           "gray",
           "gray",
           "gray",
           "gray",
           "gray",
           "gray",
           "gray",
           "gray"
          ],
          "label": [
           "Central",
           "East",
           "South",
           "West",
           "Illinois",
           "Indiana",
           "Iowa",
           "Kansas",
           "Michigan",
           "Minnesota",
           "Missouri",
           "Nebraska",
           "North Dakota",
           "Oklahoma",
           "South Dakota",
           "Texas",
           "Wisconsin",
           "Connecticut",
           "Delaware",
           "District of Columbia",
           "Maine",
           "Maryland",
           "Massachusetts",
           "New Hampshire",
           "New Jersey",
           "New York",
           "Ohio",
           "Pennsylvania",
           "Rhode Island",
           "Vermont",
           "West Virginia",
           "Alabama",
           "Arkansas",
           "Florida",
           "Georgia",
           "Kentucky",
           "Louisiana",
           "Mississippi",
           "North Carolina",
           "South Carolina",
           "Tennessee",
           "Virginia",
           "Arizona",
           "California",
           "Colorado",
           "Idaho",
           "Montana",
           "Nevada",
           "New Mexico",
           "Oregon",
           "Utah",
           "Washington",
           "Wyoming"
          ],
          "line": {
           "color": "black",
           "width": 1
          },
          "pad": 20,
          "thickness": 30
         },
         "type": "sankey"
        }
       ],
       "layout": {
        "font": {
         "size": 14
        },
        "height": 1000,
        "template": {
         "data": {
          "bar": [
           {
            "error_x": {
             "color": "#2a3f5f"
            },
            "error_y": {
             "color": "#2a3f5f"
            },
            "marker": {
             "line": {
              "color": "#E5ECF6",
              "width": 0.5
             },
             "pattern": {
              "fillmode": "overlay",
              "size": 10,
              "solidity": 0.2
             }
            },
            "type": "bar"
           }
          ],
          "barpolar": [
           {
            "marker": {
             "line": {
              "color": "#E5ECF6",
              "width": 0.5
             },
             "pattern": {
              "fillmode": "overlay",
              "size": 10,
              "solidity": 0.2
             }
            },
            "type": "barpolar"
           }
          ],
          "carpet": [
           {
            "aaxis": {
             "endlinecolor": "#2a3f5f",
             "gridcolor": "white",
             "linecolor": "white",
             "minorgridcolor": "white",
             "startlinecolor": "#2a3f5f"
            },
            "baxis": {
             "endlinecolor": "#2a3f5f",
             "gridcolor": "white",
             "linecolor": "white",
             "minorgridcolor": "white",
             "startlinecolor": "#2a3f5f"
            },
            "type": "carpet"
           }
          ],
          "choropleth": [
           {
            "colorbar": {
             "outlinewidth": 0,
             "ticks": ""
            },
            "type": "choropleth"
           }
          ],
          "contour": [
           {
            "colorbar": {
             "outlinewidth": 0,
             "ticks": ""
            },
            "colorscale": [
             [
              0,
              "#0d0887"
             ],
             [
              0.1111111111111111,
              "#46039f"
             ],
             [
              0.2222222222222222,
              "#7201a8"
             ],
             [
              0.3333333333333333,
              "#9c179e"
             ],
             [
              0.4444444444444444,
              "#bd3786"
             ],
             [
              0.5555555555555556,
              "#d8576b"
             ],
             [
              0.6666666666666666,
              "#ed7953"
             ],
             [
              0.7777777777777778,
              "#fb9f3a"
             ],
             [
              0.8888888888888888,
              "#fdca26"
             ],
             [
              1,
              "#f0f921"
             ]
            ],
            "type": "contour"
           }
          ],
          "contourcarpet": [
           {
            "colorbar": {
             "outlinewidth": 0,
             "ticks": ""
            },
            "type": "contourcarpet"
           }
          ],
          "heatmap": [
           {
            "colorbar": {
             "outlinewidth": 0,
             "ticks": ""
            },
            "colorscale": [
             [
              0,
              "#0d0887"
             ],
             [
              0.1111111111111111,
              "#46039f"
             ],
             [
              0.2222222222222222,
              "#7201a8"
             ],
             [
              0.3333333333333333,
              "#9c179e"
             ],
             [
              0.4444444444444444,
              "#bd3786"
             ],
             [
              0.5555555555555556,
              "#d8576b"
             ],
             [
              0.6666666666666666,
              "#ed7953"
             ],
             [
              0.7777777777777778,
              "#fb9f3a"
             ],
             [
              0.8888888888888888,
              "#fdca26"
             ],
             [
              1,
              "#f0f921"
             ]
            ],
            "type": "heatmap"
           }
          ],
          "heatmapgl": [
           {
            "colorbar": {
             "outlinewidth": 0,
             "ticks": ""
            },
            "colorscale": [
             [
              0,
              "#0d0887"
             ],
             [
              0.1111111111111111,
              "#46039f"
             ],
             [
              0.2222222222222222,
              "#7201a8"
             ],
             [
              0.3333333333333333,
              "#9c179e"
             ],
             [
              0.4444444444444444,
              "#bd3786"
             ],
             [
              0.5555555555555556,
              "#d8576b"
             ],
             [
              0.6666666666666666,
              "#ed7953"
             ],
             [
              0.7777777777777778,
              "#fb9f3a"
             ],
             [
              0.8888888888888888,
              "#fdca26"
             ],
             [
              1,
              "#f0f921"
             ]
            ],
            "type": "heatmapgl"
           }
          ],
          "histogram": [
           {
            "marker": {
             "pattern": {
              "fillmode": "overlay",
              "size": 10,
              "solidity": 0.2
             }
            },
            "type": "histogram"
           }
          ],
          "histogram2d": [
           {
            "colorbar": {
             "outlinewidth": 0,
             "ticks": ""
            },
            "colorscale": [
             [
              0,
              "#0d0887"
             ],
             [
              0.1111111111111111,
              "#46039f"
             ],
             [
              0.2222222222222222,
              "#7201a8"
             ],
             [
              0.3333333333333333,
              "#9c179e"
             ],
             [
              0.4444444444444444,
              "#bd3786"
             ],
             [
              0.5555555555555556,
              "#d8576b"
             ],
             [
              0.6666666666666666,
              "#ed7953"
             ],
             [
              0.7777777777777778,
              "#fb9f3a"
             ],
             [
              0.8888888888888888,
              "#fdca26"
             ],
             [
              1,
              "#f0f921"
             ]
            ],
            "type": "histogram2d"
           }
          ],
          "histogram2dcontour": [
           {
            "colorbar": {
             "outlinewidth": 0,
             "ticks": ""
            },
            "colorscale": [
             [
              0,
              "#0d0887"
             ],
             [
              0.1111111111111111,
              "#46039f"
             ],
             [
              0.2222222222222222,
              "#7201a8"
             ],
             [
              0.3333333333333333,
              "#9c179e"
             ],
             [
              0.4444444444444444,
              "#bd3786"
             ],
             [
              0.5555555555555556,
              "#d8576b"
             ],
             [
              0.6666666666666666,
              "#ed7953"
             ],
             [
              0.7777777777777778,
              "#fb9f3a"
             ],
             [
              0.8888888888888888,
              "#fdca26"
             ],
             [
              1,
              "#f0f921"
             ]
            ],
            "type": "histogram2dcontour"
           }
          ],
          "mesh3d": [
           {
            "colorbar": {
             "outlinewidth": 0,
             "ticks": ""
            },
            "type": "mesh3d"
           }
          ],
          "parcoords": [
           {
            "line": {
             "colorbar": {
              "outlinewidth": 0,
              "ticks": ""
             }
            },
            "type": "parcoords"
           }
          ],
          "pie": [
           {
            "automargin": true,
            "type": "pie"
           }
          ],
          "scatter": [
           {
            "fillpattern": {
             "fillmode": "overlay",
             "size": 10,
             "solidity": 0.2
            },
            "type": "scatter"
           }
          ],
          "scatter3d": [
           {
            "line": {
             "colorbar": {
              "outlinewidth": 0,
              "ticks": ""
             }
            },
            "marker": {
             "colorbar": {
              "outlinewidth": 0,
              "ticks": ""
             }
            },
            "type": "scatter3d"
           }
          ],
          "scattercarpet": [
           {
            "marker": {
             "colorbar": {
              "outlinewidth": 0,
              "ticks": ""
             }
            },
            "type": "scattercarpet"
           }
          ],
          "scattergeo": [
           {
            "marker": {
             "colorbar": {
              "outlinewidth": 0,
              "ticks": ""
             }
            },
            "type": "scattergeo"
           }
          ],
          "scattergl": [
           {
            "marker": {
             "colorbar": {
              "outlinewidth": 0,
              "ticks": ""
             }
            },
            "type": "scattergl"
           }
          ],
          "scattermapbox": [
           {
            "marker": {
             "colorbar": {
              "outlinewidth": 0,
              "ticks": ""
             }
            },
            "type": "scattermapbox"
           }
          ],
          "scatterpolar": [
           {
            "marker": {
             "colorbar": {
              "outlinewidth": 0,
              "ticks": ""
             }
            },
            "type": "scatterpolar"
           }
          ],
          "scatterpolargl": [
           {
            "marker": {
             "colorbar": {
              "outlinewidth": 0,
              "ticks": ""
             }
            },
            "type": "scatterpolargl"
           }
          ],
          "scatterternary": [
           {
            "marker": {
             "colorbar": {
              "outlinewidth": 0,
              "ticks": ""
             }
            },
            "type": "scatterternary"
           }
          ],
          "surface": [
           {
            "colorbar": {
             "outlinewidth": 0,
             "ticks": ""
            },
            "colorscale": [
             [
              0,
              "#0d0887"
             ],
             [
              0.1111111111111111,
              "#46039f"
             ],
             [
              0.2222222222222222,
              "#7201a8"
             ],
             [
              0.3333333333333333,
              "#9c179e"
             ],
             [
              0.4444444444444444,
              "#bd3786"
             ],
             [
              0.5555555555555556,
              "#d8576b"
             ],
             [
              0.6666666666666666,
              "#ed7953"
             ],
             [
              0.7777777777777778,
              "#fb9f3a"
             ],
             [
              0.8888888888888888,
              "#fdca26"
             ],
             [
              1,
              "#f0f921"
             ]
            ],
            "type": "surface"
           }
          ],
          "table": [
           {
            "cells": {
             "fill": {
              "color": "#EBF0F8"
             },
             "line": {
              "color": "white"
             }
            },
            "header": {
             "fill": {
              "color": "#C8D4E3"
             },
             "line": {
              "color": "white"
             }
            },
            "type": "table"
           }
          ]
         },
         "layout": {
          "annotationdefaults": {
           "arrowcolor": "#2a3f5f",
           "arrowhead": 0,
           "arrowwidth": 1
          },
          "autotypenumbers": "strict",
          "coloraxis": {
           "colorbar": {
            "outlinewidth": 0,
            "ticks": ""
           }
          },
          "colorscale": {
           "diverging": [
            [
             0,
             "#8e0152"
            ],
            [
             0.1,
             "#c51b7d"
            ],
            [
             0.2,
             "#de77ae"
            ],
            [
             0.3,
             "#f1b6da"
            ],
            [
             0.4,
             "#fde0ef"
            ],
            [
             0.5,
             "#f7f7f7"
            ],
            [
             0.6,
             "#e6f5d0"
            ],
            [
             0.7,
             "#b8e186"
            ],
            [
             0.8,
             "#7fbc41"
            ],
            [
             0.9,
             "#4d9221"
            ],
            [
             1,
             "#276419"
            ]
           ],
           "sequential": [
            [
             0,
             "#0d0887"
            ],
            [
             0.1111111111111111,
             "#46039f"
            ],
            [
             0.2222222222222222,
             "#7201a8"
            ],
            [
             0.3333333333333333,
             "#9c179e"
            ],
            [
             0.4444444444444444,
             "#bd3786"
            ],
            [
             0.5555555555555556,
             "#d8576b"
            ],
            [
             0.6666666666666666,
             "#ed7953"
            ],
            [
             0.7777777777777778,
             "#fb9f3a"
            ],
            [
             0.8888888888888888,
             "#fdca26"
            ],
            [
             1,
             "#f0f921"
            ]
           ],
           "sequentialminus": [
            [
             0,
             "#0d0887"
            ],
            [
             0.1111111111111111,
             "#46039f"
            ],
            [
             0.2222222222222222,
             "#7201a8"
            ],
            [
             0.3333333333333333,
             "#9c179e"
            ],
            [
             0.4444444444444444,
             "#bd3786"
            ],
            [
             0.5555555555555556,
             "#d8576b"
            ],
            [
             0.6666666666666666,
             "#ed7953"
            ],
            [
             0.7777777777777778,
             "#fb9f3a"
            ],
            [
             0.8888888888888888,
             "#fdca26"
            ],
            [
             1,
             "#f0f921"
            ]
           ]
          },
          "colorway": [
           "#636efa",
           "#EF553B",
           "#00cc96",
           "#ab63fa",
           "#FFA15A",
           "#19d3f3",
           "#FF6692",
           "#B6E880",
           "#FF97FF",
           "#FECB52"
          ],
          "font": {
           "color": "#2a3f5f"
          },
          "geo": {
           "bgcolor": "white",
           "lakecolor": "white",
           "landcolor": "#E5ECF6",
           "showlakes": true,
           "showland": true,
           "subunitcolor": "white"
          },
          "hoverlabel": {
           "align": "left"
          },
          "hovermode": "closest",
          "mapbox": {
           "style": "light"
          },
          "paper_bgcolor": "white",
          "plot_bgcolor": "#E5ECF6",
          "polar": {
           "angularaxis": {
            "gridcolor": "white",
            "linecolor": "white",
            "ticks": ""
           },
           "bgcolor": "#E5ECF6",
           "radialaxis": {
            "gridcolor": "white",
            "linecolor": "white",
            "ticks": ""
           }
          },
          "scene": {
           "xaxis": {
            "backgroundcolor": "#E5ECF6",
            "gridcolor": "white",
            "gridwidth": 2,
            "linecolor": "white",
            "showbackground": true,
            "ticks": "",
            "zerolinecolor": "white"
           },
           "yaxis": {
            "backgroundcolor": "#E5ECF6",
            "gridcolor": "white",
            "gridwidth": 2,
            "linecolor": "white",
            "showbackground": true,
            "ticks": "",
            "zerolinecolor": "white"
           },
           "zaxis": {
            "backgroundcolor": "#E5ECF6",
            "gridcolor": "white",
            "gridwidth": 2,
            "linecolor": "white",
            "showbackground": true,
            "ticks": "",
            "zerolinecolor": "white"
           }
          },
          "shapedefaults": {
           "line": {
            "color": "#2a3f5f"
           }
          },
          "ternary": {
           "aaxis": {
            "gridcolor": "white",
            "linecolor": "white",
            "ticks": ""
           },
           "baxis": {
            "gridcolor": "white",
            "linecolor": "white",
            "ticks": ""
           },
           "bgcolor": "#E5ECF6",
           "caxis": {
            "gridcolor": "white",
            "linecolor": "white",
            "ticks": ""
           }
          },
          "title": {
           "x": 0.05
          },
          "xaxis": {
           "automargin": true,
           "gridcolor": "white",
           "linecolor": "white",
           "ticks": "",
           "title": {
            "standoff": 15
           },
           "zerolinecolor": "white",
           "zerolinewidth": 2
          },
          "yaxis": {
           "automargin": true,
           "gridcolor": "white",
           "linecolor": "white",
           "ticks": "",
           "title": {
            "standoff": 15
           },
           "zerolinecolor": "white",
           "zerolinewidth": 2
          }
         }
        },
        "title": {
         "text": "Superstore Profit Flow (Region → State) with Colored Links"
        },
        "width": 1000
       }
      },
      "image/png": "[encoded data removed]",
      "text/html": [
       "<div>                            <div id=\"58f10879-28f0-4716-a4fe-280559f2bf45\" class=\"plotly-graph-div\" style=\"height:1000px; width:1000px;\"></div>            <script type=\"text/javascript\">                require([\"plotly\"], function(Plotly) {                    window.PLOTLYENV=window.PLOTLYENV || {};                                    if (document.getElementById(\"58f10879-28f0-4716-a4fe-280559f2bf45\")) {                    Plotly.newPlot(                        \"58f10879-28f0-4716-a4fe-280559f2bf45\",                        [{\"link\":{\"color\":[\"rgba(102,194,165,0.5)\",\"rgba(102,194,165,0.5)\",\"rgba(102,194,165,0.5)\",\"rgba(102,194,165,0.5)\",\"rgba(102,194,165,0.5)\",\"rgba(102,194,165,0.5)\",\"rgba(102,194,165,0.5)\",\"rgba(102,194,165,0.5)\",\"rgba(102,194,165,0.5)\",\"rgba(102,194,165,0.5)\",\"rgba(102,194,165,0.5)\",\"rgba(102,194,165,0.5)\",\"rgba(102,194,165,0.5)\",\"rgba(252,141,98,0.5)\",\"rgba(252,141,98,0.5)\",\"rgba(252,141,98,0.5)\",\"rgba(252,141,98,0.5)\",\"rgba(252,141,98,0.5)\",\"rgba(252,141,98,0.5)\",\"rgba(252,141,98,0.5)\",\"rgba(252,141,98,0.5)\",\"rgba(252,141,98,0.5)\",\"rgba(252,141,98,0.5)\",\"rgba(252,141,98,0.5)\",\"rgba(252,141,98,0.5)\",\"rgba(252,141,98,0.5)\",\"rgba(252,141,98,0.5)\",\"rgba(141,160,203,0.5)\",\"rgba(141,160,203,0.5)\",\"rgba(141,160,203,0.5)\",\"rgba(141,160,203,0.5)\",\"rgba(141,160,203,0.5)\",\"rgba(141,160,203,0.5)\",\"rgba(141,160,203,0.5)\",\"rgba(141,160,203,0.5)\",\"rgba(141,160,203,0.5)\",\"rgba(141,160,203,0.5)\",\"rgba(141,160,203,0.5)\",\"rgba(231,138,195,0.5)\",\"rgba(231,138,195,0.5)\",\"rgba(231,138,195,0.5)\",\"rgba(231,138,195,0.5)\",\"rgba(231,138,195,0.5)\",\"rgba(231,138,195,0.5)\",\"rgba(231,138,195,0.5)\",\"rgba(231,138,195,0.5)\",\"rgba(231,138,195,0.5)\",\"rgba(231,138,195,0.5)\",\"rgba(231,138,195,0.5)\"],\"customdata\":[[\"Central\",\"Illinois\",-6203080.404],[\"Central\",\"Indiana\",2739057.5087],[\"Central\",\"Iowa\",35514.356999999996],[\"Central\",\"Kansas\",20074.644],[\"Central\",\"Michigan\",6238112.838],[\"Central\",\"Minnesota\",963263.6786000001],[\"Central\",\"Missouri\",424789.893],[\"Central\",\"Nebraska\",77409.57960000001],[\"Central\",\"North Dakota\",1611.0479],[\"Central\",\"Oklahoma\",320361.096],[\"Central\",\"South Dakota\",4737.9396],[\"Central\",\"Texas\",-25343415.9555],[\"Central\",\"Wisconsin\",924198.044],[\"East\",\"Connecticut\",287942.32759999996],[\"East\",\"Delaware\",957827.9808],[\"East\",\"District of Columbia\",10595.892999999998],[\"East\",\"Maine\",3635.8896],[\"East\",\"Maryland\",738273.774],[\"East\",\"Massachusetts\",916042.716],[\"East\",\"New Hampshire\",46075.5756],[\"East\",\"New Jersey\",1270478.794],[\"East\",\"New York\",83515482.82079999],[\"East\",\"Ohio\",-7959575.6254],[\"East\",\"Pennsylvania\",-9133696.6961],[\"East\",\"Rhode Island\",407995.2408],[\"East\",\"Vermont\",24694.7613],[\"East\",\"West Virginia\",743.6864],[\"South\",\"Alabama\",352996.3433],[\"South\",\"Arkansas\",240521.226],[\"South\",\"Florida\",-1301932.5511000003],[\"South\",\"Georgia\",2990007.9672],[\"South\",\"Kentucky\",1556757.8273999998],[\"South\",\"Louisiana\",92236.2966],[\"South\",\"Mississippi\",168167.7386],[\"South\",\"North Carolina\",-1865237.1378],[\"South\",\"South Carolina\",74300.37719999999],[\"South\",\"Tennessee\",-977529.9287999999],[\"South\",\"Virginia\",4165940.8896000003],[\"West\",\"Arizona\",-767855.1104],[\"West\",\"California\",152839155.5871],[\"West\",\"Colorado\",-1188070.1378],[\"West\",\"Idaho\",17361.185100000002],[\"West\",\"Montana\",27499.9275],[\"West\",\"Nevada\",129353.8701],[\"West\",\"New Mexico\",42813.295699999995],[\"West\",\"Oregon\",-147618.34199999998],[\"West\",\"Utah\",134966.2755],[\"West\",\"Washington\",16901741.7602],[\"West\",\"Wyoming\",100.196]],\"hovertemplate\":\"Region: %{customdata[0]}\\u003cbr\\u003eState: %{customdata[1]}\\u003cbr\\u003eProfit: $%{customdata[2]:,.2f}\\u003cextra\\u003e\\u003c\\u002fextra\\u003e\",\"source\":[0,0,0,0,0,0,0,0,0,0,0,0,0,1,1,1,1,1,1,1,1,1,1,1,1,1,1,2,2,2,2,2,2,2,2,2,2,2,3,3,3,3,3,3,3,3,3,3,3],\"target\":[4,5,6,7,8,9,10,11,12,13,14,15,16,17,18,19,20,21,22,23,24,25,26,27,28,29,30,31,32,33,34,35,36,37,38,39,40,41,42,43,44,45,46,47,48,49,50,51,52],\"value\":[-6203080.404,2739057.5087,35514.356999999996,20074.644,6238112.838,963263.6786000001,424789.893,77409.57960000001,1611.0479,320361.096,4737.9396,-25343415.9555,924198.044,287942.32759999996,957827.9808,10595.892999999998,3635.8896,738273.774,916042.716,46075.5756,1270478.794,83515482.82079999,-7959575.6254,-9133696.6961,407995.2408,24694.7613,743.6864,352996.3433,240521.226,-1301932.5511000003,2990007.9672,1556757.8273999998,92236.2966,168167.7386,-1865237.1378,74300.37719999999,-977529.9287999999,4165940.8896000003,-767855.1104,152839155.5871,-1188070.1378,17361.185100000002,27499.9275,129353.8701,42813.295699999995,-147618.34199999998,134966.2755,16901741.7602,100.196]},\"node\":{\"color\":[\"rgb(102,194,165)\",\"rgb(252,141,98)\",\"rgb(141,160,203)\",\"rgb(231,138,195)\",\"gray\",\"gray\",\"gray\",\"gray\",\"gray\",\"gray\",\"gray\",\"gray\",\"gray\",\"gray\",\"gray\",\"gray\",\"gray\",\"gray\",\"gray\",\"gray\",\"gray\",\"gray\",\"gray\",\"gray\",\"gray\",\"gray\",\"gray\",\"gray\",\"gray\",\"gray\",\"gray\",\"gray\",\"gray\",\"gray\",\"gray\",\"gray\",\"gray\",\"gray\",\"gray\",\"gray\",\"gray\",\"gray\",\"gray\",\"gray\",\"gray\",\"gray\",\"gray\",\"gray\",\"gray\",\"gray\",\"gray\",\"gray\",\"gray\"],\"label\":[\"Central\",\"East\",\"South\",\"West\",\"Illinois\",\"Indiana\",\"Iowa\",\"Kansas\",\"Michigan\",\"Minnesota\",\"Missouri\",\"Nebraska\",\"North Dakota\",\"Oklahoma\",\"South Dakota\",\"Texas\",\"Wisconsin\",\"Connecticut\",\"Delaware\",\"District of Columbia\",\"Maine\",\"Maryland\",\"Massachusetts\",\"New Hampshire\",\"New Jersey\",\"New York\",\"Ohio\",\"Pennsylvania\",\"Rhode Island\",\"Vermont\",\"West Virginia\",\"Alabama\",\"Arkansas\",\"Florida\",\"Georgia\",\"Kentucky\",\"Louisiana\",\"Mississippi\",\"North Carolina\",\"South Carolina\",\"Tennessee\",\"Virginia\",\"Arizona\",\"California\",\"Colorado\",\"Idaho\",\"Montana\",\"Nevada\",\"New Mexico\",\"Oregon\",\"Utah\",\"Washington\",\"Wyoming\"],\"line\":{\"color\":\"black\",\"width\":1},\"pad\":20,\"thickness\":30},\"type\":\"sankey\"}],                        {\"template\":{\"data\":{\"histogram2dcontour\":[{\"type\":\"histogram2dcontour\",\"colorbar\":{\"outlinewidth\":0,\"ticks\":\"\"},\"colorscale\":[[0.0,\"#0d0887\"],[0.1111111111111111,\"#46039f\"],[0.2222222222222222,\"#7201a8\"],[0.3333333333333333,\"#9c179e\"],[0.4444444444444444,\"#bd3786\"],[0.5555555555555556,\"#d8576b\"],[0.6666666666666666,\"#ed7953\"],[0.7777777777777778,\"#fb9f3a\"],[0.8888888888888888,\"#fdca26\"],[1.0,\"#f0f921\"]]}],\"choropleth\":[{\"type\":\"choropleth\",\"colorbar\":{\"outlinewidth\":0,\"ticks\":\"\"}}],\"histogram2d\":[{\"type\":\"histogram2d\",\"colorbar\":{\"outlinewidth\":0,\"ticks\":\"\"},\"colorscale\":[[0.0,\"#0d0887\"],[0.1111111111111111,\"#46039f\"],[0.2222222222222222,\"#7201a8\"],[0.3333333333333333,\"#9c179e\"],[0.4444444444444444,\"#bd3786\"],[0.5555555555555556,\"#d8576b\"],[0.6666666666666666,\"#ed7953\"],[0.7777777777777778,\"#fb9f3a\"],[0.8888888888888888,\"#fdca26\"],[1.0,\"#f0f921\"]]}],\"heatmap\":[{\"type\":\"heatmap\",\"colorbar\":{\"outlinewidth\":0,\"ticks\":\"\"},\"colorscale\":[[0.0,\"#0d0887\"],[0.1111111111111111,\"#46039f\"],[0.2222222222222222,\"#7201a8\"],[0.3333333333333333,\"#9c179e\"],[0.4444444444444444,\"#bd3786\"],[0.5555555555555556,\"#d8576b\"],[0.6666666666666666,\"#ed7953\"],[0.7777777777777778,\"#fb9f3a\"],[0.8888888888888888,\"#fdca26\"],[1.0,\"#f0f921\"]]}],\"heatmapgl\":[{\"type\":\"heatmapgl\",\"colorbar\":{\"outlinewidth\":0,\"ticks\":\"\"},\"colorscale\":[[0.0,\"#0d0887\"],[0.1111111111111111,\"#46039f\"],[0.2222222222222222,\"#7201a8\"],[0.3333333333333333,\"#9c179e\"],[0.4444444444444444,\"#bd3786\"],[0.5555555555555556,\"#d8576b\"],[0.6666666666666666,\"#ed7953\"],[0.7777777777777778,\"#fb9f3a\"],[0.8888888888888888,\"#fdca26\"],[1.0,\"#f0f921\"]]}],\"contourcarpet\":[{\"type\":\"contourcarpet\",\"colorbar\":{\"outlinewidth\":0,\"ticks\":\"\"}}],\"contour\":[{\"type\":\"contour\",\"colorbar\":{\"outlinewidth\":0,\"ticks\":\"\"},\"colorscale\":[[0.0,\"#0d0887\"],[0.1111111111111111,\"#46039f\"],[0.2222222222222222,\"#7201a8\"],[0.3333333333333333,\"#9c179e\"],[0.4444444444444444,\"#bd3786\"],[0.5555555555555556,\"#d8576b\"],[0.6666666666666666,\"#ed7953\"],[0.7777777777777778,\"#fb9f3a\"],[0.8888888888888888,\"#fdca26\"],[1.0,\"#f0f921\"]]}],\"surface\":[{\"type\":\"surface\",\"colorbar\":{\"outlinewidth\":0,\"ticks\":\"\"},\"colorscale\":[[0.0,\"#0d0887\"],[0.1111111111111111,\"#46039f\"],[0.2222222222222222,\"#7201a8\"],[0.3333333333333333,\"#9c179e\"],[0.4444444444444444,\"#bd3786\"],[0.5555555555555556,\"#d8576b\"],[0.6666666666666666,\"#ed7953\"],[0.7777777777777778,\"#fb9f3a\"],[0.8888888888888888,\"#fdca26\"],[1.0,\"#f0f921\"]]}],\"mesh3d\":[{\"type\":\"mesh3d\",\"colorbar\":{\"outlinewidth\":0,\"ticks\":\"\"}}],\"scatter\":[{\"fillpattern\":{\"fillmode\":\"overlay\",\"size\":10,\"solidity\":0.2},\"type\":\"scatter\"}],\"parcoords\":[{\"type\":\"parcoords\",\"line\":{\"colorbar\":{\"outlinewidth\":0,\"ticks\":\"\"}}}],\"scatterpolargl\":[{\"type\":\"scatterpolargl\",\"marker\":{\"colorbar\":{\"outlinewidth\":0,\"ticks\":\"\"}}}],\"bar\":[{\"error_x\":{\"color\":\"#2a3f5f\"},\"error_y\":{\"color\":\"#2a3f5f\"},\"marker\":{\"line\":{\"color\":\"#E5ECF6\",\"width\":0.5},\"pattern\":{\"fillmode\":\"overlay\",\"size\":10,\"solidity\":0.2}},\"type\":\"bar\"}],\"scattergeo\":[{\"type\":\"scattergeo\",\"marker\":{\"colorbar\":{\"outlinewidth\":0,\"ticks\":\"\"}}}],\"scatterpolar\":[{\"type\":\"scatterpolar\",\"marker\":{\"colorbar\":{\"outlinewidth\":0,\"ticks\":\"\"}}}],\"histogram\":[{\"marker\":{\"pattern\":{\"fillmode\":\"overlay\",\"size\":10,\"solidity\":0.2}},\"type\":\"histogram\"}],\"scattergl\":[{\"type\":\"scattergl\",\"marker\":{\"colorbar\":{\"outlinewidth\":0,\"ticks\":\"\"}}}],\"scatter3d\":[{\"type\":\"scatter3d\",\"line\":{\"colorbar\":{\"outlinewidth\":0,\"ticks\":\"\"}},\"marker\":{\"colorbar\":{\"outlinewidth\":0,\"ticks\":\"\"}}}],\"scattermapbox\":[{\"type\":\"scattermapbox\",\"marker\":{\"colorbar\":{\"outlinewidth\":0,\"ticks\":\"\"}}}],\"scatterternary\":[{\"type\":\"scatterternary\",\"marker\":{\"colorbar\":{\"outlinewidth\":0,\"ticks\":\"\"}}}],\"scattercarpet\":[{\"type\":\"scattercarpet\",\"marker\":{\"colorbar\":{\"outlinewidth\":0,\"ticks\":\"\"}}}],\"carpet\":[{\"aaxis\":{\"endlinecolor\":\"#2a3f5f\",\"gridcolor\":\"white\",\"linecolor\":\"white\",\"minorgridcolor\":\"white\",\"startlinecolor\":\"#2a3f5f\"},\"baxis\":{\"endlinecolor\":\"#2a3f5f\",\"gridcolor\":\"white\",\"linecolor\":\"white\",\"minorgridcolor\":\"white\",\"startlinecolor\":\"#2a3f5f\"},\"type\":\"carpet\"}],\"table\":[{\"cells\":{\"fill\":{\"color\":\"#EBF0F8\"},\"line\":{\"color\":\"white\"}},\"header\":{\"fill\":{\"color\":\"#C8D4E3\"},\"line\":{\"color\":\"white\"}},\"type\":\"table\"}],\"barpolar\":[{\"marker\":{\"line\":{\"color\":\"#E5ECF6\",\"width\":0.5},\"pattern\":{\"fillmode\":\"overlay\",\"size\":10,\"solidity\":0.2}},\"type\":\"barpolar\"}],\"pie\":[{\"automargin\":true,\"type\":\"pie\"}]},\"layout\":{\"autotypenumbers\":\"strict\",\"colorway\":[\"#636efa\",\"#EF553B\",\"#00cc96\",\"#ab63fa\",\"#FFA15A\",\"#19d3f3\",\"#FF6692\",\"#B6E880\",\"#FF97FF\",\"#FECB52\"],\"font\":{\"color\":\"#2a3f5f\"},\"hovermode\":\"closest\",\"hoverlabel\":{\"align\":\"left\"},\"paper_bgcolor\":\"white\",\"plot_bgcolor\":\"#E5ECF6\",\"polar\":{\"bgcolor\":\"#E5ECF6\",\"angularaxis\":{\"gridcolor\":\"white\",\"linecolor\":\"white\",\"ticks\":\"\"},\"radialaxis\":{\"gridcolor\":\"white\",\"linecolor\":\"white\",\"ticks\":\"\"}},\"ternary\":{\"bgcolor\":\"#E5ECF6\",\"aaxis\":{\"gridcolor\":\"white\",\"linecolor\":\"white\",\"ticks\":\"\"},\"baxis\":{\"gridcolor\":\"white\",\"linecolor\":\"white\",\"ticks\":\"\"},\"caxis\":{\"gridcolor\":\"white\",\"linecolor\":\"white\",\"ticks\":\"\"}},\"coloraxis\":{\"colorbar\":{\"outlinewidth\":0,\"ticks\":\"\"}},\"colorscale\":{\"sequential\":[[0.0,\"#0d0887\"],[0.1111111111111111,\"#46039f\"],[0.2222222222222222,\"#7201a8\"],[0.3333333333333333,\"#9c179e\"],[0.4444444444444444,\"#bd3786\"],[0.5555555555555556,\"#d8576b\"],[0.6666666666666666,\"#ed7953\"],[0.7777777777777778,\"#fb9f3a\"],[0.8888888888888888,\"#fdca26\"],[1.0,\"#f0f921\"]],\"sequentialminus\":[[0.0,\"#0d0887\"],[0.1111111111111111,\"#46039f\"],[0.2222222222222222,\"#7201a8\"],[0.3333333333333333,\"#9c179e\"],[0.4444444444444444,\"#bd3786\"],[0.5555555555555556,\"#d8576b\"],[0.6666666666666666,\"#ed7953\"],[0.7777777777777778,\"#fb9f3a\"],[0.8888888888888888,\"#fdca26\"],[1.0,\"#f0f921\"]],\"diverging\":[[0,\"#8e0152\"],[0.1,\"#c51b7d\"],[0.2,\"#de77ae\"],[0.3,\"#f1b6da\"],[0.4,\"#fde0ef\"],[0.5,\"#f7f7f7\"],[0.6,\"#e6f5d0\"],[0.7,\"#b8e186\"],[0.8,\"#7fbc41\"],[0.9,\"#4d9221\"],[1,\"#276419\"]]},\"xaxis\":{\"gridcolor\":\"white\",\"linecolor\":\"white\",\"ticks\":\"\",\"title\":{\"standoff\":15},\"zerolinecolor\":\"white\",\"automargin\":true,\"zerolinewidth\":2},\"yaxis\":{\"gridcolor\":\"white\",\"linecolor\":\"white\",\"ticks\":\"\",\"title\":{\"standoff\":15},\"zerolinecolor\":\"white\",\"automargin\":true,\"zerolinewidth\":2},\"scene\":{\"xaxis\":{\"backgroundcolor\":\"#E5ECF6\",\"gridcolor\":\"white\",\"linecolor\":\"white\",\"showbackground\":true,\"ticks\":\"\",\"zerolinecolor\":\"white\",\"gridwidth\":2},\"yaxis\":{\"backgroundcolor\":\"#E5ECF6\",\"gridcolor\":\"white\",\"linecolor\":\"white\",\"showbackground\":true,\"ticks\":\"\",\"zerolinecolor\":\"white\",\"gridwidth\":2},\"zaxis\":{\"backgroundcolor\":\"#E5ECF6\",\"gridcolor\":\"white\",\"linecolor\":\"white\",\"showbackground\":true,\"ticks\":\"\",\"zerolinecolor\":\"white\",\"gridwidth\":2}},\"shapedefaults\":{\"line\":{\"color\":\"#2a3f5f\"}},\"annotationdefaults\":{\"arrowcolor\":\"#2a3f5f\",\"arrowhead\":0,\"arrowwidth\":1},\"geo\":{\"bgcolor\":\"white\",\"landcolor\":\"#E5ECF6\",\"subunitcolor\":\"white\",\"showland\":true,\"showlakes\":true,\"lakecolor\":\"white\"},\"title\":{\"x\":0.05},\"mapbox\":{\"style\":\"light\"}}},\"title\":{\"text\":\"Superstore Profit Flow (Region \\u2192 State) with Colored Links\"},\"font\":{\"size\":14},\"width\":1000,\"height\":1000},                        {\"responsive\": true}                    ).then(function(){\n",
       "                            \n",
       "var gd = document.getElementById('58f10879-28f0-4716-a4fe-280559f2bf45');\n",
       "var x = new MutationObserver(function (mutations, observer) {{\n",
       "        var display = window.getComputedStyle(gd).display;\n",
       "        if (!display || display === 'none') {{\n",
       "            console.log([gd, 'removed!']);\n",
       "            Plotly.purge(gd);\n",
       "            observer.disconnect();\n",
       "        }}\n",
       "}});\n",
       "\n",
       "// Listen for the removal of the full notebook cells\n",
       "var notebookContainer = gd.closest('#notebook-container');\n",
       "if (notebookContainer) {{\n",
       "    x.observe(notebookContainer, {childList: true});\n",
       "}}\n",
       "\n",
       "// Listen for the clearing of the current output cell\n",
       "var outputEl = gd.closest('.output');\n",
       "if (outputEl) {{\n",
       "    x.observe(outputEl, {childList: true});\n",
       "}}\n",
       "\n",
       "                        })                };                });            </script>        </div>"
      ]
     },
     "metadata": {},
     "output_type": "display_data"
    }
   ],
   "source": [
    "import pandas as pd\n",
    "import plotly.graph_objects as go\n",
    "import plotly.colors as pc\n",
    "\n",
    "\n",
    "\n",
    "# Group by Region → State and sum the Profit\n",
    "grouped = ss.groupby([\"Region\", \"State\"])[\"Profit\"].sum().reset_index()\n",
    "\n",
    "# Get unique regions and states\n",
    "unique_regions = grouped[\"Region\"].unique()\n",
    "\n",
    "# Assign distinct colors to each region\n",
    "region_colors = pc.qualitative.Set2[:len(unique_regions)]  # Pick distinct colors\n",
    "region_color_dict = {region: region_colors[i] for i, region in enumerate(unique_regions)}\n",
    "\n",
    "# Create label mappings\n",
    "all_labels = pd.concat([grouped[\"Region\"], grouped[\"State\"]]).unique()\n",
    "label_dict = {label: i for i, label in enumerate(all_labels)}\n",
    "\n",
    "# Map labels to indices\n",
    "grouped[\"region_idx\"] = grouped[\"Region\"].map(label_dict)\n",
    "grouped[\"state_idx\"] = grouped[\"State\"].map(label_dict)\n",
    "\n",
    "# Convert RGB colors to RGBA with transparency for links\n",
    "def rgb_to_rgba(rgb_str, alpha=0.5):\n",
    "    rgb_values = rgb_str[rgb_str.find(\"(\")+1:rgb_str.find(\")\")].split(\",\")  # Extract numbers\n",
    "    return f\"rgba({rgb_values[0]},{rgb_values[1]},{rgb_values[2]},{alpha})\"\n",
    "\n",
    "# Assign node colors\n",
    "node_colors = [region_color_dict.get(label, \"gray\") for label in label_dict.keys()]\n",
    "\n",
    "# Assign link colors (RGBA versions of region colors)\n",
    "link_colors = [rgb_to_rgba(region_color_dict[region], alpha=0.5) for region in grouped[\"Region\"]]\n",
    "\n",
    "# Create Sankey diagram with colored links\n",
    "fig = go.Figure(data=[go.Sankey(\n",
    "    node=dict(\n",
    "        pad=20,\n",
    "        thickness=30,\n",
    "        line=dict(color=\"black\", width=1),\n",
    "        label=list(label_dict.keys()),\n",
    "        color=node_colors  # Assigning node colors\n",
    "    ),\n",
    "    link=dict(\n",
    "        source=grouped[\"region_idx\"].tolist(),\n",
    "        target=grouped[\"state_idx\"].tolist(),\n",
    "        value=grouped[\"Profit\"].tolist(),\n",
    "        color=link_colors,  # Assigning fixed link colors\n",
    "        customdata=grouped[[\"Region\", \"State\", \"Profit\"]].values,\n",
    "        hovertemplate=(\n",
    "            \"Region: %{customdata[0]}<br>\"\n",
    "            \"State: %{customdata[1]}<br>\"\n",
    "            \"Profit: $%{customdata[2]:,.2f}<extra></extra>\"\n",
    "        )\n",
    "    )\n",
    ")])\n",
    "\n",
    "# Update layout for better visibility\n",
    "fig.update_layout(\n",
    "    title_text=\"Superstore Profit Flow (Region → State) with Colored Links\",\n",
    "    font_size=14,\n",
    "    width=1000,\n",
    "    height=1000,\n",
    ")\n",
    "\n",
    "fig.show()\n"
   ]
  },
  {
   "cell_type": "code",
   "execution_count": null,
   "id": "fd5adef1-e7d9-4c8b-b34d-649d2bad34a6",
   "metadata": {},
   "outputs": [],
   "source": []
  }
 ],
 "metadata": {
  "kernelspec": {
   "display_name": "Python 3 (ipykernel)",
   "language": "python",
   "name": "python3"
  },
  "language_info": {
   "codemirror_mode": {
    "name": "ipython",
    "version": 3
   },
   "file_extension": ".py",
   "mimetype": "text/x-python",
   "name": "python",
   "nbconvert_exporter": "python",
   "pygments_lexer": "ipython3",
   "version": "3.12.7"
  }
 },
 "nbformat": 4,
 "nbformat_minor": 5
}
